{
 "cells": [
  {
   "cell_type": "markdown",
   "metadata": {},
   "source": [
    "# Aula 1 - Python - Introdução:"
   ]
  },
  {
   "cell_type": "code",
   "execution_count": 1,
   "metadata": {},
   "outputs": [],
   "source": [
    "nome_1 = \"José da Silva\""
   ]
  },
  {
   "cell_type": "code",
   "execution_count": 2,
   "metadata": {},
   "outputs": [],
   "source": [
    "idade = 30"
   ]
  },
  {
   "cell_type": "code",
   "execution_count": 3,
   "metadata": {},
   "outputs": [
    {
     "name": "stdout",
     "output_type": "stream",
     "text": [
      "nome_1 +  + idade\n"
     ]
    }
   ],
   "source": [
    "print(\"nome_1 + \" \" + idade\")"
   ]
  },
  {
   "cell_type": "code",
   "execution_count": 4,
   "metadata": {},
   "outputs": [
    {
     "name": "stdout",
     "output_type": "stream",
     "text": [
      "José da Silva 30\n"
     ]
    }
   ],
   "source": [
    "print(nome_1 + \" \" + str(30))"
   ]
  },
  {
   "cell_type": "code",
   "execution_count": 5,
   "metadata": {},
   "outputs": [],
   "source": [
    "nome_2 = \"Fábio Jacob\""
   ]
  },
  {
   "cell_type": "code",
   "execution_count": 6,
   "metadata": {},
   "outputs": [],
   "source": [
    "idade = 45"
   ]
  },
  {
   "cell_type": "code",
   "execution_count": 7,
   "metadata": {},
   "outputs": [
    {
     "name": "stdout",
     "output_type": "stream",
     "text": [
      "Fábio Jacob 45\n"
     ]
    }
   ],
   "source": [
    "print(nome_2 + \" \" + str(45))"
   ]
  },
  {
   "cell_type": "code",
   "execution_count": 8,
   "metadata": {},
   "outputs": [
    {
     "data": {
      "text/plain": [
       "3.1415"
      ]
     },
     "execution_count": 8,
     "metadata": {},
     "output_type": "execute_result"
    }
   ],
   "source": [
    "pi = 3.1415\n",
    "pi"
   ]
  },
  {
   "cell_type": "code",
   "execution_count": 9,
   "metadata": {},
   "outputs": [
    {
     "name": "stdout",
     "output_type": "stream",
     "text": [
      "Valor de pi = 3.1415\n"
     ]
    }
   ],
   "source": [
    "print(\"Valor de pi = %s\"%(pi))"
   ]
  },
  {
   "cell_type": "code",
   "execution_count": 10,
   "metadata": {},
   "outputs": [
    {
     "name": "stdout",
     "output_type": "stream",
     "text": [
      "Idade Fábio = 45\n"
     ]
    }
   ],
   "source": [
    "print(\"Idade Fábio = %s\"%(idade))"
   ]
  },
  {
   "cell_type": "code",
   "execution_count": 11,
   "metadata": {},
   "outputs": [
    {
     "name": "stdout",
     "output_type": "stream",
     "text": [
      "O primeiro valor é 1, o segundo valor é 2, o terceiro valor é 3\n"
     ]
    }
   ],
   "source": [
    "print(\"O primeiro valor é %s, o segundo valor é %s, o terceiro valor é %s\"%(1,2,3))"
   ]
  },
  {
   "cell_type": "code",
   "execution_count": 12,
   "metadata": {},
   "outputs": [
    {
     "name": "stdout",
     "output_type": "stream",
     "text": [
      "A idade de Fábio Jacob é 45\n"
     ]
    }
   ],
   "source": [
    "print(\"A idade de Fábio Jacob é %s\"%(idade))"
   ]
  },
  {
   "cell_type": "code",
   "execution_count": 13,
   "metadata": {},
   "outputs": [
    {
     "name": "stdout",
     "output_type": "stream",
     "text": [
      "A idade de Fábio Jacob é 45 anos\n"
     ]
    }
   ],
   "source": [
    "print(\"A idade de Fábio Jacob é %s anos\"%(idade))"
   ]
  },
  {
   "cell_type": "code",
   "execution_count": 14,
   "metadata": {},
   "outputs": [
    {
     "name": "stdout",
     "output_type": "stream",
     "text": [
      "Valor de pi = 3.142\n"
     ]
    }
   ],
   "source": [
    "print(\"Valor de pi = %1.3f\"%(pi))"
   ]
  },
  {
   "cell_type": "code",
   "execution_count": 15,
   "metadata": {},
   "outputs": [
    {
     "name": "stdout",
     "output_type": "stream",
     "text": [
      "Valor de pi = 3.1415\n"
     ]
    }
   ],
   "source": [
    "print(\"Valor de pi = %2.4f\"%(pi))"
   ]
  },
  {
   "cell_type": "code",
   "execution_count": 16,
   "metadata": {},
   "outputs": [
    {
     "name": "stdout",
     "output_type": "stream",
     "text": [
      "Valor de pi = 3.14\n"
     ]
    }
   ],
   "source": [
    "print(\"Valor de pi = %1.2f\"%(pi))"
   ]
  },
  {
   "cell_type": "code",
   "execution_count": 17,
   "metadata": {},
   "outputs": [
    {
     "name": "stdout",
     "output_type": "stream",
     "text": [
      "Documento: processado, Processo: processado\n"
     ]
    }
   ],
   "source": [
    "print(\"Documento: {a}, Processo: {a}\".format(a=\"processado\"))"
   ]
  },
  {
   "cell_type": "code",
   "execution_count": 18,
   "metadata": {},
   "outputs": [
    {
     "name": "stdout",
     "output_type": "stream",
     "text": [
      "Nome = Alex, Idade = 45\n"
     ]
    }
   ],
   "source": [
    "print(\"Nome = {nome_3}, Idade = {idade_3}\".format(nome_3 = \"Alex\", idade_3 = \"45\"))"
   ]
  },
  {
   "cell_type": "markdown",
   "metadata": {},
   "source": [
    "# Desafio 1"
   ]
  },
  {
   "cell_type": "code",
   "execution_count": 19,
   "metadata": {},
   "outputs": [
    {
     "data": {
      "text/plain": [
       "'josé da silva martins'"
      ]
     },
     "execution_count": 19,
     "metadata": {},
     "output_type": "execute_result"
    }
   ],
   "source": [
    "var = \"josé da silva martins\"\n",
    "var"
   ]
  },
  {
   "cell_type": "code",
   "execution_count": 20,
   "metadata": {},
   "outputs": [
    {
     "data": {
      "text/plain": [
       "'José Da Silva Martins'"
      ]
     },
     "execution_count": 20,
     "metadata": {},
     "output_type": "execute_result"
    }
   ],
   "source": [
    "import string\n",
    "\n",
    "string.capwords(var)"
   ]
  },
  {
   "cell_type": "markdown",
   "metadata": {},
   "source": [
    "# Desafio 2"
   ]
  },
  {
   "cell_type": "code",
   "execution_count": 21,
   "metadata": {},
   "outputs": [],
   "source": [
    "from bs4 import BeautifulSoup\n",
    "import requests"
   ]
  },
  {
   "cell_type": "code",
   "execution_count": 22,
   "metadata": {},
   "outputs": [],
   "source": [
    "url = \"http://www.uol.com.br\"\n",
    "\n",
    "response = requests.get(url)\n",
    "\n",
    "soup = BeautifulSoup(response.content, \"lxml\")"
   ]
  },
  {
   "cell_type": "code",
   "execution_count": 23,
   "metadata": {},
   "outputs": [
    {
     "data": {
      "text/plain": [
       "b'<!DOCTYPE html> <html lang=\"pt-br\"> <head> <meta charset=\"utf-8\"/> <title>UOL - O melhor conte\\xc3\\xbado</title> <meta name=\"description\" content=\"UOL, a maior empresa brasileira de conte\\xc3\\xbado, servi\\xc3\\xa7os digitais e tecnologia com v\\xc3\\xa1rios canais de jornalismo e diversas solu\\xc3\\xa7\\xc3\\xb5es para voc\\xc3\\xaa ou seu neg\\xc3\\xb3cio.\"> <script>if(navigator.userAgent.toString().indexOf(\"SM-P601\")!=-1||navigator.userAgent.toString().match(/Mozilla\\\\/.*Tablet;.*Firefox/)){document.cookie=\"x-user-agent-class=WEB; expires=; path=/;domain=.uol.com.br\";document.cookie=\"forced-user-agent=1; expires=; path=/;domain=.uol.com.br\";window.location.reload();}else{if(navigator.userAgent.toString().match(\"Opera/\\\\d{0,1}.\\\\d{0,3}(.*)(; Opera)(.*)(Presto/)\")==null){var marrakeshCookie=new RegExp(\".*?x-user-agent-class=(.*?)(;.*?$|$)\",\"g\");if(unescape(document.cookie.replace(marrakeshCookie,\"$1\"))===\"SMART\"){if(navigator.userAgent.toString().match(\"iPad\")!=null){document.cookie=\"x-user-agent-class=; expires=; path=/;domain=.uol.com.br\";window.location.reload();}}else{if(unescape(document.cookie.replace(marrakeshCookie,\"$1\"))===\"WEB\"){document.cookie=\"x-user-agent-class=SMART; expires=; path=/;domain=.uol.com.br\";}}}else{document.cookie=\"x-user-agent-class=SMART; expires=; path=/;domain=.uol.com.br\";window.location.reload();}}</script> <link rel=\"preload\" href=\"/service-worker.js\" as=\"script\"/> <link rel=\"dns-prefetch\" href=\"//jsuol.com.br\"/> <link rel=\"dns-prefetch\" href=\"//stc.uol.com\"/> <link rel=\"dns-prefetch\" href=\"//hp.imguol.com.br\"/> <link rel=\"dns-prefetch\" href=\"//e.imguol.com\"/> <link rel=\"dns-prefetch\" href=\"//tm.uol.com.br\"/> <link rel=\"dns-prefetch\" href=\"//tm.jsuol.com.br\"/> <link rel=\"dns-prefetch\" href=\"//www.googletagservices.com\"/> <link rel=\"dns-prefetch\" href=\"//tt-10162-1.seg.t.tailtarget.com\"/> <link rel=\"dns-prefetch\" href=\"//vars.hotjar.com\"/> <link rel=\"dns-prefetch\" href=\"//tpc.googlesyndication.com\"/> <link rel=\"dns-prefetch\" href=\"//securepubads.g.doubleclick.net\"/> <link rel=\"dns-prefetch\" href=\"//notify.uol.com.br\"/> <link rel=\"dns-prefetch\" href=\"//widget.perfil.uol.com.br\"/> <link rel=\"dns-prefetch\" href=\"//tagpage.uol.com.br\"/> <link rel=\"dns-prefetch\" href=\"//static.chartbeat.com\"/> <link rel=\"dns-prefetch\" href=\"//mab.chartbeat.com\"/> <link rel=\"dns-prefetch\" href=\"//ping.chartbeat.net\"/> <link href=\\'https://stc.uol.com/c/webfont/projeto-grafico/uol-font/uol-text-regular.woff2\\' rel=\\'preload\\' as=\\'font\\' type=\"font/woff2\" crossorigin=\"anonymous\"/> <link href=\\'https://stc.uol.com/c/webfont/projeto-grafico/uol-font/uol-text-bold.woff2\\' rel=\\'preload\\' as=\\'font\\' type=\"font/woff2\" crossorigin=\"anonymous\"/> <link href=\\'https://stc.uol.com/c/webfont/projeto-grafico/uol-font/uol-text-light.woff2\\' rel=\\'preload\\' as=\\'font\\' type=\"font/woff2\" crossorigin=\"anonymous\"/> <link rel=\"manifest\" href=\"https://www.uol.com.br/manifest.json?v=1cottb9qg&\"/> <link rel=\"shortcut icon\" href=\"https://hp.imguol.com.br/c/home/layout/camaleao/mobile2017/favicon.ico\" type=\"image/x-icon\" sizes=\"16x16 32x32 48x48\"/> <link rel=\"icon\" href=\"https://hp.imguol.com.br/c/home/layout/camaleao/mobile2017/icon-touch.png\" type=\"image/png\" sizes=\"512x512\"/> <link rel=\"apple-touch-icon\" href=\"https://hp.imguol.com.br/c/home/layout/camaleao/mobile2017/icons/apple-icon-120x120.png\"/> <link rel=\"apple-touch-icon\" href=\"https://hp.imguol.com.br/c/home/layout/camaleao/mobile2017/icons/apple-icon-152x152.png\" sizes=\"152x152\"/> <link rel=\"apple-touch-icon\" href=\"https://hp.imguol.com.br/c/home/layout/camaleao/mobile2017/icons/apple-icon-167x167.png\" sizes=\"167x167\"/> <link rel=\"apple-touch-icon\" href=\"https://hp.imguol.com.br/c/home/layout/camaleao/mobile2017/icons/apple-icon-180x180.png\" sizes=\"180x180\"/> <meta name=\"viewport\" content=\"width=device-width, initial-scale=1.0, user-scalable=yes\"/> <meta name=\"application-name\" content=\"UOL\"/> <meta name=\"apple-mobile-web-app-title\" content=\"UOL\"/> <meta name=\"apple-mobile-web-app-capable\" content=\"yes\"/> <meta name=\"apple-mobile-web-app-status-bar-style\" content=\"black\"/> <meta name=\"theme-color\" content=\"#1a1a1a\"/> <meta name=\"msapplication-TileImage\" content=\"https://hp.imguol.com.br/c/home/layout/camaleao/mobile2017/icon-192x192.png\"/> <meta name=\"msapplication-TileColor\" content=\"#1a1a1a\"/> <meta name=\"msapplication-tap-highlight\" content=\"no\"/> <meta name=\"referrer\" content=\"always\"/> <meta property=\"og:title\" content=\"UOL - O melhor conte\\xc3\\xbado\"/> <meta property=\"og:description\" content=\"UOL, a maior empresa brasileira de conte\\xc3\\xbado, servi\\xc3\\xa7os digitais e tecnologia com v\\xc3\\xa1rios canais de jornalismo e diversas solu\\xc3\\xa7\\xc3\\xb5es para voc\\xc3\\xaa ou seu neg\\xc3\\xb3cio.\"/> <meta property=\"og:image\" content=\"https://hp.imguol.com.br/c/home/interacao/facebook/logo-uol.png\"/> <meta property=\"og:locale\" content=\"pt_BR\"/> <style>@font-face{font-family:\"UOLText\";src:url(https://stc.uol.com/c/webfont/projeto-grafico/uol-font/uol-text-regular.woff2) format(\"woff2\");font-weight:400;font-style:normal}/*! normalize-scss | MIT/GPLv2 License | bit.ly/normalize-scss */html{font-family:\"UOLText\",Arial,sans-serif;line-height:1.15;-ms-text-size-adjust:100%;-webkit-text-size-adjust:100%}body,ul,ol{margin:0}h1,h2,h3,a,ul,li,p,span,img{outline:0}h1,h2,h3,h4,h5{font-weight:normal}h1{font-size:2em;margin:.67em 0}hr{-webkit-box-sizing:content-box;box-sizing:content-box;height:0;overflow:visible}main{display:block}pre{font-family:monospace;font-size:1em}a{background-color:transparent;-webkit-text-decoration-skip:objects;-webkit-tap-highlight-color:transparent;text-decoration:none}b,strong{font-weight:inherit}b,strong{font-weight:bolder}code,kbd,samp{font-family:monospace;font-size:1em}dfn{font-style:italic}small{font-size:80%}sub,sup{font-size:75%;line-height:0;position:relative;vertical-align:baseline}sub{bottom:-0.25em}sup{top:-0.5em}audio:not([controls]){display:none;height:0}svg:not(:root){overflow:hidden}button,input,optgroup,select,textarea{font-family:\"UOLText\",Arial,sans-serif;font-size:100%;line-height:1.15;margin:0}button{overflow:visible}button,select{text-transform:none}button,html [type=\"button\"],[type=\"reset\"],[type=\"submit\"]{-webkit-appearance:button}button::-moz-focus-inner,[type=\"button\"]::-moz-focus-inner,[type=\"reset\"]::-moz-focus-inner,[type=\"submit\"]::-moz-focus-inner{border-style:none;padding:0}button:-moz-focusring,[type=\"button\"]:-moz-focusring,[type=\"reset\"]:-moz-focusring,[type=\"submit\"]:-moz-focusring{outline:1px dotted ButtonText}input{overflow:visible}[type=\"number\"]::-webkit-inner-spin-button,[type=\"number\"]::-webkit-outer-spin-button{height:auto}[type=\"search\"]{-webkit-appearance:textfield;outline-offset:-2px}[type=\"search\"]::-webkit-search-cancel-button,[type=\"search\"]::-webkit-search-decoration{-webkit-appearance:none}::-webkit-file-upload-button{-webkit-appearance:button;font:inherit}fieldset{padding:.35em .75em .625em}legend{-webkit-box-sizing:border-box;box-sizing:border-box;display:table;max-width:100%;padding:0;color:inherit;white-space:normal}textarea{overflow:auto}details{display:block}summary{display:list-item}template{display:none}.fill_prime{fill:#cb0003}.color_prime{color:#cb0003}.borderColor_prime::before{background:#cb0003}.background_prime{background:#cb0003}.fill_mobile{fill:#cb0003}.color_mobile{color:#cb0003}.borderColor_mobile::before{background:#cb0003}.background_mobile{background:#cb0003}.fill_worldcup{fill:#8c7313}.color_worldcup{color:#8c7313}.borderColor_worldcup::before{background:#8c7313}.background_worldcup{background:#8c7313}.fill_elections{fill:#2977f3}.color_elections{color:#2977f3}.borderColor_elections::before{background:#2977f3}.background_elections{background:#2977f3}.fill_sport{fill:#1b8c66}.color_sport{color:#1b8c66}.borderColor_sport::before{background:#1b8c66}.background_sport{background:#1b8c66}.fill_entertainment{fill:#ff8126}.color_entertainment{color:#ff8126}.borderColor_entertainment::before{background:#ff8126}.background_entertainment{background:#ff8126}.fill_news{fill:#297acc}.color_news{color:#297acc}.borderColor_news::before{background:#297acc}.background_news{background:#297acc}.fill_lifestyle{fill:#e40045}.color_lifestyle{color:#e40045}.borderColor_lifestyle::before{background:#e40045}.background_lifestyle{background:#e40045}.fill_popular{fill:#ce0c0c}.color_popular{color:#ce0c0c}.borderColor_popular::before{background:#ce0c0c}.background_popular{background:#ce0c0c}.fill_healthly{fill:#00bbcb}.color_healthly{color:#00bbcb}.borderColor_healthly::before{background:#00bbcb}.background_healthly{background:#00bbcb}.fill_host{fill:#0084a0}.color_host{color:#0084a0}.borderColor_host::before{background:#0084a0}.background_host{background:#0084a0}.fill_security{fill:#00b2c9}.color_security{color:#00b2c9}.borderColor_security::before{background:#00b2c9}.background_security{background:#00b2c9}.fill_diet{fill:#32cc32}.color_diet{color:#32cc32}.borderColor_diet::before{background:#32cc32}.background_diet{background:#32cc32}.fill_bbb{fill:#ff7f00}.color_bbb{color:#ff7f00}.borderColor_bbb::before{background:#ff7f00}.background_bbb{background:#ff7f00}.borderColor_prime{border-color:#cb0003}.borderColor_mobile{border-color:#cb0003}.borderColor_worldcup{border-color:#8c7313}.borderColor_sport{border-color:#ffcd1a}.borderColor_entertainment{border-color:#ff8126}.borderColor_news{border-color:#297acc}.borderColor_lifestyle{border-color:#e40045}.borderColor_popular{border-color:#ce0c0c}.borderColor_healthly{border-color:#00ebff}.borderColor_host{border-color:#0084a0}.borderColor_security{border-color:#00b2c9}.borderColor_diet{border-color:#32cc32}.borderColor_bbb{border-color:#ff7f00}body{-webkit-font-smoothing:antialiased;text-rendering:auto}html,body{height:100%}#app{background-color:#f0f0f0;position:relative;z-index:1}#timeline{margin:0 auto;max-width:450px;-webkit-transition:opacity .3s;transition:opacity .3s;overflow:hidden}.UHeader__fixed__body #timeline{-webkit-filter:blur(3px);filter:blur(3px)}.card{float:left;width:100%;background:white;border-bottom:1px solid #d9d9d9;margin-top:7px}.card_gutter{border-width:3px 10px;border-style:solid;border-color:#f0f0f0;width:100%;-webkit-box-sizing:border-box;box-sizing:border-box;overflow:hidden}.card_withoutBg{background:transparent;border-bottom:0}.mock{padding-bottom:26px}.hide{display:none}.loading::before{content:\"\";width:32px;height:32px;position:absolute;top:50%;left:50%;margin-left:-16px;margin-top:-16px;background-image:url(https://hp.imguol.com.br/c/home/layout/camaleao/mobile2017/loading.png);-webkit-animation:.8s steps(19) infinite loading;animation:.8s steps(19) infinite loading}.loading .wait{visibility:hidden}.tailtarget.loading{position:relative;min-height:50px}.tailtarget.loading .articleList,.tailtarget.loading .thematicTitle{display:none}@-webkit-keyframes loading{from{background-position:0 0}to{background-position:0 -608px}}@keyframes loading{from{background-position:0 0}to{background-position:0 -608px}}body.overlay{height:100%;overflow:hidden;position:fixed;top:0;right:0;left:0;bottom:0;width:100%;-webkit-box-shadow:inset 0 0 200px #000,inset 0 0 200px #000;box-shadow:inset 0 0 200px #000,inset 0 0 200px #000}body.overlay>*:not(.aboveOverlay){-webkit-filter:blur(3px);filter:blur(3px)}body.overlay>span.over{display:block;content:\"\";position:fixed;top:0;left:0;width:100%;height:100%;background:rgba(0,0,0,0.3);z-index:6000005;cursor:pointer;-webkit-user-select:none;-moz-user-select:none;-ms-user-select:none;user-select:none}form{margin-bottom:0}@-webkit-keyframes animateShow{from{opacity:0}to{opacity:1}}@keyframes animateShow{from{opacity:0}to{opacity:1}}@-webkit-keyframes animateHide{from{opacity:1}to{opacity:0}}@keyframes animateHide{from{opacity:1}to{opacity:0}}.animate,.animateOut{-webkit-animation-duration:.3s;animation-duration:.3s;-webkit-animation-fill-mode:forwards;animation-fill-mode:forwards}.animate{-webkit-animation-name:animateShow;animation-name:animateShow}.animateOut{-webkit-animation-name:animateHide;animation-name:animateHide}@-webkit-keyframes slideIn{0{-webkit-transform:translateY(-80px);transform:translateY(-80px)}100%{-webkit-transform:translateY(0);transform:translateY(0)}}@keyframes slideIn{0{-webkit-transform:translateY(-80px);transform:translateY(-80px)}100%{-webkit-transform:translateY(0);transform:translateY(0)}}@-webkit-keyframes slideOut{0{-webkit-transform:translateY(0);transform:translateY(0)}100%{-webkit-transform:translateY(-80px);transform:translateY(-80px)}}@keyframes slideOut{0{-webkit-transform:translateY(0);transform:translateY(0)}100%{-webkit-transform:translateY(-80px);transform:translateY(-80px)}}.animateSlideIn{-webkit-animation-duration:.3s;animation-duration:.3s;-webkit-animation-name:slideIn;animation-name:slideIn}.animateSlideOut{-webkit-animation-duration:.3s;animation-duration:.3s;-webkit-animation-name:slideOut;animation-name:slideOut}.UHeader{-webkit-transition:top .2s;transition:top .2s}.UHeader.UHeader__fixed{position:fixed;left:0;right:0;z-index:6000006;top:-50px}.UHeader.UHeader__fixed.UHeader__fixed__open{top:0}.UHeader.UHeader__fixed.UHeader__fixed__seelater{top:0}.UHeader.UHeader__fixed.UHeader__fixed__seelater:after{content:\\'\\';position:absolute;width:100%;height:50px;display:block;top:0;z-index:999999}@-webkit-keyframes fade-out{0{-webkit-transform:rotateY(0);transform:rotateY(0);opacity:1}100%{-webkit-transform:rotateY(180deg);transform:rotateY(180deg);opacity:0}}@keyframes fade-out{0{-webkit-transform:rotateY(0);transform:rotateY(0);opacity:1}100%{-webkit-transform:rotateY(180deg);transform:rotateY(180deg);opacity:0}}@-webkit-keyframes fade-in{0{-webkit-transform:rotateY(180deg);transform:rotateY(180deg);opacity:1}100%{-webkit-transform:rotateY(0);transform:rotateY(0);opacity:1}}@keyframes fade-in{0{-webkit-transform:rotateY(180deg);transform:rotateY(180deg);opacity:1}100%{-webkit-transform:rotateY(0);transform:rotateY(0);opacity:1}}.UHeader__menu__component__search__form{background-color:#262626;position:absolute;width:0;top:0;left:0;overflow:hidden;line-height:40px;-webkit-transition:opacity .4s;transition:opacity .4s;opacity:0;z-index:6000006}.UHeader__menu__component__search__form .UHeader__menu__component__search__query{display:block;width:100%;height:40px;padding-left:10px;padding-right:35px;font-size:16px;background-color:#666;color:#fff;border:0}.UHeader__menu__component__search__form .UHeader__menu__component__search__submit,.UHeader__menu__component__search__form .UHeader__menu__component__search__close{position:absolute;width:50px;height:50px;top:0;border:0;background-color:transparent;cursor:pointer}.UHeader__menu__component__search__form .UHeader__menu__component__search__submit{right:46px}.UHeader__menu__component__search__form .UHeader__menu__component__search__submit i{float:right;width:22px;height:22px;padding:0;margin:0 10px 0 0}.UHeader__menu__component__search__form .UHeader__menu__component__search__submit i svg{fill:#fff;width:100%;height:100%;margin:0}.UHeader__menu__component__search__form .UHeader__menu__component__search__close{top:0;right:0;text-align:center}.UHeader__menu__component__search__form .UHeader__menu__component__search__close i{display:inline-block;width:25px;height:25px}.UHeader__menu__component__search__form .UHeader__menu__component__search__close i svg{float:left;fill:#fff;width:100%;height:100%}.UHeader__menu__component__search__form.UHeader__menu__component__search__form__active{width:100%;height:50px;padding:5px 50px;opacity:1}.UHeader__area__container.UHeader__menu__search__active{position:relative;z-index:6000009 !important}#search{position:fixed;top:0;display:none}#search:checked+.UHeader__area__container{position:relative;z-index:6000009 !important}#search:checked+.UHeader__area__container>.UHeader>.UHeader__menu form{width:100%;height:50px;padding:5px 50px;opacity:1}.UHeader__container{position:relative;height:50px}.UHeader__container.UHeader__menu{background-color:#262626}.UHeader__container.UHeader__menu .UHeader__menu__brand{position:absolute;width:100%;height:50px;text-align:center;z-index:1}.UHeader__container.UHeader__menu .UHeader__menu__brand .UHeader__ico-uol{position:relative;display:inline-block}.UHeader__container.UHeader__menu .UHeader__menu__brand .UHeader__ico-uol .icons_uol_logo svg,.UHeader__container.UHeader__menu .UHeader__menu__brand .UHeader__ico-uol .icons_uol_logo img{float:left;width:28px;height:28px}.UHeader__container.UHeader__menu .UHeader__menu__brand .UHeader__ico-uol .icons_uol svg{width:50px;height:50px;fill:#fff;margin-top:2px}.UHeader__container.UHeader__menu .UHeader__menu__nav__container{list-style-type:none;position:relative;margin-right:21px;z-index:2}.UHeader__container.UHeader__menu .UHeader__menu__nav__container .UHeader__menu__nav__item__login,.UHeader__container.UHeader__menu .UHeader__menu__nav__container .UHeader__menu__nav__item__search{float:right;height:50px;margin-left:14px}.UHeader__container.UHeader__menu .UHeader__menu__nav__container .UHeader__menu__nav__item__search i{width:19px;height:19px;padding:0;margin:0;margin-top:15px;float:left}.UHeader__container.UHeader__menu .UHeader__menu__nav__container .UHeader__menu__nav__item__search i svg{fill:#999;width:100%;height:100%;margin:0}.UHeader__container.UHeader__menu .UHeader__menu__nav__container .UHeader__menu__nav__item__login{display:inline-table;height:0}.UHeader__container.UHeader__menu .UHeader__menu__nav__container .UHeader__menu__nav__item__login .widgetNotify-wrapper{margin-top:12px}.UHeader__side__menu{position:relative;float:left;width:50px;height:50px;padding:0 1px;z-index:2;cursor:pointer;background-color:#0f0f0f;border:0}.UHeader__side__menu .UHeader__ico-close{display:none}.UHeader__side__menu .UHeader__side__menu__label{color:#b3b3b3;font-size:10px;font-weight:300;line-height:14px;letter-spacing:1px}.UHeader__side__menu__container{display:none}#timeline{min-height:100vh;opacity:0;-webkit-transition:opacity .3s;transition:opacity .3s}.banner_header{background-color:#000;height:50px;text-align:center;padding:3px 0}.icons{outline:0;display:inline-block;vertical-align:middle;font-style:normal;line-height:18px}.icons svg{vertical-align:middle}.icons_label{display:inline-block;color:inherit;vertical-align:middle;font-weight:bold}.icons_comments{margin-top:1px;margin-right:1px;line-height:18px;font-size:0}.icons_comments svg{width:18px;height:18px}.icons_comments .icons_label{font-size:13px;font-family:\"UOLText-bold\",Arial,sans-serif}.icons_tab{margin:0 auto;width:99px;display:block;height:46px;fill:#221f20}.icons_tab svg{height:100%;width:100%}.icons_photo{margin-top:-3px;margin-right:5px;fill:#333}.icons_photo svg{height:24px;width:24px}.icons_player{margin-top:-4px;margin-right:3px;fill:#333}.icons_player svg{height:22px;width:22px}.icons_moreOptions_horizontal{fill:#999}.icons_moreOptions_horizontal svg{width:24px;height:24px}.icons_close{fill:#ccc}.icons_close svg{width:34px;height:34px}.icons:focus{outline:0}</style> <noscript> <meta http-equiv=\"refresh\" content=\"250\"/> </noscript> <script id=\"inline-head\" type=\"text/javascript\">var TIME_TO_RELOAD=4.1667*60*1000;var Config={};Config.Conteudo={};Config.serverDate=new Date(\"2018/10/03 22:26:00\");Config.plataforma=\"mobile\";Config.subplataforma=\"smart\";Config.path=\"\";Config.versao=\"v1\";Config.estacao=\"Home UOL\";Config.estacaoId=\"home-uol\";Config.canal=\"\";Config.gerencia=\"noticias\";Config.Conteudo.media=\"\";Config.LP={\"id\":\"51eed576aff54be8b1311d90735f36a6\",\"size\":2,\"affiliatedDocumentReferer\":\"http://m.uol.com.br/\"};window.cacheId=\"1cottb9qg\";window.homeUOL=window.homeUOL||{};window.homeUOL.queryString=\"v=1cottb9qg&\";(function(){window.universal_variable=window.universal_variable||{};window.universal_variable.dfp=window.universal_variable.dfp||{};window.uolads=window.uolads||[];})();var _sf_async_config=_sf_async_config||{};_sf_async_config.uid=61085;_sf_async_config.domain=\"uol.com.br\";_sf_async_config.flickerControl=false;_sf_async_config.useCanonical=true;var _sf_startpt=(new Date()).getTime();(function(window){function _contains(arr,item){if(arr){arr=typeof arr===\"string\"?arr.split(\",\"):arr;for(var i=0,m=arr.length;i<m;i++){if(arr[i]==item){return i;}}}return -1;}function User(){this.u=null;this.CARS=\"CA6824\";this.RECIPES=\"CA7357\";this.EDUCATION=\"55\";this.TECHNOLOGY=\"CA7239\";this.ECONOMY=\"CA7248\";this.SCIENCE=\"13\";try{this.u=JSON.parse(localStorage.getItem(\"uolDataLayer\"));this.u=this.u.TailtargetTrack?this.u.TailtargetTrack:null;}catch(e){}return this;}User.prototype.hasInterest=function(what){if(this.u===null){return false;}return _contains(what.toString().match(/^CA/)?this.u.tt_customaudience:this.u.tt_subjects,what)!==-1;};window.TTUser=new User();})(window);window.universal_variable=window.universal_variable||{};window.universal_variable.aud=window.universal_variable.aud||[];window.universal_variable.aud.abTest=window.universal_variable.aud.abTest||\"\";var interestsId={\"CA6824\":\"carros\",\"CA7357\":\"receitas\",\"55\":\"educacao\",\"CA7239\":\"tecnologia\",\"CA7248\":\"economia\",\"13\":\"ciencia-e-saude\"};var ownInterests=\"\";for(var interest in interestsId){if(TTUser.hasInterest(interest)==true){ownInterests+=(ownInterests!==\"\"?\",\":\"\")+interestsId[interest];}}window.universal_variable.aud.abTest=ownInterests.split(\",\").sort().join(\",\");if(window.universal_variable.aud.abTest===\"\"){window.universal_variable.aud.abTest=\"sem cluster\";}</script> <script async src=\"//static.chartbeat.com/js/chartbeat_mab.js\"></script> <script async src=\"https://me.jsuol.com.br/aud/uolhome.js\"></script> </head> <body> <span class=\"uol-notifications-widget\" style=\"display:none\" auto-subscribe=\"true\" themes=\"geral\" channel-name=\"www.uol.com.br\"></span> <div class=\"banner banner_header\" id=\"banner-320x50-3-area\"></div> <div data-key=\"\" class=\"card_smartbanner smartbanner\" id=\"smart-banner\"> </div> <input type=\"checkbox\" id=\"search\"/> <header class=\"UHeader__area__container\"> <div class=\"UHeader UHeader__nonfixed\" id=\"UHeaderArea\"> <div class=\"UHeader__container UHeader__menu\"> <button class=\"UHeader__side__menu\" aria-label=\"abrir menu\"> <span class=\"UHeader__side__menu__label\">MENU</span> <div class=\"UHeader__ico-close busca-fechar\" aria-hidden=\"true\"> <i class=\"icons icons_close \"> <svg><use xlink:href=\"#close\"/></svg> </i> </div> </button> <div class=\"UHeader__menu__brand\"> <a class=\"UHeader__ico-uol icon-uol\" name=\"header\" data-category=\"header\" data-area=\"header\" data-label=\"header\" data-position=\"coluna-unica\" href=\"https://www.uol.com.br/\"> <i class=\"icons icons_uol_logo \" aria-label=\"Logo do UOL\" role=\"button\" tabindex=\"0\"> <img src=\"https://hp.imguol.com.br/c/home/layout/camaleao/mobile2017/logo.png\" width=\"28\" height=\"28\" alt=\"\"/> </i> <i class=\"icons icons_uol \" aria-label=\"UOL\" role=\"button\" tabindex=\"0\"> <?xml version=\"1.0\" encoding=\"utf-8\"?> <svg version=\"1.1\" emailxmlns=\"http://www.w3.org/2000/svg\" xmlns:xlink=\"http://www.w3.org/1999/xlink\" x=\"0px\" y=\"0px\" viewBox=\"0 0 48 48\" style=\"enable-background:new 0 0 48 48;\" xml:space=\"preserve\"> <path d=\"M17.8,19.8v2.8c0.3-1.6,1.1-2.9,2.5-4S23.2,17,25,17s3.4,0.5,4.6,1.6s2,2.4,2.4,4v-5.2h2.1 c0.9,0,1.5,0.2,1.8,0.7s0.5,1,0.5,1.8V27h6.2v1.6c0,0.9-0.2,1.5-0.6,1.8s-1,0.5-1.9,0.5H32v-5.2c-0.3,1.5-1.1,2.8-2.5,3.9 s-2.8,1.6-4.5,1.6c-1.8,0-3.4-0.6-4.7-1.7s-2.2-2.5-2.5-4.2c-0.1,2.2-0.7,3.7-1.8,4.6s-2.6,1.3-4.6,1.3s-3.6-0.5-4.7-1.5 S5,26.9,5,24.6v-7.3h2.1c0.9,0,1.5,0.2,1.8,0.7s0.5,1,0.5,1.8v4.8c0,0.9,0.2,1.6,0.6,1.9s0.9,0.5,1.5,0.5s1.1-0.2,1.4-0.5 s0.6-1,0.6-1.9v-7.3h2.1c0.9,0,1.5,0.2,1.8,0.7S17.8,19,17.8,19.8z M22,24.1c0,0.9,0.3,1.6,0.8,2.2s1.3,0.9,2.1,0.9s1.6-0.3,2.2-0.9 S28,25,28,24.1s-0.3-1.6-0.9-2.2S25.8,21,24.9,21s-1.6,0.3-2.1,0.9S22,23.2,22,24.1z\"/> </svg> </i> </a> </div> <ul class=\"UHeader__menu__nav__container\"> <li class=\"UHeader__menu__nav__item__login\" id=\"profile-avatar\"></li> <li class=\"UHeader__menu__nav__item__search\"> <label for=\"search\" class=\"busca-search\" tabidex=\"0\" aria-label=\"Pesquisar na web\"> <i class=\"icons icons_search_magnifier \" aria-label=\"buscar\" role=\"button\" tabindex=\"0\"> <svg><use xlink:href=\"#search_magnifier\"/></svg> </i> </label> </li> </ul> <form action=\"https://busca.uol.com.br/result.html\" method=\"get\" name=\"formBusca\" class=\"UHeader__menu__component__search__form\" role=\"search\"> <input type=\"text\" name=\"term\" placeholder=\"Busque na web\" autocomplete=\"off\" aria-label=\"Digite o que procura\" class=\"UHeader__menu__component__search__query\"> <button class=\"UHeader__menu__component__search__submit\" type=\"submit\" aria-label=\"Buscar\"> <i class=\"icons icons_search_magnifier \" aria-label=\"buscar\" role=\"button\" tabindex=\"0\"> <svg><use xlink:href=\"#search_magnifier\"/></svg> </i> </button> <button class=\"UHeader__menu__component__search__close\" type=\"button\" aria-label=\"fechar busca\"> <i class=\"icons icons_close \"> <svg><use xlink:href=\"#close\"/></svg> </i> </button> </form> </div> <div class=\"UHeader__side__menu__container\"> <div class=\"UHeader__side__menu__container__scroll\"> <div class=\"UHeader__side__menu__channels\" data-category=\"menu\"> <ul class=\"UHeader__side__menu__nav__sub__list area-padrao\" role=\"menubar\"> <li class=\"UHeader__side__menu__nav__sub__item\" data-channel=\"ritelno\" data-section=\"padrao\" role=\"presentation\"> <a name=\"menu\" data-area=\"home-uol\" data-label=\"menu-topo-nivel-1\" href=\"https://www.uol.com.br/\" title=\"\" role=\"menuitem\">Home UOL</a> </li> <li class=\"UHeader__side__menu__nav__sub__item\" data-channel=\"8j33m6o\" data-section=\"padrao\" role=\"presentation\"> <a name=\"menu\" data-area=\"assine\" data-label=\"menu-header-nav-direita\" title=\"\" role=\"menuitem\">Assine</a> </li> <li class=\"UHeader__side__menu__nav__sub__item\" data-channel=\"uqacnio\" data-section=\"padrao\" role=\"presentation\"> <a name=\"menu\" data-area=\"batepapo\" data-label=\"menu-topo-nivel-1\" href=\"http://batepapo.uol.com.br/\" title=\"\" role=\"menuitem\">Bate-papo</a> </li> <li class=\"UHeader__side__menu__nav__sub__item\" data-channel=\"u2jf4mg\" data-section=\"noticias\" role=\"presentation\"> <a name=\"menu\" data-area=\"noticias\" data-label=\"menu-header-nav-direita\" title=\"\" role=\"menuitem\">Not\\xc3\\xadcias</a> </li> <li class=\"UHeader__side__menu__nav__sub__item\" data-channel=\"9rlq4fo\" data-section=\"noticias\" role=\"presentation\"> <a name=\"menu\" data-area=\"eleicoes\" data-label=\"menu-header-nav-direita\" title=\"\" role=\"menuitem\">Elei\\xc3\\xa7\\xc3\\xb5es</a> </li> <li class=\"UHeader__side__menu__nav__sub__item\" data-channel=\"6vkrfuo\" data-section=\"padrao\" role=\"presentation\"> <a name=\"menu\" data-area=\"carros\" data-label=\"menu-header-nav-direita\" title=\"\" role=\"menuitem\">Carros</a> </li> <li class=\"UHeader__side__menu__nav__sub__item\" data-channel=\"89ol47g\" data-section=\"economia\" role=\"presentation\"> <a name=\"menu\" data-area=\"economia\" data-label=\"menu-header-nav-direita\" title=\"\" role=\"menuitem\">Economia</a> </li> <li class=\"UHeader__side__menu__nav__sub__item\" data-channel=\"8mqia6\" data-section=\"padrao\" role=\"presentation\"> <a name=\"menu\" data-area=\"folha\" data-label=\"menu-topo-nivel-1\" href=\"http://m.folha.uol.com.br/\" title=\"\" role=\"menuitem\">Folha</a> </li> <li class=\"UHeader__side__menu__nav__sub__item\" data-channel=\"92chmjg\" data-section=\"esporte\" role=\"presentation\"> <a name=\"menu\" data-area=\"esporte\" data-label=\"menu-header-nav-direita\" title=\"\" role=\"menuitem\">Esporte</a> </li> <li class=\"UHeader__side__menu__nav__sub__item\" data-channel=\"abm1veo\" data-section=\"entretenimento\" role=\"presentation\"> <a name=\"menu\" data-area=\"entretenimento\" data-label=\"menu-header-nav-direita\" title=\"\" role=\"menuitem\">Entret\\xc3\\xaa</a> </li> <li class=\"UHeader__side__menu__nav__sub__item\" data-channel=\"c6tp63o\" data-section=\"entretenimento\" role=\"presentation\"> <a name=\"menu\" data-area=\"tvefamosos\" data-label=\"menu-header-nav-direita\" title=\"\" role=\"menuitem\">TV e famosos</a> </li> <li class=\"UHeader__side__menu__nav__sub__item\" data-channel=\"ctppblo\" data-section=\"mulher\" role=\"presentation\"> <a name=\"menu\" data-area=\"mulher\" data-label=\"menu-header-nav-direita\" title=\"\" role=\"menuitem\">Universa</a> </li> <li class=\"UHeader__side__menu__nav__sub__item\" data-channel=\"hdal3b\" data-section=\"viva-bem\" role=\"presentation\"> <a name=\"menu\" data-area=\"vivabem\" data-label=\"menu-header-nav-direita\" title=\"\" role=\"menuitem\">VivaBem</a> </li> <li class=\"UHeader__side__menu__nav__sub__item\" data-channel=\"dah311\" data-section=\"educacao\" role=\"presentation\"> <a name=\"menu\" data-area=\"educacao\" data-label=\"menu-header-nav-direita\" title=\"\" role=\"menuitem\">Educa\\xc3\\xa7\\xc3\\xa3o</a> </li> <li class=\"UHeader__side__menu__nav__sub__item\" data-channel=\"4i8m0jg\" data-section=\"padrao\" role=\"presentation\"> <a name=\"menu\" data-area=\"tab\" data-label=\"menu-topo-nivel-1\" href=\"https://tab.uol.com.br/\" title=\"\" role=\"menuitem\">TAB</a> </li> <li class=\"UHeader__side__menu__nav__sub__item\" data-channel=\"to2ram\" data-section=\"padrao\" role=\"presentation\"> <a name=\"menu\" data-area=\"receitas\" data-label=\"menu-header-nav-direita\" title=\"\" role=\"menuitem\">Receitas</a> </li> <li class=\"UHeader__side__menu__nav__sub__item\" data-channel=\"e3lo9ig\" data-section=\"padrao\" role=\"presentation\"> <a name=\"menu\" data-area=\"urban-taste\" data-label=\"menu-header-nav-direita\" title=\"\" role=\"menuitem\">Urban Taste</a> </li> <li class=\"UHeader__side__menu__nav__sub__item\" data-channel=\"onahml8\" data-section=\"padrao\" role=\"presentation\"> <a name=\"menu\" data-area=\"apps\" data-label=\"menu-topo-nivel-1\" href=\"http://aplicativos.uol.com.br/\" title=\"\" role=\"menuitem\">Aplicativos</a> </li> <li class=\"UHeader__side__menu__nav__sub__item\" data-channel=\"saeb01o\" data-section=\"padrao\" role=\"presentation\"> <a name=\"menu\" data-area=\"mais\" data-label=\"menu-header-nav-direita\" title=\"\" role=\"menuitem\">+ canais</a> </li> <li class=\"UHeader__side__menu__nav__sub__item\" data-channel=\"iuq16g\" data-section=\"padrao\" role=\"presentation\"> <a name=\"menu\" data-area=\"uol-host\" data-label=\"menu-header-nav-direita\" title=\"\" role=\"menuitem\">UOL Host</a> </li> <li class=\"UHeader__side__menu__nav__sub__item\" data-channel=\"kahpsk8\" data-section=\"padrao\" role=\"presentation\"> <a name=\"menu\" data-area=\"pagseguro\" data-label=\"menu-header-nav-direita\" title=\"\" role=\"menuitem\">PagSeguro</a> </li> <li class=\"UHeader__side__menu__nav__sub__item\" data-channel=\"33smglo\" data-section=\"padrao\" role=\"presentation\"> <a name=\"menu\" data-area=\"cursos-online\" data-label=\"menu-topo-nivel-1\" href=\"https://www.portaleducacao.com.br/cursos?utm_source=uol&utm_medium=header-menu&utm_campaign=cursos\" title=\"\" role=\"menuitem\">Cursos</a> </li> <li class=\"UHeader__side__menu__nav__sub__item\" data-channel=\"prfp0sg\" data-section=\"padrao\" role=\"presentation\"> <a name=\"menu\" data-area=\"loja-virtuol\" data-label=\"menu-topo-nivel-1\" href=\"http://clicklogger.rm.uol.com.br/?prd=16&grp=src:210;chn:0;creative:barrauol;thm:barrauol-lojavirtuol&msr=Cliques%20de%20Origem:1oper=11&redir=https://lojavirtuol.uol.com.br\" title=\"\" role=\"menuitem\">Loja VirtUOL</a> </li> </ul> </div> <div class=\"UHeader__side__menu__subitems\" data-category=\"menu\"> <a class=\"UHeader__side__menu__container__back\" aria-label=\"voltar ao menu principal\" role=\"button\" tabindex=\"0\"> <i class=\"icons icons_arrow_left \"> <svg><use xlink:href=\"#arrow_left\"/></svg> </i> Outros canais UOL </a> <div class=\"UHeader__side__menu__container__sub__title\"> <div class=\"UHeader__side__menu__nav__sub__title UHeader__color5\"></div> </div> <div class=\"UHeader__side__menu__container__sub\"> <ul class=\"UHeader__side__menu__nav__sub__list UHeader__side__menu__nav__sub__block\" role=\"menubar\"> <li class=\"UHeader__side__menu__nav__sub__item\" role=\"presentation\"></li> </ul> </div> </div> </div> </div> </div> </header> <div id=\"app\"> <main id=\"timeline\" role=\"main\"> <article class=\"email\" data-key=\"0-email\" data-area=\"header\" data-category=\"header\" data-position=\"coluna-unica\"> <div class=\"email_login loading\"> <div class=\"email_newAccount\"> <a href=\"https://email.uol.com.br/\" aria-hidden=\"false\" aria-label=\"UOL Email\" data-label=\"email-uolmail\"> <i class=\"icons icons_mail_logo \" aria-label=\"Email UOL\" role=\"button\" tabindex=\"0\"> <svg><use xlink:href=\"#mail_logo\"/></svg> </i> </a> <a href=\"http://clicklogger.rm.uol.com.br/?prd=11&grp=src:13;chn:0;cpg:link_fixo_homeUOL_email_uol;&msr=Visualizacao:1&oper=11&redir=https://cadastro.uol.com.br/indexb.html?promo=PROMOEMAIL11GB&sg=300015590&skin=cadastrounificado/uol/pf&eos=yes&sa=web&skinPath=assine-uol-conteudo#newAccount\" aria-hidden=\"false\" aria-label=\"Ainda n\\xc3\\xa3o tem email? Crie o seu\" class=\"email_newAccount__link\" data-label=\"email-criar-email\"> Ainda n\\xc3\\xa3o tem? <span aria-hidden=\"true\">Crie o seu</span> </a> </div> <form action=\"https://acesso.uol.com.br/login.html\" method=\"post\" autocomplete=\"off\" name=\"formEmail\" class=\"email_form\" role=\"search\" novalidate> <input type=\"text\" maxlength=\"255\" name=\"user\" autocomplete=\"user\" id=\"user\" class=\"email_form_user\" placeholder=\"Usu\\xc3\\xa1rio\" aria-label=\"Usu\\xc3\\xa1rio\"> <input type=\"password\" maxlength=\"255\" name=\"pass\" autocomplete=\"pass\" id=\"pass\" class=\"email_form_password\" placeholder=\"Senha\" aria-label=\"Senha\"> <input type=\"hidden\" name=\"skin\" value=\"webmail\"> <input type=\"hidden\" name=\"dest\" value=\"WEBMAIL\"> <input type=\"hidden\" name=\"userconcat\" value=\"\"> <button class=\"email_form_send\" type=\"submit\" aria-label=\"acessar email\">entrar</button> </form> </div> <div class=\"email_notification \"> <a href=\"https://email.uol.com.br/\" aria-hidden=\"false\" aria-label=\"UOL Email\" data-label=\"email-uolmail\"> <i class=\"icons icons_mail_logo \" aria-label=\"Email UOL\" role=\"button\" tabindex=\"0\"> <svg><use xlink:href=\"#mail_logo\"/></svg> </i> </a> <a href=\"\" class=\"email_notification_link\" aria-label=\", voc\\xc3\\xaa tem novo email\" data-label=\"email-checkin\" tabindex=\"0\" aria-hidden=\"false\"> <div class=\"email_notification_inbox\"> <strong class=\"email_notification_user\" aria-hidden=\"true\">,</strong> <p class=\"email_notification_msg\" aria-hidden=\"true\"> voc\\xc3\\xaa tem <strong class=\\'email_notification_count \\'></strong> novo email </p> </div> </a> <a href=\"\" class=\"email_notification_logout\" aria-hidden=\"false\" aria-label=\"deslogar do email\" data-label=\"email-sair\"> sair </a> </div> </article> <ul data-key=\"0-services\" class=\"services card \"> <li class=\"currency\" aria-label=\"Cota\\xc3\\xa7\\xc3\\xa3o do d\\xc3\\xb3lar 3,888 reais, ir \\xc3\\xa0 p\\xc3\\xa1gina de economia\" tabindex=\"0\" role=\"button\"> <a href=\"http://economia.uol.com.br/cotacoes/cambio/dolar-comercial-estados-unidos/\" aria-hidden=\"true\"> <span class=\"currency_label\">D\\xc3\\xb3lar</span><span class=\"currency_quote currency_quote__down\">R$ 3,888</span> </a> </li> <li class=\"weather loading\"> </li> </ul> <article data-key=\"4-1-hibrid-live-destaque\" class=\"live card card_gutter prime scoreItems2\" aria-expanded=\"false\" data-category=\"bloco-editorial-topo\" data-area=\"topo\" data-position=\"coluna-3\"> <section class=\"gameData nao-iniciado accordionItem hasLabel\" aria-label=\"Placar Palmeiras versus Colo-Colo Libertadores, Ir para p\\xc3\\xa1gina do jogo\" data-channel=\"105585\" tabindex=\"0\"> <a href=\"http://futebol.placar.esporte.uol.com.br/futebol/libertadores/2018/10/03/palmeiras-x-colo-colo.htm\"> <span class=\"label \" aria-hidden=\"true\">Placar</span> </a> <a href=\"http://futebol.placar.esporte.uol.com.br/futebol/libertadores/2018/10/03/palmeiras-x-colo-colo.htm\" class=\"gameData_link\" aria-hidden=\"true\" data-label=\"chamada-placar-futebol\"> <span class=\"gameData_penaltis hide\"> <span class=\"team_penaltis team_penaltis__home\"></span> <span class=\"gameData_penaltis__title\">P\\xc3\\xaanaltis</span> <span class=\"team_penaltis team_penaltis__away\"></span> </span> <div class=\"team\" aria-hidden=\"true\"> <span class=\"team_score team_score__home\"></span> <img class=\"team_logo__home\" width=\"23\" height=\"23\" data-src=\"https://e.imguol.com/futebol/brasoes/100x100/palmeiras.png\" alt=\"Palmeiras\"> <abbr title=\"Palmeiras\" class=\"team_abbr__home\">PAL</abbr> </div> <div class=\"teamVs\" aria-hidden=\"true\"> <i class=\"icons icons_close iconVs\" aria-label=\"versus\" role=\"button\" tabindex=\"0\"> <svg><use xlink:href=\"#close\"/></svg> </i> </div> <div class=\"team\" aria-hidden=\"true\"> <span class=\"team_score team_score__away\"></span> <img class=\"team_logo__away\" width=\"23\" height=\"23\" data-src=\"https://e.imguol.com/futebol/brasoes/100x100/colo-colo.png\" alt=\"Colo-Colo\"> <abbr title=\"Colo-Colo\" class=\"team_abbr__away\">CCL</abbr> </div> <span class=\"championship\">Libertadores</span> </a> </section> <section class=\"gameData nao-iniciado accordionItem hasLabel\" aria-label=\"Placar Botafogo versus Bahia Copa Sul-Americana, Ir para p\\xc3\\xa1gina do jogo\" data-channel=\"105568\" tabindex=\"0\"> <a href=\"http://futebol.placar.esporte.uol.com.br/futebol/copa-sul-americana/2018/10/03/botafogo-x-bahia.htm\" class=\"gameData_link\" aria-hidden=\"true\" data-label=\"chamada-placar-futebol\"> <span class=\"gameData_penaltis hide\"> <span class=\"team_penaltis team_penaltis__home\"></span> <span class=\"gameData_penaltis__title\">P\\xc3\\xaanaltis</span> <span class=\"team_penaltis team_penaltis__away\"></span> </span> <div class=\"team\" aria-hidden=\"true\"> <span class=\"team_score team_score__home\"></span> <img class=\"team_logo__home\" width=\"23\" height=\"23\" data-src=\"https://e.imguol.com/futebol/brasoes/100x100/botafogo.png\" alt=\"Botafogo\"> <abbr title=\"Botafogo\" class=\"team_abbr__home\">BOT</abbr> </div> <div class=\"teamVs\" aria-hidden=\"true\"> <i class=\"icons icons_close iconVs\" aria-label=\"versus\" role=\"button\" tabindex=\"0\"> <svg><use xlink:href=\"#close\"/></svg> </i> </div> <div class=\"team\" aria-hidden=\"true\"> <span class=\"team_score team_score__away\"></span> <img class=\"team_logo__away\" width=\"23\" height=\"23\" data-src=\"https://e.imguol.com/futebol/brasoes/100x100/bahia.png\" alt=\"Bahia\"> <abbr title=\"Bahia\" class=\"team_abbr__away\">BAH</abbr> </div> <span class=\"championship\">Copa Sul-Americana</span> </a> </section> </article> <article data-key=\"2-1-hibrid-manchete\" class=\"screamer card prime\" data-area=\"topo\" data-category=\"bloco-editorial-topo\" data-position=\"3-colunas\" data-label=\"manchete\"> <div class=\"meta\"> <h3 tabindex=\"0\" aria-label=\"assunto da mat\\xc3\\xa9ria\" class=\"meta_kicker color_prime\">Disputa presidencial</h3> <span tabindex=\"0\" aria-label=\"postado h\\xc3\\xa1\" class=\"meta_time\"></span> <span class=\"uol-see-later\" data-service=\"true\"></span> </div> <a data-uol-see-later=\"url\" href=\"https://noticias.uol.com.br/politica/eleicoes/2018/noticias/2018/10/03/pesquisa-ibope-presidente-310-bolsonaro-haddad-ciro-alckmin-marina.htm\" class=\"screamer_article screamer_article__prime article\"> <div class=\"article_imageWrapper \"> </div> <h2 data-uol-see-later=\"title\" class=\"article_title article_title__prime\"> Ibope: a quatro dias do 1\\xc2\\xba turno, Bolsonaro chega a 32% e Haddad vai a 23% </h2> </a> <ul class=\"related\"> <li> <a href=\"http://noticias.uol.com.br/politica/eleicoes/2018/noticias/2018/10/03/da-prisao-lula-pede-que-eleitores-nao-se-deixem-intimidar-pelas-pesquisas.htm\" class=\"borderColor_prime related_title\" data-label=\"chamada-relacionada\" data-position=\"coluna-unica\">Lula pede a eleitores que n\\xc3\\xa3o se intimidem</a> </li> <li> <a href=\"https://noticias.uol.com.br/politica/eleicoes/2018/pesquisas-eleitorais/brasil/1-turno/\" class=\"borderColor_prime related_title\" data-label=\"chamada-relacionada\" data-position=\"coluna-unica\">Veja desempenho dos candidatos nas pesquisas</a> </li> </ul> </article> <article data-key=\"3-1-1-hibrid-submanchete\" class=\"subScreamer card prime\" data-area=\"topo\" data-category=\"bloco-editorial-topo\" data-position=\"coluna-1\" data-label=\"submanchete\"> <div class=\"meta\"> <h3 tabindex=\"0\" aria-label=\"assunto da mat\\xc3\\xa9ria\" class=\"meta_kicker color_prime\">An\\xc3\\xa1lises</h3> <span tabindex=\"0\" aria-label=\"postado h\\xc3\\xa1\" class=\"meta_time\"></span> <span class=\"uol-see-later\" data-service=\"true\"></span> </div> <a data-uol-see-later=\"url\" href=\"http://noticias.uol.com.br/politica/eleicoes/2018/noticias/reuters/2018/10/03/analistas-rejeicao-a-bolsonaro-e-haddad-deve-impor-dificuldades-em-2019.htm\" class=\"subScreamer_article subScreamer_article__prime article\"> <figure class=\"placeholder placeholder_subScreamer \"> <img data-src=\"https://hp.imguol.com.br/c/home/ae/2018/10/03/montagem-bolsonaro-e-haddad-1538610457444_100x100.jpg\" data-uol-see-later=\"image\" class=\"placeholder_image placeholder_image__subScreamer\" alt=\"\" title=\"Arte/UOL\" aria-label=\"\" tabindex=\"0\" onerror=\"this.remove()\"> </figure> <h2 data-uol-see-later=\"title\" class=\"article_title article_title__prime\"> Rejei\\xc3\\xa7\\xc3\\xa3o a Bolsonaro e Haddad deve impor dificuldades em 2019 </h2> </a> <ul class=\"related\"> <li> <a href=\"https://josiasdesouza.blogosfera.uol.com.br/2018/10/03/bolsonaro-vira-recado-do-eleitor-a-conta-chegou/\" class=\"borderColor_prime related_title\" data-label=\"chamada-relacionada\">Josias: PSL \\xc3\\xa9 recado de eleitor</a> </li> <li> <a href=\"https://www1.folha.uol.com.br/poder/2018/10/pt-tem-dificuldade-de-encontrar-estrategia-para-conter-bolsonaro.shtml\" class=\"borderColor_prime related_title\" data-label=\"chamada-relacionada\">Sufoco do PT para conter PSL</a> </li> </ul> </article> <article data-key=\"3-1-2-hibrid-submanchete\" class=\"subScreamer card prime\" data-area=\"topo\" data-category=\"bloco-editorial-topo\" data-position=\"coluna-2\" data-label=\"submanchete\"> <div class=\"meta\"> <h3 tabindex=\"0\" aria-label=\"assunto da mat\\xc3\\xa9ria\" class=\"meta_kicker color_prime\">Ibope nos estados</h3> <span tabindex=\"0\" aria-label=\"postado h\\xc3\\xa1\" class=\"meta_time\"></span> <span class=\"uol-see-later\" data-service=\"true\"></span> </div> <a data-uol-see-later=\"url\" href=\"https://noticias.uol.com.br/politica/eleicoes/2018/noticias/2018/10/03/ibope-em-sp-doria-tem-24-skaf-21-franca-14-marinho-8.htm\" class=\"subScreamer_article subScreamer_article__prime article\"> <figure class=\"placeholder placeholder_subScreamer \"> <img data-src=\"https://hp.imguol.com.br/c/home/70/2018/09/19/debate-para-governador-de-sao-paulo-promovido-pela-folha-uol-e-sbt-nos-estudios-do-sbt-joao-doria-psdb-e-paulo-skaf-skaf-mdb-se-preparam-para-inicio-do-debate-1537397274059_100x100.jpg\" data-uol-see-later=\"image\" class=\"placeholder_image placeholder_image__subScreamer\" alt=\"\" title=\"Eduardo Knapp/Folhapress\" aria-label=\"\" tabindex=\"0\" onerror=\"this.remove()\"> </figure> <h2 data-uol-see-later=\"title\" class=\"article_title article_title__prime\"> Skaf cai, mas segue em empate t\\xc3\\xa9cnico com Doria em SP </h2> </a> <ul class=\"related\"> <li> <a href=\"http://noticias.uol.com.br/politica/eleicoes/2018/noticias/2018/10/03/ibope-rio.htm\" class=\"borderColor_prime related_title\" data-label=\"chamada-relacionada\">RJ: Paes, 26%, e Rom\\xc3\\xa1rio, 19%</a> </li> <li> <a href=\"http://noticias.uol.com.br/politica/eleicoes/2018/noticias/2018/10/03/ibaneis-volta-a-crescer-e-vai-a-34-no-df-eliana-tem-17.htm\" class=\"borderColor_prime related_title\" data-label=\"chamada-relacionada\">DF: Ibaneis cresce e vai a 34%</a> </li> </ul> </article> <div data-key=\"1-coluna1-advertising\" class=\"advertising card card_withoutBg\"> <div class=\"banner\" id=\"banner-300x250-1-area\"></div> </div> <article data-key=\"3-2-1-hibrid-submanchete\" class=\"subScreamer card prime\" data-area=\"topo\" data-category=\"bloco-editorial-topo\" data-position=\"coluna-1\" data-label=\"submanchete\"> <div class=\"meta\"> <h3 tabindex=\"0\" aria-label=\"assunto da mat\\xc3\\xa9ria\" class=\"meta_kicker color_prime\">Presidenci\\xc3\\xa1vel pelo PDT</h3> <span tabindex=\"0\" aria-label=\"postado h\\xc3\\xa1\" class=\"meta_time\"></span> <span class=\"uol-see-later\" data-service=\"true\"></span> </div> <a data-uol-see-later=\"url\" href=\"https://noticias.uol.com.br/politica/eleicoes/2018/noticias/2018/10/03/ciro-diz-que-aceitaria-encabecar-chapa-de-uniao-com-alckmin-e-marina.htm\" class=\"subScreamer_article subScreamer_article__prime article\"> <h2 data-uol-see-later=\"title\" class=\"article_title article_title__prime\"> Ciro diz que aceitaria encabe\\xc3\\xa7ar chapa com Alckmin e Marina </h2> </a> <ul class=\"related\"> <li> <a href=\"https://piaui.folha.uol.com.br/por-falta-de-opcao-eleitora-nem-nem-vai-de-ciro/\" class=\"borderColor_prime related_title\" data-label=\"chamada-relacionada\">Eleitora \\'nem nem\\' vai de Ciro</a> </li> <li> <a href=\"https://noticias.uol.com.br/politica/eleicoes/2018/noticias/2018/10/03/ciro-ironiza-ausencia-de-bolsonaro-em-debate-e-diz-que-ele-e-nota-de-r-3.htm\" class=\"borderColor_prime related_title\" data-label=\"chamada-relacionada\">Ciro Gomes ironiza Bolsonaro</a> </li> </ul> </article> <article data-key=\"3-2-2-hibrid-submanchete\" class=\"subScreamer card prime\" data-area=\"topo\" data-category=\"bloco-editorial-topo\" data-position=\"coluna-2\" data-label=\"submanchete\"> <div class=\"meta\"> <h3 tabindex=\"0\" aria-label=\"assunto da mat\\xc3\\xa9ria\" class=\"meta_kicker color_prime\">Candidato do PSL</h3> <span tabindex=\"0\" aria-label=\"postado h\\xc3\\xa1\" class=\"meta_time\"></span> <span class=\"uol-see-later\" data-service=\"true\"></span> </div> <a data-uol-see-later=\"url\" href=\"https://www1.folha.uol.com.br/poder/2018/10/grupo-de-generais-ajuda-bolsonaro-a-vencer-resistencia-na-elite-do-exercito.shtml\" class=\"subScreamer_article subScreamer_article__prime article\"> <h2 data-uol-see-later=\"title\" class=\"article_title article_title__prime\"> Generais ajudam Bolsonaro a vencer resist\\xc3\\xaancia no Ex\\xc3\\xa9rcito </h2> </a> <ul class=\"related\"> <li> <a href=\"http://noticias.uol.com.br/politica/eleicoes/2018/noticias/agencia-estado/2018/10/03/liderancas-das-bancadas-evangelica-e-da-bala-assumem-apoio-a-bolsonaro.htm\" class=\"borderColor_prime related_title\" data-label=\"chamada-relacionada\">Bancada evang\\xc3\\xa9lica apoia PSL</a> </li> <li> <a href=\"https://www1.folha.uol.com.br/poder/2018/10/judeus-progressistas-repudiam-acenos-de-jair-bolsonaro-a-israel.shtml\" class=\"borderColor_prime related_title\" data-label=\"chamada-relacionada\">Parte de judeus reprova Jair</a> </li> </ul> </article> <article data-key=\"3-4-1-hibrid-submanchete\" class=\"subScreamer card prime\" data-area=\"topo\" data-category=\"bloco-editorial-topo\" data-position=\"coluna-1\" data-label=\"submanchete\"> <div class=\"meta\"> <h3 tabindex=\"0\" aria-label=\"assunto da mat\\xc3\\xa9ria\" class=\"meta_kicker color_prime\">Critica Alckmin</h3> <span tabindex=\"0\" aria-label=\"postado h\\xc3\\xa1\" class=\"meta_time\"></span> <span class=\"uol-see-later\" data-service=\"true\"></span> </div> <a data-uol-see-later=\"url\" href=\"https://aovivo.folha.uol.com.br/2018/10/03/5534-aovivo.shtml#post382234\" class=\"subScreamer_article subScreamer_article__prime article\"> <figure class=\"placeholder placeholder_subScreamer \"> <img data-src=\"https://hp.imguol.com.br/c/home/aa/2018/09/19/candidato-do-psdb-a-presidencia-geraldo-alckmin-1537336217636_100x100.jpg\" data-uol-see-later=\"image\" class=\"placeholder_image placeholder_image__subScreamer\" alt=\"\" title=\"Reprodu\\xc3\\xa7\\xc3\\xb5a/TV Globo\" aria-label=\"\" tabindex=\"0\" onerror=\"this.remove()\"> </figure> <h2 data-uol-see-later=\"title\" class=\"article_title article_title__prime\"> Fundador do PSDB deixa sigla e declara voto em Bolsonaro </h2> </a> </article> <article data-key=\"3-4-2-hibrid-submanchete\" class=\"subScreamer card prime\" data-area=\"topo\" data-category=\"bloco-editorial-topo\" data-position=\"coluna-2\" data-label=\"submanchete\"> <div class=\"meta\"> <h3 tabindex=\"0\" aria-label=\"assunto da mat\\xc3\\xa9ria\" class=\"meta_kicker color_prime\">Liga dos Campe\\xc3\\xb5es</h3> <span tabindex=\"0\" aria-label=\"postado h\\xc3\\xa1\" class=\"meta_time\"></span> <span class=\"uol-see-later\" data-service=\"true\"></span> </div> <a data-uol-see-later=\"url\" href=\"http://esporte.uol.com.br/futebol/campeonatos/liga-dos-campeoes/ultimas-noticias/2018/10/03/tottenham-x-barcelona---liga-dos-campeoes.htm\" class=\"subScreamer_article subScreamer_article__prime article\"> <figure class=\"placeholder placeholder_subScreamer \"> <img data-src=\"https://hp.imguol.com.br/c/home/ae/2018/10/03/lionel-messi-acena-durante-partida-do-barcelona-1538599248750_100x100.png\" data-uol-see-later=\"image\" class=\"placeholder_image placeholder_image__subScreamer\" alt=\"\" title=\"Reprodu\\xc3\\xa7\\xc3\\xa3o/FCBarcelona\" aria-label=\"\" tabindex=\"0\" onerror=\"this.remove()\"> </figure> <h2 data-uol-see-later=\"title\" class=\"article_title article_title__prime\"> Bar\\xc3\\xa7a bate Tottenham com show de Messi e destaque de Coutinho </h2> </a> </article> <article data-key=\"3-4-3-hibrid-submanchete\" class=\"headline card prime\" data-area=\"topo\" data-category=\"bloco-editorial-topo\" data-position=\"coluna-1\" data-label=\"chamada\"> <div class=\"meta\"> <h3 tabindex=\"0\" aria-label=\"assunto da mat\\xc3\\xa9ria\" class=\"meta_kicker color_prime\">Ex-presidente preso</h3> <span tabindex=\"0\" aria-label=\"postado h\\xc3\\xa1\" class=\"meta_time\"></span> <span class=\"uol-see-later\" data-service=\"true\"></span> </div> <a data-uol-see-later=\"url\" href=\"https://www1.folha.uol.com.br/poder/2018/10/toffoli-reafirma-decisao-que-suspendeu-entrevista-de-lula.shtml\" class=\"headline_article headline_article__prime article\"> <h2 data-uol-see-later=\"title\" class=\"article_title article_title__prime\"> Toffoli reafirma decis\\xc3\\xa3o que proibiu entrevista de Lula </h2> </a> </article> <article data-key=\"3-4-4-hibrid-submanchete\" class=\"headline card prime\" data-area=\"topo\" data-category=\"bloco-editorial-topo\" data-position=\"coluna-2\" data-label=\"chamada\"> <div class=\"meta\"> <h3 tabindex=\"0\" aria-label=\"assunto da mat\\xc3\\xa9ria\" class=\"meta_kicker color_prime\">Queda de 1,2%</h3> <span tabindex=\"0\" aria-label=\"postado h\\xc3\\xa1\" class=\"meta_time\"></span> <span class=\"uol-see-later\" data-service=\"true\"></span> </div> <a data-uol-see-later=\"url\" href=\"https://economia.uol.com.br/cotacoes/noticias/redacao/2018/10/03/dolar-bolsa-fechamento.htm\" class=\"headline_article headline_article__prime article\"> <h2 data-uol-see-later=\"title\" class=\"article_title article_title__prime\"> D\\xc3\\xb3lar fecha a R$ 3,888, menor valor desde agosto </h2> </a> </article> <article data-key=\"4-2-1-hibrid-coluna-meio\" class=\"headline card prime\" data-area=\"topo\" data-category=\"bloco-editorial-topo\" data-position=\"coluna-3\" data-label=\"chamada\"> <div class=\"meta\"> <h3 tabindex=\"0\" aria-label=\"assunto da mat\\xc3\\xa9ria\" class=\"meta_kicker color_prime\">Foi parar na Justi\\xc3\\xa7a</h3> <span tabindex=\"0\" aria-label=\"postado h\\xc3\\xa1\" class=\"meta_time\"></span> <span class=\"uol-see-later\" data-service=\"true\"></span> </div> <a data-uol-see-later=\"url\" href=\"https://esporte.uol.com.br/futebol/ultimas-noticias/2018/10/03/scarpa-abre-mao-de-parte-de-luva-palmeiras-paga-flu-e-briga-judicial-acaba.htm\" class=\"headline_article headline_article__prime article\"> <figure class=\"placeholder placeholder_headline \"> <img data-src=\"https://hp.imguol.com.br/c/home/a7/2018/08/13/gustavo-scarpa-meia-do-palmeiras-durante-partida-contra-o-vasco-pelo-brasileiro-1534191677684_100x100.jpg\" data-uol-see-later=\"image\" class=\"placeholder_image placeholder_image__headline\" alt=\"\" title=\"Daniel Vorley/AGIF\" aria-label=\"\" tabindex=\"0\" onerror=\"this.remove()\"> </figure> <h2 data-uol-see-later=\"title\" class=\"article_title article_title__prime\"> Scarpa abre m\\xc3\\xa3o de dinheiro, Palmeiras paga Flu e briga acaba </h2> </a> </article> <article data-key=\"4-2-2-hibrid-coluna-meio\" class=\"headline card prime\" data-area=\"topo\" data-category=\"bloco-editorial-topo\" data-position=\"coluna-3\" data-label=\"chamada\"> <div class=\"meta\"> <h3 tabindex=\"0\" aria-label=\"assunto da mat\\xc3\\xa9ria\" class=\"meta_kicker color_prime\">Mais Liga dos Campe\\xc3\\xb5es</h3> <span tabindex=\"0\" aria-label=\"postado h\\xc3\\xa1\" class=\"meta_time\"></span> <span class=\"uol-see-later\" data-service=\"true\"></span> </div> <a data-uol-see-later=\"url\" href=\"https://esporte.uol.com.br/futebol/campeonatos/liga-dos-campeoes/ultimas-noticias/2018/10/03/gols-recorde-e-extase-da-torcida-neymar-tem-noite-de-gala-na-champions.htm\" class=\"headline_article headline_article__prime article\"> <figure class=\"placeholder placeholder_headline \"> <img data-src=\"https://hp.imguol.com.br/c/home/a4/2018/10/03/neymar-comemora-o-segundo-gol-do-psg-diante-do-estrela-vermelha-1538608213134_100x100.jpg\" data-uol-see-later=\"image\" class=\"placeholder_image placeholder_image__headline\" alt=\"\" title=\"REUTERS/Charles Platiau\" aria-label=\"\" tabindex=\"0\" onerror=\"this.remove()\"> </figure> <h2 data-uol-see-later=\"title\" class=\"article_title article_title__prime\"> Gols, recorde e \\xc3\\xaaxtase da torcida: Neymar tem noite de gala em Paris </h2> </a> </article> <article data-key=\"4-2-3-hibrid-coluna-meio\" class=\"headline card prime\" data-area=\"topo\" data-category=\"bloco-editorial-topo\" data-position=\"coluna-3\" data-label=\"chamada\"> <div class=\"meta\"> <h3 tabindex=\"0\" aria-label=\"assunto da mat\\xc3\\xa9ria\" class=\"meta_kicker color_prime\">Nega\\xc3\\xa7\\xc3\\xa3o da ci\\xc3\\xaancia</h3> <span tabindex=\"0\" aria-label=\"postado h\\xc3\\xa1\" class=\"meta_time\"></span> <span class=\"uol-see-later\" data-service=\"true\"></span> </div> <a data-uol-see-later=\"url\" href=\"https://stevensrehen.blogosfera.uol.com.br/2018/10/03/para-muitos-a-magnitude-da-incerteza-pouco-importa-desde-que-ratifique-as-proprias-crencas/\" class=\"headline_article headline_article__prime article\"> <figure class=\"placeholder placeholder_headline \"> <img data-src=\"https://hp.imguol.com.br/c/home/89/2018/08/06/este-ano-a-vacinacao-pretende-imunizar-todas-as-criancas-na-faixa-etaria-estabelecida-1533552057445_100x100.jpg\" data-uol-see-later=\"image\" class=\"placeholder_image placeholder_image__headline\" alt=\"\" title=\"Foto: Tomaz Silva/Ag\\xc3\\xaancia Brasil\" aria-label=\"\" tabindex=\"0\" onerror=\"this.remove()\"> </figure> <h2 data-uol-see-later=\"title\" class=\"article_title article_title__prime\"> Para muitos, incerteza pouco importa, desde que ratifique cren\\xc3\\xa7as </h2> </a> </article> <article data-key=\"4-2-4-hibrid-coluna-meio\" class=\"headline card prime\" data-area=\"topo\" data-category=\"bloco-editorial-topo\" data-position=\"coluna-3\" data-label=\"chamada\"> <div class=\"meta\"> <h3 tabindex=\"0\" aria-label=\"assunto da mat\\xc3\\xa9ria\" class=\"meta_kicker color_prime\">At\\xc3\\xa9 vingan\\xc3\\xa7a da cadeia</h3> <span tabindex=\"0\" aria-label=\"postado h\\xc3\\xa1\" class=\"meta_time\"></span> <span class=\"uol-see-later\" data-service=\"true\"></span> </div> <a data-uol-see-later=\"url\" href=\"https://tecnologia.uol.com.br/listas/de-pentagono-a-vinganca-porno-10-ataques-hackers-que-causaram-espanto.htm\" class=\"headline_article headline_article__prime article\"> <h2 data-uol-see-later=\"title\" class=\"article_title article_title__prime\"> Pent\\xc3\\xa1gono, Olimp\\xc3\\xadada e elei\\xc3\\xa7\\xc3\\xb5es: os ataques hackers mais ousados </h2> </a> </article> <article data-key=\"5-1-hibrid-rotativo\" class=\"carousel card prime\" data-area=\"topo\" data-category=\"bloco-editorial-topo\" data-position=\"rotativo\" data-label=\"chamada-destaque\"> <div class=\"slider\"> <ul class=\"slider_content\"> <li class=\"slider_content__item\" data-index=\"0\" data-category=\"\" data-area=\"\" data-label=\"\"> <div class=\"meta\"> <h3 tabindex=\"0\" aria-label=\"assunto da mat\\xc3\\xa9ria\" class=\"meta_kicker color_prime\">Imprensa de olho nos candidatos</h3> <span tabindex=\"0\" aria-label=\"postado h\\xc3\\xa1\" class=\"meta_time\"></span> <span class=\"uol-see-later\" data-service=\"true\"></span> </div> <a data-uol-see-later=\"url\" href=\"https://www1.folha.uol.com.br/poder/2018/10/estudo-americano-destaca-atencao-de-imprensa-internacional-para-ascensao-de-bolsonaro.shtml\" class=\"carousel_article carousel_article__prime article\" data-position=\"item-1\"> <div class=\"article_imageWrapper article_textOverlay\"> <figure class=\"placeholder placeholder_carousel retangular\"> <img data-src=\"https://hp.imguol.com.br/c/home/e1/2018/09/29/bolsonaro-desce-do-aviao-1538269125424_300x200.jpg\" data-uol-see-later=\"image\" class=\"placeholder_image placeholder_image__carousel\" alt=\"\" title=\"Wilton Junior/Estad\\xc3\\xa3o Conte\\xc3\\xbado\" aria-label=\"\" tabindex=\"0\" onerror=\"this.remove()\"> </figure> <h2 data-uol-see-later=\"title\" class=\"article_title article_title__prime borderColor_prime\"> Estudo dos EUA destaca aten\\xc3\\xa7\\xc3\\xa3o internacional para alta de Bolsonaro </h2> </div> <span class=\"article_credits\">Wilton Junior/Estad\\xc3\\xa3o Conte\\xc3\\xbado</span> </a> </li> <li class=\"slider_content__item\" data-index=\"1\" data-category=\"\" data-area=\"\" data-label=\"\"> <div class=\"meta\"> <h3 tabindex=\"0\" aria-label=\"assunto da mat\\xc3\\xa9ria\" class=\"meta_kicker color_prime\">Est\\xc3\\xa1 chegando a hora do 1\\xc2\\xba turno</h3> <span tabindex=\"0\" aria-label=\"postado h\\xc3\\xa1\" class=\"meta_time\"></span> <span class=\"uol-see-later\" data-service=\"true\"></span> </div> <a data-uol-see-later=\"url\" href=\"https://noticias.uol.com.br/politica/eleicoes/2018/noticias/bbc/2018/10/03/voto-util-abstencoes-e-outros-tres-fatores-que-podem-definir-a-eleicao.htm\" class=\"carousel_article carousel_article__prime article\" data-position=\"item-2\"> <div class=\"article_imageWrapper article_textOverlay\"> <figure class=\"placeholder placeholder_carousel retangular\"> <img data-src=\"https://hp.imguol.com.br/c/home/2b/2018/07/21/urna-eletronica-eleicao-eleitoral-votacao-sufragio-pleito-candidato-campanha-eleitoral-1532152860927_300x200.jpg\" data-uol-see-later=\"image\" class=\"placeholder_image placeholder_image__carousel\" alt=\"\" title=\"Alan Marques/Folhapress\" aria-label=\"\" tabindex=\"0\" onerror=\"this.remove()\"> </figure> <h2 data-uol-see-later=\"title\" class=\"article_title article_title__prime borderColor_prime\"> Voto \\xc3\\xbatil, absten\\xc3\\xa7\\xc3\\xb5es e outros tr\\xc3\\xaas fatores que podem definir a elei\\xc3\\xa7\\xc3\\xa3o </h2> </div> <span class=\"article_credits\">Alan Marques/Folhapress</span> </a> </li> <li class=\"slider_content__item\" data-index=\"2\" data-category=\"\" data-area=\"\" data-label=\"\"> <div class=\"meta\"> <h3 tabindex=\"0\" aria-label=\"assunto da mat\\xc3\\xa9ria\" class=\"meta_kicker color_prime\">Legalizar ou combater?</h3> <span tabindex=\"0\" aria-label=\"postado h\\xc3\\xa1\" class=\"meta_time\"></span> <span class=\"uol-see-later\" data-service=\"true\"></span> </div> <a data-uol-see-later=\"url\" href=\"http://www.uol/eleicoes/especiais/propostas-dos-candidatos-sobre-drogas-legalizacao-descriminalizacao-maconha.htm\" class=\"carousel_article carousel_article__prime article\" data-position=\"item-3\"> <div class=\"article_imageWrapper article_textOverlay\"> <figure class=\"placeholder placeholder_carousel retangular\"> <img data-src=\"https://hp.imguol.com.br/c/home/ae/2018/09/26/debate-entre-presidenciaveis-promovido-por-uol-sbt-e-folha-1537995351566_300x200.jpg\" data-uol-see-later=\"image\" class=\"placeholder_image placeholder_image__carousel\" alt=\"\" title=\"Nelson Antoine/UOL\" aria-label=\"\" tabindex=\"0\" onerror=\"this.remove()\"> </figure> <h2 data-uol-see-later=\"title\" class=\"article_title article_title__prime borderColor_prime\"> Como os presidenci\\xc3\\xa1veis pretendem lidar com a quest\\xc3\\xa3o da maconha </h2> </div> <span class=\"article_credits\">Nelson Antoine/UOL</span> </a> </li> </ul> <nav class=\"slider_indicator\"> <label class=\"slider_indicator__dot navigation_option__prime active borderColor_prime\" aria-label=\"item 0\" data-index=\"0\"></label> <label class=\"slider_indicator__dot navigation_option__prime\" aria-label=\"item 1\" data-index=\"1\"></label> <label class=\"slider_indicator__dot navigation_option__prime\" aria-label=\"item 2\" data-index=\"2\"></label> </nav> </div> </article> <section class=\"thematic card card_gutter\" data-key=\"5-2-hibrid-2colunas\" data-area=\"topo\" data-category=\"bloco-editorial-topo\" data-position=\"2colunas\" data-label=\"chamada\"> <article class=\"articleList\"> <a data-uol-see-later=\"url\" href=\"https://vivabem.uol.com.br/noticias/redacao/2018/10/03/proteste-reprova-dez-marcas-whey-protein-por-excesso-de-carboidrato.htm\" data-category=\"\" data-area=\"\" data-label=\"\" data-position=\"item-1\"> <figure class=\"placeholder placeholder_thematic \"> <img data-src=\"https://hp.imguol.com.br/c/home/8a/2018/08/05/tomar-whey-protein-junto-com-a-refeicao-e-melhor-para-perder-gordura-e-ganhar-musculos-1533505926189_100x100.jpg\" data-uol-see-later=\"image\" class=\"placeholder_image placeholder_image__thematic\" alt=\"\" title=\"iStock\" aria-label=\"\" tabindex=\"0\" onerror=\"this.remove()\"> </figure> <h3 class=\"articleList_title color_prime\">Quantidade de carboidrato</h3> <p data-uol-see-later=\"title\" class=\"articleList_text\">Proteste reprova dez marcas de whey protein ap\\xc3\\xb3s teste; veja</p> <span class=\"uol-see-later\" data-service=\"true\"></span> </a> </article> <article class=\"articleList\"> <a data-uol-see-later=\"url\" href=\"https://noticias.uol.com.br/ciencia/ultimas-noticias/redacao/2018/10/03/cientistas-encontram-evidencias-de-exolua.htm\" data-category=\"\" data-area=\"\" data-label=\"\" data-position=\"item-2\"> <figure class=\"placeholder placeholder_thematic \"> <img data-src=\"https://hp.imguol.com.br/c/home/14/2018/10/03/astronomos-encontram-evidencias-de-primeira-exolua---impressao-do-artista-sobre-o-exoplaneta-kepler-1625b-com-sua-possivel-lua-gigante-o-par-tem-uma-relacao-de-massa-e-raio-semelhante-ao-sistema-terra-lua-1538615454111_100x100.jpg\" data-uol-see-later=\"image\" class=\"placeholder_image placeholder_image__thematic\" alt=\"\" title=\"Dan Duda\" aria-label=\"\" tabindex=\"0\" onerror=\"this.remove()\"> </figure> <h3 class=\"articleList_title color_prime\">Fora do Sistema Solar</h3> <p data-uol-see-later=\"title\" class=\"articleList_text\">Achadas evid\\xc3\\xaancias de 1\\xc2\\xaa \\'exolua\\', 11 vezes maior que nossa Lua</p> <span class=\"uol-see-later\" data-service=\"true\"></span> </a> </article> <article class=\"articleList\"> <a data-uol-see-later=\"url\" href=\"https://universa.uol.com.br/noticias/bbc/2018/10/03/vaginismo-quando-seu-corpo-diz-nao-para-o-sexo.htm\" data-category=\"\" data-area=\"\" data-label=\"\" data-position=\"item-3\"> <figure class=\"placeholder placeholder_thematic \"> <img data-src=\"https://hp.imguol.com.br/c/home/d3/2018/10/03/isley-lynn-foi-diagnosticada-com-vaginismo-no-final-da-adolescencia-ela-tinha-dificuldade-para-usar-absorvente-intimo-e-para-ter-prazer-durante-o-sexo-1538604136542_100x100.jpg\" data-uol-see-later=\"image\" class=\"placeholder_image placeholder_image__thematic\" alt=\"\" title=\"The Other Richard\" aria-label=\"\" tabindex=\"0\" onerror=\"this.remove()\"> </figure> <h3 class=\"articleList_title color_prime\">Contra\\xc3\\xa7\\xc3\\xa3o</h3> <p data-uol-see-later=\"title\" class=\"articleList_text\">Vaginismo: quando seu corpo diz \\'n\\xc3\\xa3o\\' para o sexo</p> <span class=\"uol-see-later\" data-service=\"true\"></span> </a> </article> <article class=\"articleList\"> <a data-uol-see-later=\"url\" href=\"https://cozinhabruta.blogfolha.uol.com.br/2018/10/03/lenda-ou-realidade-voce-acredita-em-hamburguer-de-picanha/\" data-category=\"\" data-area=\"\" data-label=\"\" data-position=\"item-4\"> <figure class=\"placeholder placeholder_thematic \"> <img data-src=\"https://hp.imguol.com.br/c/home/9b/2018/10/03/cozinha-bruta---lenda-ou-realidade-voce-acredita-em-hamburguer-de-picanha---voce-sabe-me-dizer-de-que-carne-e-feito-este-sanduiche-eu-tambem-nao-1538601702547_100x100.jpg\" data-uol-see-later=\"image\" class=\"placeholder_image placeholder_image__thematic\" alt=\"\" title=\"Jun Seita/Wikimedia Commons\" aria-label=\"\" tabindex=\"0\" onerror=\"this.remove()\"> </figure> <h3 class=\"articleList_title color_prime\">No sandu\\xc3\\xadche</h3> <p data-uol-see-later=\"title\" class=\"articleList_text\">Cozinha Bruta: voc\\xc3\\xaa cr\\xc3\\xaa em hamb\\xc3\\xbarguer de picanha?</p> <span class=\"uol-see-later\" data-service=\"true\"></span> </a> </article> <article class=\"articleList\"> <a data-uol-see-later=\"url\" href=\"https://www1.folha.uol.com.br/ilustrada/2018/10/sem-convite-blogueiras-ficam-nas-ruas-na-temporada-europeia-de-moda.shtml\" data-category=\"\" data-area=\"\" data-label=\"\" data-position=\"item-5\"> <figure class=\"placeholder placeholder_thematic \"> <img data-src=\"https://hp.imguol.com.br/c/home/bb/2018/03/02/da-esquerda-a-direita-moschino-prada-alberta-ferreti-e-philosophy-di-lorenzo-serafini---glamurama-semana-de-moda-de-milao-transforma-exageros-dos-1980-em-must-have-1520017798110_100x100.jpg\" data-uol-see-later=\"image\" class=\"placeholder_image placeholder_image__thematic\" alt=\"\" title=\"Reprodu\\xc3\\xa7\\xc3\\xa3o/Instagram\" aria-label=\"\" tabindex=\"0\" onerror=\"this.remove()\"> </figure> <h3 class=\"articleList_title color_prime\">Esnobadas</h3> <p data-uol-see-later=\"title\" class=\"articleList_text\">Blogueiras ficam sem convite para desfiles na Europa</p> <span class=\"uol-see-later\" data-service=\"true\"></span> </a> </article> <article class=\"articleList\"> <a data-uol-see-later=\"url\" href=\"https://papodebar.blogosfera.uol.com.br/2018/10/03/conheca-os-ingredientes-de-seu-coquetel-parte-i/\" data-category=\"\" data-area=\"\" data-label=\"\" data-position=\"item-6\"> <figure class=\"placeholder placeholder_thematic \"> <img data-src=\"https://hp.imguol.com.br/c/home/39/2018/10/03/negroni-feito-com-vermute-gim-e-campari-do-subastor-1538603747895_100x100.jpg\" data-uol-see-later=\"image\" class=\"placeholder_image placeholder_image__thematic\" alt=\"\" title=\"Divulga\\xc3\\xa7\\xc3\\xa3o\" aria-label=\"\" tabindex=\"0\" onerror=\"this.remove()\"> </figure> <h3 class=\"articleList_title color_prime\">Bebidas</h3> <p data-uol-see-later=\"title\" class=\"articleList_text\">Afinal, o que \\xc3\\xa9 um vermute? Veja o que tem no seu drink</p> <span class=\"uol-see-later\" data-service=\"true\"></span> </a> </article> </section> <div data-key=\"3-coluna3-advertising\" class=\"advertising card card_withoutBg\"> <div class=\"banner\" id=\"banner-300x250-2-area\"></div> </div> <section class=\"thematic card card_gutter\" data-key=\"5-3-hibrid-lista\" data-area=\"topo\" data-category=\"bloco-editorial-topo\" data-position=\"lista\" data-label=\"chamada\"> <article class=\"articleList\"> <a data-uol-see-later=\"url\" href=\"https://universa.uol.com.br/noticias/redacao/2018/10/03/tom-cruise-poderia-visitar-a-filha-10-dias-no-mes-mas-nao-a-ve-ha-5-anos.htm\" data-category=\"\" data-area=\"\" data-label=\"\" data-position=\"item-1\"> <figure class=\"placeholder placeholder_thematic \"> <img data-src=\"https://hp.imguol.com.br/c/home/d1/2018/05/15/tom-cruise-1526423692845_100x100.jpg\" data-uol-see-later=\"image\" class=\"placeholder_image placeholder_image__thematic\" alt=\"\" title=\"AFP PHOTO / ANGELA WEISS \" aria-label=\"\" tabindex=\"0\" onerror=\"this.remove()\"> </figure> <h3 class=\"articleList_title color_prime\">Tem guarda compartilhada</h3> <p data-uol-see-later=\"title\" class=\"articleList_text\">Tom Cruise poderia visitar a filha, mas n\\xc3\\xa3o a v\\xc3\\xaa h\\xc3\\xa1 5 anos, diz revista</p> <span class=\"uol-see-later\" data-service=\"true\"></span> </a> </article> <article class=\"articleList\"> <a data-uol-see-later=\"url\" href=\"https://noticiasdatv.uol.com.br/noticia/novelas/malhacao-exibe-primeiro-beijo-entre-dois-rapazes-em-23-anos-e-fas-comemoramm-22637\" data-category=\"\" data-area=\"\" data-label=\"\" data-position=\"item-2\"> <figure class=\"placeholder placeholder_thematic \"> <img data-src=\"https://hp.imguol.com.br/c/home/e1/2018/10/03/michael-pedro-vinicius-e-santiago-giovanni-dopico-protagonizaram-o-primeiro-beijo-entre-rapazes-de-malhacao-1538602668503_100x100.jpg\" data-uol-see-later=\"image\" class=\"placeholder_image placeholder_image__thematic\" alt=\"\" title=\"Reprodu\\xc3\\xa7\\xc3\\xa3o/TV Globo\" aria-label=\"\" tabindex=\"0\" onerror=\"this.remove()\"> </figure> <h3 class=\"articleList_title color_prime\">Quebra de tabu</h3> <p data-uol-see-later=\"title\" class=\"articleList_text\">Malha\\xc3\\xa7\\xc3\\xa3o exibe 1\\xc2\\xba beijo entre dois rapazes em 23 anos, e f\\xc3\\xa3s celebram</p> <span class=\"uol-see-later\" data-service=\"true\"></span> </a> </article> <article class=\"articleList\"> <a data-uol-see-later=\"url\" href=\"https://glamurama.uol.com.br/luiza-brunet-nao-sou-o-tipo-que-fica-enlouquecida-para-ter-um-homem-na-cama/\" data-category=\"\" data-area=\"\" data-label=\"\" data-position=\"item-3\"> <figure class=\"placeholder placeholder_thematic \"> <img data-src=\"https://hp.imguol.com.br/c/home/d4/2018/03/08/sem-filtro-luiza-brunet-1520504478996_100x100.jpg\" data-uol-see-later=\"image\" class=\"placeholder_image placeholder_image__thematic\" alt=\"\" title=\"Lucas Lima/UOL\" aria-label=\"\" tabindex=\"0\" onerror=\"this.remove()\"> </figure> <h3 class=\"articleList_title color_prime\">\\'As coisas acontecem\\'</h3> <p data-uol-see-later=\"title\" class=\"articleList_text\">Luiza Brunet: \\'N\\xc3\\xa3o sou o tipo que fica enlouquecida para ter um homem\\'</p> <span class=\"uol-see-later\" data-service=\"true\"></span> </a> </article> <article class=\"articleList\"> <a data-uol-see-later=\"url\" href=\"https://tvefamosos.uol.com.br/noticias/redacao/2018/10/03/carlinhos-mendigo-nega-que-tenha-fugido-da-policia-apos-mandado-de-prisao.htm\" data-category=\"\" data-area=\"\" data-label=\"\" data-position=\"item-4\"> <figure class=\"placeholder placeholder_thematic \"> <img data-src=\"https://hp.imguol.com.br/c/home/ed/2017/10/24/carlinhos-silva-o-mendigo-do-panico-1508893019178_100x100.jpg\" data-uol-see-later=\"image\" class=\"placeholder_image placeholder_image__thematic\" alt=\"\" title=\"Divulga\\xc3\\xa7\\xc3\\xa3o\" aria-label=\"\" tabindex=\"0\" onerror=\"this.remove()\"> </figure> <h3 class=\"articleList_title color_prime\">Ex-P\\xc3\\xa2nico \\xc3\\xa9 cobrado por pens\\xc3\\xa3o</h3> <p data-uol-see-later=\"title\" class=\"articleList_text\">Carlinhos nega que tenha fugido ap\\xc3\\xb3s mandado de pris\\xc3\\xa3o ser expedido</p> <span class=\"uol-see-later\" data-service=\"true\"></span> </a> </article> </section> <div data-key=\"1-topo-advertising\" class=\"advertising card card_withoutBg\"> <div class=\"banner\" id=\"banner-300x250-5-area\"></div> </div> <div class=\"section card card_withoutBg sport\" data-key=\"4-section\" data-category=\"bloco-editorial-esporte\" data-area=\"esporte\" data-label=\"cabecalho-bloco\" data-position=\"topo-modulo\"> <a href=\"http://esporte.uol.com.br/\"> <h2 class=\"sectionTitle borderColor_sport\"> <span class=\"sectionTitle_text\">esporte</span> </h2> </a> </div> <article data-key=\"4-1-manchete\" class=\"screamer card sport\" data-area=\"esporte\" data-category=\"bloco-editorial-esporte\" data-position=\"2-colunas\" data-label=\"manchete\"> <div class=\"meta\"> <h3 tabindex=\"0\" aria-label=\"assunto da mat\\xc3\\xa9ria\" class=\"meta_kicker color_sport\">Futebol brasileiro</h3> <span tabindex=\"0\" aria-label=\"postado h\\xc3\\xa1\" class=\"meta_time\"></span> <span class=\"uol-see-later\" data-service=\"true\"></span> </div> <a data-uol-see-later=\"url\" href=\"https://esporte.uol.com.br/futebol/ultimas-noticias/2018/10/03/calendario-2019-repete-problemas-com-data-fifa-mas-para-na-copa-america.htm\" class=\"screamer_article screamer_article__sport article\"> <div class=\"article_imageWrapper \"> <figure class=\"placeholder placeholder_screamer retangular\"> <img data-src=\"https://hp.imguol.com.br/c/home/62/2018/10/03/estadio-allianz-parque-pronto-para-receber-partida-do-campeonato-brasileiro-1538606480704_300x200.jpg\" data-uol-see-later=\"image\" class=\"placeholder_image placeholder_image__screamer\" alt=\"\" title=\"Lucas Mercon / Fluminense FC\" aria-label=\"\" tabindex=\"0\" onerror=\"this.remove()\"> </figure> </div> <span class=\"article_credits\">Lucas Mercon / Fluminense FC</span> <h2 data-uol-see-later=\"title\" class=\"article_title article_title__sport\"> Calend\\xc3\\xa1rio de 2019 repete conflito entre sele\\xc3\\xa7\\xc3\\xb5es e clubes </h2> <p class=\"article_subtitle \">Temporada ter\\xc3\\xa1 problemas conhecidos, como torneio que n\\xc3\\xa3o para em data-Fifa</p> </a> </article> <article data-key=\"4-1-submanchete\" class=\"subScreamer card sport\" data-area=\"esporte\" data-category=\"bloco-editorial-esporte\" data-position=\"coluna-1\" data-label=\"submanchete\"> <div class=\"meta\"> <h3 tabindex=\"0\" aria-label=\"assunto da mat\\xc3\\xa9ria\" class=\"meta_kicker color_sport\">Enfrentar\\xc3\\xa1 o Corinthians</h3> <span tabindex=\"0\" aria-label=\"postado h\\xc3\\xa1\" class=\"meta_time\"></span> <span class=\"uol-see-later\" data-service=\"true\"></span> </div> <a data-uol-see-later=\"url\" href=\"https://esporte.uol.com.br/futebol/ultimas-noticias/lancepress/2018/10/03/vitinho-sente-dores-e-flamengo-segue-indefinido-para-encarar-o-corinthians.htm\" class=\"subScreamer_article subScreamer_article__sport article\"> <figure class=\"placeholder placeholder_subScreamer \"> <img data-src=\"https://hp.imguol.com.br/c/home/a3/2018/09/29/o-atacante-vitinho-em-lance-da-partida-entre-bahia-e-flamengo-pelo-brasileirao-1538272570185_100x100.jpg\" data-uol-see-later=\"image\" class=\"placeholder_image placeholder_image__subScreamer\" alt=\"\" title=\"Staff Images / Flamengo\" aria-label=\"\" tabindex=\"0\" onerror=\"this.remove()\"> </figure> <h2 data-uol-see-later=\"title\" class=\"article_title article_title__sport\"> Vitinho sente dores, e Fla segue indefinido para jogo </h2> <p class=\"article_subtitle article_subtitle__notCredits \">Atacante teve desconforto na coxa; partida ser\\xc3\\xa1 na sexta-feira, em S\\xc3\\xa3o Paulo</p> </a> </article> <article data-key=\"4-2-submanchete\" class=\"subScreamer card sport\" data-area=\"esporte\" data-category=\"bloco-editorial-esporte\" data-position=\"coluna-2\" data-label=\"submanchete\"> <div class=\"meta\"> <h3 tabindex=\"0\" aria-label=\"assunto da mat\\xc3\\xa9ria\" class=\"meta_kicker color_sport\">Copa do Brasil</h3> <span tabindex=\"0\" aria-label=\"postado h\\xc3\\xa1\" class=\"meta_time\"></span> <span class=\"uol-see-later\" data-service=\"true\"></span> </div> <a data-uol-see-later=\"url\" href=\"https://esporte.uol.com.br/futebol/ultimas-noticias/lancepress/2018/10/03/torcida-do-corinthians-reserva-todos-os-ingressos-para-final-da-copa-do-br.htm\" class=\"subScreamer_article subScreamer_article__sport article\"> <figure class=\"placeholder placeholder_subScreamer \"> <img data-src=\"https://hp.imguol.com.br/c/home/59/2018/03/29/torcida-do-corinthians-antes-do-classico-contra-o-palmeiras-em-itaquera-1522362330185_100x100.jpg\" data-uol-see-later=\"image\" class=\"placeholder_image placeholder_image__subScreamer\" alt=\"\" title=\"Alexandre Schneider/Getty Images\" aria-label=\"\" tabindex=\"0\" onerror=\"this.remove()\"> </figure> <h2 data-uol-see-later=\"title\" class=\"article_title article_title__sport\"> Torcida corintiana reserva todos os ingressos da final </h2> <p class=\"article_subtitle article_subtitle__notCredits \">Equipe paulista far\\xc3\\xa1 jogo de volta contra o Cruzeiro em SP, no dia 17</p> </a> </article> <article data-key=\"4-rotativo\" class=\"carousel card sport\" data-area=\"esporte\" data-category=\"bloco-editorial-esporte\" data-position=\"item\" data-label=\"chamada-destaque\"> <div class=\"highlight\"> <ul class=\"slider_content\"> <li class=\"slider_content__item\" data-index=\"0\" data-category=\"\" data-area=\"\" data-label=\"\"> <div class=\"meta\"> <h3 tabindex=\"0\" aria-label=\"assunto da mat\\xc3\\xa9ria\" class=\"meta_kicker color_sport\">Dor nas costas</h3> <span tabindex=\"0\" aria-label=\"postado h\\xc3\\xa1\" class=\"meta_time\"></span> <span class=\"uol-see-later\" data-service=\"true\"></span> </div> <a data-uol-see-later=\"url\" href=\"https://esporte.uol.com.br/futebol/campeonatos/liga-dos-campeoes/ultimas-noticias/2018/10/03/liverpool-diz-que-keita-foi-levado-a-hospital-apos-deixar-jogo-da-champions.htm\" class=\"carousel_article carousel_article__sport article\" data-position=\"item-1\"> <div class=\"article_imageWrapper article_textOverlay\"> <figure class=\"placeholder placeholder_carousel retangular\"> <img data-src=\"https://hp.imguol.com.br/c/home/99/2018/10/03/keita-foi-substituido-no-primeiro-tempo-da-partida-entre-liverpool-e-napoli-1538613920517_300x200.jpg\" data-uol-see-later=\"image\" class=\"placeholder_image placeholder_image__carousel\" alt=\"\" title=\"Alberto PIZZOLI / AFP\" aria-label=\"\" tabindex=\"0\" onerror=\"this.remove()\"> </figure> <h2 data-uol-see-later=\"title\" class=\"article_title article_title__sport borderColor_sport\"> Jogo acabou mais cedo para Keita </h2> </div> <span class=\"article_credits\">Alberto PIZZOLI / AFP</span> <p class=\"article_subtitle \">Meia do Liverpool \\xc3\\xa9 levado a hospital ap\\xc3\\xb3s deixar partida da Champions</p> </a> </li> </ul> </div> </article> <article data-key=\"4-1-1-chamada\" class=\"headline card sport\" data-area=\"esporte\" data-category=\"bloco-editorial-esporte\" data-position=\"coluna-1\" data-label=\"chamada\"> <div class=\"meta\"> <h3 tabindex=\"0\" aria-label=\"assunto da mat\\xc3\\xa9ria\" class=\"meta_kicker color_sport\">Candidato de Bandeira</h3> <span tabindex=\"0\" aria-label=\"postado h\\xc3\\xa1\" class=\"meta_time\"></span> <span class=\"uol-see-later\" data-service=\"true\"></span> </div> <a data-uol-see-later=\"url\" href=\"https://esporte.uol.com.br/futebol/ultimas-noticias/2018/10/03/comissao-marca-votacao-sobre-impugnacao-de-candidato-de-bandeira-no-fla.htm\" class=\"headline_article headline_article__sport article\"> <figure class=\"placeholder placeholder_headline \"> <img data-src=\"https://hp.imguol.com.br/c/home/ce/2018/10/03/ricardo-lomba-vice-de-futebol-e-candidato-a-presidencia-do-flamengo-pela-chapa-azul-ao-lado-do-vice-presidente-walter-oaquim-1538613320047_100x100.jpg\" data-uol-see-later=\"image\" class=\"placeholder_image placeholder_image__headline\" alt=\"\" title=\"Vinicius Castro/UOL\" aria-label=\"\" tabindex=\"0\" onerror=\"this.remove()\"> </figure> <h2 data-uol-see-later=\"title\" class=\"article_title article_title__sport\"> No Flamengo, comiss\\xc3\\xa3o marca vota\\xc3\\xa7\\xc3\\xa3o sobre impugna\\xc3\\xa7\\xc3\\xa3o de Lomba </h2> </a> </article> <article data-key=\"4-2-1-chamada\" class=\"headline card sport\" data-area=\"esporte\" data-category=\"bloco-editorial-esporte\" data-position=\"coluna-1\" data-label=\"chamada\"> <div class=\"meta\"> <h3 tabindex=\"0\" aria-label=\"assunto da mat\\xc3\\xa9ria\" class=\"meta_kicker color_sport\">Copa Am\\xc3\\xa9rica</h3> <span tabindex=\"0\" aria-label=\"postado h\\xc3\\xa1\" class=\"meta_time\"></span> <span class=\"uol-see-later\" data-service=\"true\"></span> </div> <a data-uol-see-later=\"url\" href=\"https://esporte.uol.com.br/futebol/ultimas-noticias/2018/10/03/pezao-assegura-maracana-na-copa-america-mesmo-com-impasse-judicial.htm\" class=\"headline_article headline_article__sport article\"> <figure class=\"placeholder placeholder_headline \"> <img data-src=\"https://hp.imguol.com.br/c/home/a9/2018/10/03/maracana-imagem-aerea-1538570313868_100x100.jpg\" data-uol-see-later=\"image\" class=\"placeholder_image placeholder_image__headline\" alt=\"\" title=\"Matthew Stockman/Getty Images\" aria-label=\"\" tabindex=\"0\" onerror=\"this.remove()\"> </figure> <h2 data-uol-see-later=\"title\" class=\"article_title article_title__sport\"> Mesmo com impasse judicial, Pez\\xc3\\xa3o assegura Maracan\\xc3\\xa3 no torneio </h2> </a> </article> <article data-key=\"4-2-3-chamada\" class=\"headline card sport\" data-area=\"esporte\" data-category=\"bloco-editorial-esporte\" data-position=\"coluna-1\" data-label=\"chamada-coringa\"> <div class=\"meta\"> <h3 tabindex=\"0\" aria-label=\"assunto da mat\\xc3\\xa9ria\" class=\"meta_kicker color_sport\">App de futebol</h3> <span tabindex=\"0\" aria-label=\"postado h\\xc3\\xa1\" class=\"meta_time\"></span> <span class=\"uol-see-later\" data-service=\"true\"></span> </div> <a data-uol-see-later=\"url\" href=\"https://esporte.uol.com.br/futebol/ultimas-noticias/2017/05/16/acompanhe-os-lances-do-brasileirao-com-o-app-placar-uol.htm\" class=\"headline_article headline_article__sport article\"> <figure class=\"placeholder placeholder_headline \"> <img data-src=\"https://hp.imguol.com.br/c/home/38/2017/05/16/arte-aplicativo-placar-uol-2-1494965812127_100x100.jpg\" data-uol-see-later=\"image\" class=\"placeholder_image placeholder_image__headline\" alt=\"\" title=\"Arte UOL\" aria-label=\"\" tabindex=\"0\" onerror=\"this.remove()\"> </figure> <h2 data-uol-see-later=\"title\" class=\"article_title article_title__sport\"> No Placar UOL, voc\\xc3\\xaa tem classifica\\xc3\\xa7\\xc3\\xa3o em tempo real e 10 times favoritos </h2> </a> </article> <article data-key=\"4-3-1-chamada\" class=\"headline card sport\" data-area=\"esporte\" data-category=\"bloco-editorial-esporte\" data-position=\"coluna-1\" data-label=\"chamada\"> <div class=\"meta\"> <h3 tabindex=\"0\" aria-label=\"assunto da mat\\xc3\\xa9ria\" class=\"meta_kicker color_sport\">Kate Woodcock</h3> <span tabindex=\"0\" aria-label=\"postado h\\xc3\\xa1\" class=\"meta_time\"></span> <span class=\"uol-see-later\" data-service=\"true\"></span> </div> <a data-uol-see-later=\"url\" href=\"https://esporte.uol.com.br/f1/ultimas-noticias/2018/10/03/morte-de-ex-grid-girl-na-inglaterra-gera-comocao-de-fas-da-formula-1.htm\" class=\"headline_article headline_article__sport article\"> <figure class=\"placeholder placeholder_headline \"> <img data-src=\"https://hp.imguol.com.br/c/home/29/2018/10/03/kate-woodcock-foi-grid-girl-da-formula-1-1538607174135_100x100.jpg\" data-uol-see-later=\"image\" class=\"placeholder_image placeholder_image__headline\" alt=\"\" title=\"Divulga\\xc3\\xa7\\xc3\\xa3o\" aria-label=\"\" tabindex=\"0\" onerror=\"this.remove()\"> </figure> <h2 data-uol-see-later=\"title\" class=\"article_title article_title__sport\"> Morte de ex-grid girl da F-1 em acidente gera como\\xc3\\xa7\\xc3\\xa3o na Inglaterra </h2> </a> </article> <article data-key=\"4-4-1-chamada\" class=\"headline card sport\" data-area=\"esporte\" data-category=\"bloco-editorial-esporte\" data-position=\"coluna-2\" data-label=\"chamada\"> <div class=\"meta\"> <h3 tabindex=\"0\" aria-label=\"assunto da mat\\xc3\\xa9ria\" class=\"meta_kicker color_sport\">No Palmeiras</h3> <span tabindex=\"0\" aria-label=\"postado h\\xc3\\xa1\" class=\"meta_time\"></span> <span class=\"uol-see-later\" data-service=\"true\"></span> </div> <a data-uol-see-later=\"url\" href=\"https://esporte.uol.com.br/futebol/ultimas-noticias/2018/10/03/galiotte-oficializa-chapa-com-4-vices-para-buscar-reeleicao-no-palmeiras.htm\" class=\"headline_article headline_article__sport article\"> <h2 data-uol-see-later=\"title\" class=\"article_title article_title__sport\"> Galiotte oficializa chapa com 4 vices para buscar a reelei\\xc3\\xa7\\xc3\\xa3o </h2> </a> </article> <article data-key=\"4-5-1-chamada\" class=\"headline card sport\" data-area=\"esporte\" data-category=\"bloco-editorial-esporte\" data-position=\"coluna-3\" data-label=\"chamada\"> <div class=\"meta\"> <h3 tabindex=\"0\" aria-label=\"assunto da mat\\xc3\\xa9ria\" class=\"meta_kicker color_sport\">T\\xc3\\xaanis</h3> <span tabindex=\"0\" aria-label=\"postado h\\xc3\\xa1\" class=\"meta_time\"></span> <span class=\"uol-see-later\" data-service=\"true\"></span> </div> <a data-uol-see-later=\"url\" href=\"http://tenisbrasil.uol.com.br/noticias/62391/Ferrer-afirma-que-Federer-e-o-maior-da-historia/\" class=\"headline_article headline_article__sport article\"> <figure class=\"placeholder placeholder_headline \"> <img data-src=\"https://hp.imguol.com.br/c/home/31/2018/07/06/roger-federer-em-acao-pela-segunda-rodada-de-wimbledon-1530901736347_100x100.jpg\" data-uol-see-later=\"image\" class=\"placeholder_image placeholder_image__headline\" alt=\"\" title=\"Andrew Couldridge/Reuters\" aria-label=\"\" tabindex=\"0\" onerror=\"this.remove()\"> </figure> <h2 data-uol-see-later=\"title\" class=\"article_title article_title__sport\"> Espanhol David Ferrer afirma que Federer \\xc3\\xa9 o maior da hist\\xc3\\xb3ria </h2> </a> <ul class=\"related\"> <li> <a href=\"https://blogdobarcinski.blogosfera.uol.com.br/2018/10/03/filme-revela-a-arte-de-john-mcenroe-genio-do-tenis/\" class=\"borderColor_sport related_title\" data-label=\"chamada-relacionada\">Barcinski: Filme revela arte de McEnroe</a> </li> </ul> </article> <article data-key=\"4-6-1-chamada\" class=\"headline card sport\" data-area=\"esporte\" data-category=\"bloco-editorial-esporte\" data-position=\"coluna-3\" data-label=\"chamada\"> <div class=\"meta\"> <h3 tabindex=\"0\" aria-label=\"assunto da mat\\xc3\\xa9ria\" class=\"meta_kicker color_sport\">#MeToo</h3> <span tabindex=\"0\" aria-label=\"postado h\\xc3\\xa1\" class=\"meta_time\"></span> <span class=\"uol-see-later\" data-service=\"true\"></span> </div> <a data-uol-see-later=\"url\" href=\"https://esporte.uol.com.br/ultimas-noticias/afp/2018/10/03/movimento-metoo-encorajou-suposta-vitima-de-cr7-a-falar.htm\" class=\"headline_article headline_article__sport article\"> <figure class=\"placeholder placeholder_headline \"> <img data-src=\"https://hp.imguol.com.br/c/home/15/2018/07/17/cristiano-ronaldo-1531822608876_100x100.jpg\" data-uol-see-later=\"image\" class=\"placeholder_image placeholder_image__headline\" alt=\"\" title=\"Divulga\\xc3\\xa7\\xc3\\xa3o/Juventus\" aria-label=\"\" tabindex=\"0\" onerror=\"this.remove()\"> </figure> <h2 data-uol-see-later=\"title\" class=\"article_title article_title__sport\"> Movimento feminista encorajou suposta v\\xc3\\xadtima de C. Ronaldo a falar </h2> </a> </article> <article data-key=\"4-7-1-chamada\" class=\"headline card sport\" data-area=\"esporte\" data-category=\"bloco-editorial-esporte\" data-position=\"coluna-3\" data-label=\"chamada\"> <div class=\"meta\"> <h3 tabindex=\"0\" aria-label=\"assunto da mat\\xc3\\xa9ria\" class=\"meta_kicker color_sport\">T\\xc3\\xa9cnico da sele\\xc3\\xa7\\xc3\\xa3o</h3> <span tabindex=\"0\" aria-label=\"postado h\\xc3\\xa1\" class=\"meta_time\"></span> <span class=\"uol-see-later\" data-service=\"true\"></span> </div> <a data-uol-see-later=\"url\" href=\"https://esporte.uol.com.br/futebol/ultimas-noticias/2018/10/03/gareth-southgate-renovara-com-a-selecao-da-inglaterra-ate-2022-diz-tv.htm\" class=\"headline_article headline_article__sport article\"> <figure class=\"placeholder placeholder_headline \"> <img data-src=\"https://hp.imguol.com.br/c/home/7e/2018/06/24/gareth-southgate-durante-goleada-da-inglaterra-contra-o-panama-1529889377712_100x100.jpg\" data-uol-see-later=\"image\" class=\"placeholder_image placeholder_image__headline\" alt=\"\" title=\"AP Photo/Matthias Schrader\" aria-label=\"\" tabindex=\"0\" onerror=\"this.remove()\"> </figure> <h2 data-uol-see-later=\"title\" class=\"article_title article_title__sport\"> Southgate renovar\\xc3\\xa1 com Inglaterra at\\xc3\\xa9 2022, diz TV </h2> </a> </article> <article data-key=\"4-8-1-chamada\" class=\"headline card sport\" data-area=\"esporte\" data-category=\"bloco-editorial-esporte\" data-position=\"coluna-4\" data-label=\"chamada\"> <div class=\"meta\"> <h3 tabindex=\"0\" aria-label=\"assunto da mat\\xc3\\xa9ria\" class=\"meta_kicker color_sport\">Negocia\\xc3\\xa7\\xc3\\xa3o vai para o Cade</h3> <span tabindex=\"0\" aria-label=\"postado h\\xc3\\xa1\" class=\"meta_time\"></span> <span class=\"uol-see-later\" data-service=\"true\"></span> </div> <a data-uol-see-later=\"url\" href=\"https://marcelrizzo.blogosfera.uol.com.br/2018/10/03/clubes-reclamam-a-cade-de-discriminacao-em-oferta-da-globo-para-brasileiro/\" class=\"headline_article headline_article__sport article\"> <figure class=\"placeholder placeholder_headline \"> <img data-src=\"https://hp.imguol.com.br/c/home/a3/2017/03/25/televisao-futebol-tv-controle-remoto-1490487301154_100x100.jpg\" data-uol-see-later=\"image\" class=\"placeholder_image placeholder_image__headline\" alt=\"\" title=\"iStock\" aria-label=\"\" tabindex=\"0\" onerror=\"this.remove()\"> </figure> <h2 data-uol-see-later=\"title\" class=\"article_title article_title__sport\"> Clubes reclamam de discrimina\\xc3\\xa7\\xc3\\xa3o em oferta da Globo ao Brasileiro </h2> </a> </article> <article data-key=\"4-9-1-chamada\" class=\"headline card sport\" data-area=\"esporte\" data-category=\"bloco-editorial-esporte\" data-position=\"coluna-4\" data-label=\"chamada\"> <div class=\"meta\"> <h3 tabindex=\"0\" aria-label=\"assunto da mat\\xc3\\xa9ria\" class=\"meta_kicker color_sport\">Dibradoras</h3> <span tabindex=\"0\" aria-label=\"postado h\\xc3\\xa1\" class=\"meta_time\"></span> <span class=\"uol-see-later\" data-service=\"true\"></span> </div> <a data-uol-see-later=\"url\" href=\"https://dibradoras.blogosfera.uol.com.br/2018/10/03/colo-colo-se-torna-1o-clube-do-chile-a-incluir-cota-feminina-na-diretoria/\" class=\"headline_article headline_article__sport article\"> <figure class=\"placeholder placeholder_headline \"> <img data-src=\"https://hp.imguol.com.br/c/home/51/2018/10/03/colo-colo-se-torna-1-clube-do-chile-a-incluir-cota-feminina-na-diretoria-1538607933755_100x100.jpg\" data-uol-see-later=\"image\" class=\"placeholder_image placeholder_image__headline\" alt=\"\" title=\"Divulga\\xc3\\xa7\\xc3\\xa3o \" aria-label=\"\" tabindex=\"0\" onerror=\"this.remove()\"> </figure> <h2 data-uol-see-later=\"title\" class=\"article_title article_title__sport\"> Colo-Colo se torna 1\\xc2\\xba time do Chile a ter cota feminina na diretoria </h2> </a> </article> <article data-key=\"4-10-1-chamada\" class=\"headline card sport\" data-area=\"esporte\" data-category=\"bloco-editorial-esporte\" data-position=\"coluna-4\" data-label=\"chamada\"> <div class=\"meta\"> <h3 tabindex=\"0\" aria-label=\"assunto da mat\\xc3\\xa9ria\" class=\"meta_kicker color_sport\">Duelo pelo Brasileir\\xc3\\xa3o</h3> <span tabindex=\"0\" aria-label=\"postado h\\xc3\\xa1\" class=\"meta_time\"></span> <span class=\"uol-see-later\" data-service=\"true\"></span> </div> <a data-uol-see-later=\"url\" href=\"https://esporte.uol.com.br/futebol/ultimas-noticias/lancepress/2018/10/03/sao-paulo-recusa-pedido-de-treino-aberto-antes-do-choque-rei.htm\" class=\"headline_article headline_article__sport article\"> <figure class=\"placeholder placeholder_headline \"> <img data-src=\"https://hp.imguol.com.br/c/home/9d/2018/10/02/torcida-do-sao-paulo-lota-o-morumbi-para-ver-jogo-contra-a-chapecoense-1538515607480_100x100.jpg\" data-uol-see-later=\"image\" class=\"placeholder_image placeholder_image__headline\" alt=\"\" title=\"Alexandre Schneider/Getty Images\" aria-label=\"\" tabindex=\"0\" onerror=\"this.remove()\"> </figure> <h2 data-uol-see-later=\"title\" class=\"article_title article_title__sport\"> SP recusa pedidos por treino aberto antes de cl\\xc3\\xa1ssico com Palmeiras </h2> </a> </article> <div data-key=\"5-widget-futebol\" class=\"teams card_gutter\" data-category=\"bloco-customizado-esporte\" data-area=\"esporte\"> <section class=\"card widget_teams\"> <h2 class=\"thematicTitle thematicTitle_sport \"> <span class=\"thematicTitle_text \">Escolha seu time</span> </h2> <div class=\"customWidget_center\"> <ul class=\"customWidget customWidget_teams\"> <li class=\"customWidget_teams__item\"> <a href=\"http://esporte.uol.com.br/futebol/times/america-mg/\" data-id=\"26\" data-name=\"Am\\xc3\\xa9rica MG\" title=\"Am\\xc3\\xa9rica MG\" data-action=\"clique\" data-label=\"selecionar-america-mg\" data-position=\"item-1\" data-nofollow=\"true\"> <span class=\"customWidget_teams__spriteImg customWidget_teams__americaMg\"></span> <span class=\"customWidget_teams__title\">Am\\xc3\\xa9rica MG</span> </a> </li> <li class=\"customWidget_teams__item\"> <a href=\"http://esporte.uol.com.br/futebol/times/atletico-mg/\" data-id=\"4\" data-name=\"Atl\\xc3\\xa9tico MG\" title=\"Atl\\xc3\\xa9tico MG\" data-action=\"clique\" data-label=\"selecionar-atletico-mg\" data-position=\"item-2\" data-nofollow=\"true\"> <span class=\"customWidget_teams__spriteImg customWidget_teams__atleticoMg\"></span> <span class=\"customWidget_teams__title\">Atl\\xc3\\xa9tico MG</span> </a> </li> <li class=\"customWidget_teams__item\"> <a href=\"http://esporte.uol.com.br/futebol/times/atletico-pr/\" data-id=\"3\" data-name=\"Atl\\xc3\\xa9tico PR\" title=\"Atl\\xc3\\xa9tico PR\" data-action=\"clique\" data-label=\"selecionar-atletico-pr\" data-position=\"item-3\" data-nofollow=\"true\"> <span class=\"customWidget_teams__spriteImg customWidget_teams__atleticoPr\"></span> <span class=\"customWidget_teams__title\">Atl\\xc3\\xa9tico PR</span> </a> </li> <li class=\"customWidget_teams__item\"> <a href=\"http://esporte.uol.com.br/futebol/times/bahia/\" data-id=\"30\" data-name=\"Bahia\" title=\"Bahia\" data-action=\"clique\" data-label=\"selecionar-bahia\" data-position=\"item-4\" data-nofollow=\"true\"> <span class=\"customWidget_teams__spriteImg customWidget_teams__bahia\"></span> <span class=\"customWidget_teams__title\">Bahia</span> </a> </li> <li class=\"customWidget_teams__item\"> <a href=\"http://esporte.uol.com.br/futebol/times/botafogo/\" data-id=\"5\" data-name=\"Botafogo\" title=\"Botafogo\" data-action=\"clique\" data-label=\"selecionar-botafogo\" data-position=\"item-5\" data-nofollow=\"true\"> <span class=\"customWidget_teams__spriteImg customWidget_teams__botafogo\"></span> <span class=\"customWidget_teams__title\">Botafogo</span> </a> </li> <li class=\"customWidget_teams__item\"> <a href=\"http://esporte.uol.com.br/futebol/times/ceara/\" data-id=\"33\" data-name=\"Cear\\xc3\\xa1\" title=\"Cear\\xc3\\xa1\" data-action=\"clique\" data-label=\"selecionar-ceara\" data-position=\"item-6\" data-nofollow=\"true\"> <span class=\"customWidget_teams__spriteImg customWidget_teams__ceara\"></span> <span class=\"customWidget_teams__title\">Cear\\xc3\\xa1</span> </a> </li> <li class=\"customWidget_teams__item\"> <a href=\"http://esporte.uol.com.br/futebol/times/chapecoense/\" data-id=\"695\" data-name=\"Chapecoense\" title=\"Chapecoense\" data-action=\"clique\" data-label=\"selecionar-chapecoense\" data-position=\"item-7\" data-nofollow=\"true\"> <span class=\"customWidget_teams__spriteImg customWidget_teams__chapecoense\"></span> <span class=\"customWidget_teams__title\">Chapecoense</span> </a> </li> <li class=\"customWidget_teams__item\"> <a href=\"http://esporte.uol.com.br/futebol/times/corinthians/\" data-id=\"6\" data-name=\"Corinthians\" title=\"Corinthians\" data-action=\"clique\" data-label=\"selecionar-corinthians\" data-position=\"item-8\" data-nofollow=\"true\"> <span class=\"customWidget_teams__spriteImg customWidget_teams__corinthians\"></span> <span class=\"customWidget_teams__title\">Corinthians</span> </a> </li> <li class=\"customWidget_teams__item\"> <a href=\"http://esporte.uol.com.br/futebol/times/coritiba/\" data-id=\"7\" data-name=\"Coritiba\" title=\"Coritiba\" data-action=\"clique\" data-label=\"selecionar-coritiba\" data-position=\"item-9\" data-nofollow=\"true\"> <span class=\"customWidget_teams__spriteImg customWidget_teams__coritiba\"></span> <span class=\"customWidget_teams__title\">Coritiba</span> </a> </li> <li class=\"customWidget_teams__item\"> <a href=\"http://esporte.uol.com.br/futebol/times/cruzeiro/\" data-id=\"9\" data-name=\"Cruzeiro\" title=\"Cruzeiro\" data-action=\"clique\" data-label=\"selecionar-cruzeiro\" data-position=\"item-10\" data-nofollow=\"true\"> <span class=\"customWidget_teams__spriteImg customWidget_teams__cruzeiro\"></span> <span class=\"customWidget_teams__title\">Cruzeiro</span> </a> </li> <li class=\"customWidget_teams__item\"> <a href=\"http://esporte.uol.com.br/futebol/times/flamengo/\" data-id=\"1\" data-name=\"Flamengo\" title=\"Flamengo\" data-action=\"clique\" data-label=\"selecionar-flamengo\" data-position=\"item-11\" data-nofollow=\"true\"> <span class=\"customWidget_teams__spriteImg customWidget_teams__flamengo\"></span> <span class=\"customWidget_teams__title\">Flamengo</span> </a> </li> <li class=\"customWidget_teams__item\"> <a href=\"http://esporte.uol.com.br/futebol/times/fluminense/\" data-id=\"11\" data-name=\"Fluminense\" title=\"Fluminense\" data-action=\"clique\" data-label=\"selecionar-fluminense\" data-position=\"item-12\" data-nofollow=\"true\"> <span class=\"customWidget_teams__spriteImg customWidget_teams__fluminense\"></span> <span class=\"customWidget_teams__title\">Fluminense</span> </a> </li> <li class=\"customWidget_teams__item\"> <a href=\"http://esporte.uol.com.br/futebol/times/fortaleza/\" data-id=\"35\" data-name=\"Fortaleza\" title=\"Fortaleza\" data-action=\"clique\" data-label=\"selecionar-fortaleza\" data-position=\"item-13\" data-nofollow=\"true\"> <span class=\"customWidget_teams__spriteImg customWidget_teams__fortaleza\"></span> <span class=\"customWidget_teams__title\">Fortaleza</span> </a> </li> <li class=\"customWidget_teams__item\"> <a href=\"http://esporte.uol.com.br/futebol/times/gremio/\" data-id=\"13\" data-name=\"Gr\\xc3\\xaamio\" title=\"Gr\\xc3\\xaamio\" data-action=\"clique\" data-label=\"selecionar-gremio\" data-position=\"item-14\" data-nofollow=\"true\"> <span class=\"customWidget_teams__spriteImg customWidget_teams__gremio\"></span> <span class=\"customWidget_teams__title\">Gr\\xc3\\xaamio</span> </a> </li> <li class=\"customWidget_teams__item\"> <a href=\"http://esporte.uol.com.br/futebol/times/internacional/\" data-id=\"15\" data-name=\"Internacional\" title=\"Internacional\" data-action=\"clique\" data-label=\"selecionar-internacional\" data-position=\"item-15\" data-nofollow=\"true\"> <span class=\"customWidget_teams__spriteImg customWidget_teams__internacional\"></span> <span class=\"customWidget_teams__title\">Internacional</span> </a> </li> <li class=\"customWidget_teams__item\"> <a href=\"http://esporte.uol.com.br/futebol/times/palmeiras/\" data-id=\"17\" data-name=\"Palmeiras\" title=\"Palmeiras\" data-action=\"clique\" data-label=\"selecionar-palmeiras\" data-position=\"item-16\" data-nofollow=\"true\"> <span class=\"customWidget_teams__spriteImg customWidget_teams__palmeiras\"></span> <span class=\"customWidget_teams__title\">Palmeiras</span> </a> </li> <li class=\"customWidget_teams__item\"> <a href=\"http://esporte.uol.com.br/futebol/times/parana/\" data-id=\"18\" data-name=\"Paran\\xc3\\xa1 Clube\" title=\"Paran\\xc3\\xa1 Clube\" data-action=\"clique\" data-label=\"selecionar-parana\" data-position=\"item-17\" data-nofollow=\"true\"> <span class=\"customWidget_teams__spriteImg customWidget_teams__paranaClube\"></span> <span class=\"customWidget_teams__title\">Paran\\xc3\\xa1 Clube</span> </a> </li> <li class=\"customWidget_teams__item\"> <a href=\"http://esporte.uol.com.br/futebol/times/santos/\" data-id=\"22\" data-name=\"Santos\" title=\"Santos\" data-action=\"clique\" data-label=\"selecionar-santos\" data-position=\"item-18\" data-nofollow=\"true\"> <span class=\"customWidget_teams__spriteImg customWidget_teams__santos\"></span> <span class=\"customWidget_teams__title\">Santos</span> </a> </li> <li class=\"customWidget_teams__item\"> <a href=\"http://esporte.uol.com.br/futebol/times/sao-paulo/\" data-id=\"24\" data-name=\"S\\xc3\\xa3o Paulo\" title=\"S\\xc3\\xa3o Paulo\" data-action=\"clique\" data-label=\"selecionar-sao-paulo\" data-position=\"item-19\" data-nofollow=\"true\"> <span class=\"customWidget_teams__spriteImg customWidget_teams__saoPaulo\"></span> <span class=\"customWidget_teams__title\">S\\xc3\\xa3o Paulo</span> </a> </li> <li class=\"customWidget_teams__item\"> <a href=\"http://esporte.uol.com.br/futebol/times/sport/\" data-id=\"76\" data-name=\"Sport\" title=\"Sport\" data-action=\"clique\" data-label=\"selecionar-sport\" data-position=\"item-20\" data-nofollow=\"true\"> <span class=\"customWidget_teams__spriteImg customWidget_teams__sport\"></span> <span class=\"customWidget_teams__title\">Sport</span> </a> </li> <li class=\"customWidget_teams__item\"> <a href=\"http://esporte.uol.com.br/futebol/times/vasco/\" data-id=\"25\" data-name=\"Vasco\" title=\"Vasco\" data-action=\"clique\" data-label=\"selecionar-vasco\" data-position=\"item-21\" data-nofollow=\"true\"> <span class=\"customWidget_teams__spriteImg customWidget_teams__vasco\"></span> <span class=\"customWidget_teams__title\">Vasco</span> </a> </li> <li class=\"customWidget_teams__item\"> <a href=\"http://esporte.uol.com.br/futebol/times/vitoria/\" data-id=\"21\" data-name=\"Vit\\xc3\\xb3ria\" title=\"Vit\\xc3\\xb3ria\" data-action=\"clique\" data-label=\"selecionar-vitoria\" data-position=\"item-22\" data-nofollow=\"true\"> <span class=\"customWidget_teams__spriteImg customWidget_teams__vitoria\"></span> <span class=\"customWidget_teams__title\">Vit\\xc3\\xb3ria</span> </a> </li> </ul> </div> </section> </div> <div data-key=\"5-advertising\" class=\"advertising card card_withoutBg\"> <div class=\"banner\" id=\"banner-300x250-4-area\"></div> </div> <div class=\"section card card_withoutBg entertainment\" data-key=\"6-section\" data-category=\"bloco-editorial-entretenimento\" data-area=\"entretenimento\" data-label=\"cabecalho-bloco\" data-position=\"topo-modulo\"> <a href=\"http://entretenimento.uol.com.br/\"> <h2 class=\"sectionTitle borderColor_entertainment\"> <span class=\"sectionTitle_text\">entret\\xc3\\xaa</span> </h2> </a> </div> <article data-key=\"6-1-manchete\" class=\"screamer card entertainment\" data-area=\"entretenimento\" data-category=\"bloco-editorial-entretenimento\" data-position=\"2-colunas\" data-label=\"manchete\"> <div class=\"meta\"> <h3 tabindex=\"0\" aria-label=\"assunto da mat\\xc3\\xa9ria\" class=\"meta_kicker color_entertainment\">Retrata situa\\xc3\\xa7\\xc3\\xa3o em SP</h3> <span tabindex=\"0\" aria-label=\"postado h\\xc3\\xa1\" class=\"meta_time\"></span> <span class=\"uol-see-later\" data-service=\"true\"></span> </div> <a data-uol-see-later=\"url\" href=\"https://entretenimento.uol.com.br/noticias/redacao/2018/10/03/documentario-denuncia-truculencia-e-abusos-da-pm-em-manifestacoes.htm\" class=\"screamer_article screamer_article__entertainment article\"> <div class=\"article_imageWrapper \"> <figure class=\"placeholder placeholder_screamer retangular\"> <img data-src=\"https://hp.imguol.com.br/c/home/3f/2018/10/03/cena-do-documentario-marcha-cega-1538613151673_300x200.jpg\" data-uol-see-later=\"image\" class=\"placeholder_image placeholder_image__screamer\" alt=\"\" title=\"Reprodu\\xc3\\xa7\\xc3\\xa3o\" aria-label=\"\" tabindex=\"0\" onerror=\"this.remove()\"> </figure> </div> <span class=\"article_credits\">Reprodu\\xc3\\xa7\\xc3\\xa3o</span> <h2 data-uol-see-later=\"title\" class=\"article_title article_title__entertainment\"> Filme Marcha Cega denuncia abusos da PM e acusa estado </h2> <p class=\"article_subtitle \">Document\\xc3\\xa1rio mostra repress\\xc3\\xa3o policial em atos ligados a movimentos sociais</p> </a> </article> <article data-key=\"6-1-submanchete\" class=\"subScreamer card entertainment\" data-area=\"entretenimento\" data-category=\"bloco-editorial-entretenimento\" data-position=\"coluna-1\" data-label=\"submanchete\"> <div class=\"meta\"> <h3 tabindex=\"0\" aria-label=\"assunto da mat\\xc3\\xa9ria\" class=\"meta_kicker color_entertainment\">A Fazenda</h3> <span tabindex=\"0\" aria-label=\"postado h\\xc3\\xa1\" class=\"meta_time\"></span> <span class=\"uol-see-later\" data-service=\"true\"></span> </div> <a data-uol-see-later=\"url\" href=\"https://tvefamosos.uol.com.br/noticias/redacao/2018/10/03/perlla-da-conselho-para-joao-zoli-homem-precisa-ser-mais-ignorante.htm\" class=\"subScreamer_article subScreamer_article__entertainment article\"> <figure class=\"placeholder placeholder_subScreamer \"> <img data-src=\"https://hp.imguol.com.br/c/home/b2/2018/10/03/perlla-da-conselho-amoroso-para-joao-zoli-1538603005334_100x100.png\" data-uol-see-later=\"image\" class=\"placeholder_image placeholder_image__subScreamer\" alt=\"\" title=\"Reprodu\\xc3\\xa7\\xc3\\xa3o/PlayPlus\" aria-label=\"\" tabindex=\"0\" onerror=\"this.remove()\"> </figure> <h2 data-uol-see-later=\"title\" class=\"article_title article_title__entertainment\"> Perlla para Zoli: \\'Homem precisa ser mais ignorante\\' </h2> <p class=\"article_subtitle article_subtitle__notCredits \">\\'Mulher gosta de homem que domina\\', disse cantora carioca</p> </a> <ul class=\"related\"> <li> <a href=\"https://tvefamosos.uol.com.br/noticias/redacao/2018/10/03/apos-festa-na-piscina-caique-e-fernanda-trocam-caricias-em-a-fazenda.htm\" class=\"borderColor_entertainment related_title\" data-label=\"submanchete-relacionada\">Caique e Fernanda trocam car\\xc3\\xadcias</a> </li> </ul> </article> <article data-key=\"6-2-submanchete\" class=\"subScreamer card entertainment\" data-area=\"entretenimento\" data-category=\"bloco-editorial-entretenimento\" data-position=\"coluna-2\" data-label=\"submanchete\"> <div class=\"meta\"> <h3 tabindex=\"0\" aria-label=\"assunto da mat\\xc3\\xa9ria\" class=\"meta_kicker color_entertainment\">Assista aqui</h3> <span tabindex=\"0\" aria-label=\"postado h\\xc3\\xa1\" class=\"meta_time\"></span> <span class=\"uol-see-later\" data-service=\"true\"></span> </div> <a data-uol-see-later=\"url\" href=\"https://entretenimento.uol.com.br/noticias/redacao/2018/10/03/wifi-ralph-ganha-ultimo-trailer-assista.htm\" class=\"subScreamer_article subScreamer_article__entertainment article\"> <figure class=\"placeholder placeholder_subScreamer \"> <img data-src=\"https://hp.imguol.com.br/c/home/0f/2018/10/03/wifi-ralph-quebrando-a-internet-ganha-trailer-final-com-reuniao-de-todas-as-princesas-da-disney-1538604583580_100x100.jpg\" data-uol-see-later=\"image\" class=\"placeholder_image placeholder_image__subScreamer\" alt=\"\" title=\"Reprodu\\xc3\\xa7\\xc3\\xa3o\" aria-label=\"\" tabindex=\"0\" onerror=\"this.remove()\"> </figure> <h2 data-uol-see-later=\"title\" class=\"article_title article_title__entertainment\"> Chegando: WiFi Ralph ganha seu \\xc3\\xbaltimo trailer <i class=\"icons icons_player \" aria-label=\"video\" role=\"button\" tabindex=\"0\"> <svg><use xlink:href=\"#player\"/></svg> </i> </h2> <p class=\"article_subtitle article_subtitle__notCredits \">Continua\\xc3\\xa7\\xc3\\xa3o de Detona Ralph vai \\xc3\\xa0s telonas em janeiro de 2019</p> </a> </article> <article data-key=\"6-rotativo\" class=\"carousel card entertainment\" data-area=\"entretenimento\" data-category=\"bloco-editorial-entretenimento\" data-position=\"item\" data-label=\"chamada-destaque\"> <div class=\"highlight\"> <ul class=\"slider_content\"> <li class=\"slider_content__item\" data-index=\"0\" data-category=\"\" data-area=\"\" data-label=\"\"> <div class=\"meta\"> <h3 tabindex=\"0\" aria-label=\"assunto da mat\\xc3\\xa9ria\" class=\"meta_kicker color_entertainment\">Pr\\xc3\\xb3xima novela das 21h</h3> <span tabindex=\"0\" aria-label=\"postado h\\xc3\\xa1\" class=\"meta_time\"></span> <span class=\"uol-see-later\" data-service=\"true\"></span> </div> <a data-uol-see-later=\"url\" href=\"https://glamurama.uol.com.br/vanessa-giacomo-se-prepara-para-papel-em-o-setimo-guardiao-ela-e-alcoolatra-nunca-vivi-essa-situacao/\" class=\"carousel_article carousel_article__entertainment article\" data-position=\"item-1\"> <div class=\"article_imageWrapper article_textOverlay\"> <figure class=\"placeholder placeholder_carousel retangular\"> <img data-src=\"https://hp.imguol.com.br/c/home/84/2018/10/03/vanessa-giacomo-como-stella-em-o-setimo-guardiao-1538609247603_300x200.jpg\" data-uol-see-later=\"image\" class=\"placeholder_image placeholder_image__carousel\" alt=\"\" title=\"Jo\\xc3\\xa3o Cotta/TV Globo\" aria-label=\"\" tabindex=\"0\" onerror=\"this.remove()\"> </figure> <h2 data-uol-see-later=\"title\" class=\"article_title article_title__entertainment borderColor_entertainment\"> Estar\\xc3\\xa1 em O S\\xc3\\xa9timo Guardi\\xc3\\xa3o </h2> </div> <span class=\"article_credits\">Jo\\xc3\\xa3o Cotta/TV Globo</span> <p class=\"article_subtitle \">Vanessa Gi\\xc3\\xa1como sobre personagem: \\'Alco\\xc3\\xb3latra, nunca vivi essa situa\\xc3\\xa7\\xc3\\xa3o\\'</p> </a> </li> </ul> </div> </article> <article data-key=\"6-1-1-chamada\" class=\"headline card entertainment\" data-area=\"entretenimento\" data-category=\"bloco-editorial-entretenimento\" data-position=\"coluna-1\" data-label=\"chamada\"> <div class=\"meta\"> <h3 tabindex=\"0\" aria-label=\"assunto da mat\\xc3\\xa9ria\" class=\"meta_kicker color_entertainment\">Banda de reggae</h3> <span tabindex=\"0\" aria-label=\"postado h\\xc3\\xa1\" class=\"meta_time\"></span> <span class=\"uol-see-later\" data-service=\"true\"></span> </div> <a data-uol-see-later=\"url\" href=\"https://entretenimento.uol.com.br/noticias/redacao/2018/10/03/o-que-a-banda-ub40-tem-a-ver-com-a-indicacao-de-trump-para-suprema-corte.htm\" class=\"headline_article headline_article__entertainment article\"> <figure class=\"placeholder placeholder_headline \"> <img data-src=\"https://hp.imguol.com.br/c/home/57/2018/10/03/ali-campbell-fundou-o-ub40-deixou-o-grupo-em-2008-e-retornou-para-um-album-comemorativo-1538605083147_100x100.jpg\" data-uol-see-later=\"image\" class=\"placeholder_image placeholder_image__headline\" alt=\"\" title=\"Tim Mosenfelder/Getty Images\" aria-label=\"\" tabindex=\"0\" onerror=\"this.remove()\"> </figure> <h2 data-uol-see-later=\"title\" class=\"article_title article_title__entertainment\"> O que o UB40 tem a ver com indicado de Trump para Suprema Corte? </h2> </a> </article> <article data-key=\"6-2-1-chamada\" class=\"headline card entertainment\" data-area=\"entretenimento\" data-category=\"bloco-editorial-entretenimento\" data-position=\"coluna-1\" data-label=\"chamada\"> <div class=\"meta\"> <h3 tabindex=\"0\" aria-label=\"assunto da mat\\xc3\\xa9ria\" class=\"meta_kicker color_entertainment\">Falou para revista brit\\xc3\\xa2nica</h3> <span tabindex=\"0\" aria-label=\"postado h\\xc3\\xa1\" class=\"meta_time\"></span> <span class=\"uol-see-later\" data-service=\"true\"></span> </div> <a data-uol-see-later=\"url\" href=\"https://observatoriodocinema.bol.uol.com.br/famosos/2018/10/a-disney-me-odeia-revela-johnny-depp\" class=\"headline_article headline_article__entertainment article\"> <figure class=\"placeholder placeholder_headline \"> <img data-src=\"https://hp.imguol.com.br/c/home/9c/2017/05/25/johnny-depp-em-piratas-do-caribe-1495733171576_100x100.jpg\" data-uol-see-later=\"image\" class=\"placeholder_image placeholder_image__headline\" alt=\"\" title=\"Divulga\\xc3\\xa7\\xc3\\xa3o\" aria-label=\"\" tabindex=\"0\" onerror=\"this.remove()\"> </figure> <h2 data-uol-see-later=\"title\" class=\"article_title article_title__entertainment\"> Astro de Piratas do Caribe, Depp desabafa: \"A Disney me odeia\\' </h2> </a> </article> <article data-key=\"6-2-3-chamada\" class=\"headline card entertainment\" data-area=\"entretenimento\" data-category=\"bloco-editorial-entretenimento\" data-position=\"coluna-1\" data-label=\"chamada-coringa\"> <div class=\"meta\"> <h3 tabindex=\"0\" aria-label=\"assunto da mat\\xc3\\xa9ria\" class=\"meta_kicker color_entertainment\">Conhe\\xc3\\xa7a, namore</h3> <span tabindex=\"0\" aria-label=\"postado h\\xc3\\xa1\" class=\"meta_time\"></span> <span class=\"uol-see-later\" data-service=\"true\"></span> </div> <a data-uol-see-later=\"url\" href=\"http://entretenimento.uol.com.br/noticias/redacao/2016/06/08/nova-versao-do-bate-papo-uol-traz-acesso-mais-rapido-as-salas.htm\" class=\"headline_article headline_article__entertainment article\"> <figure class=\"placeholder placeholder_headline \"> <img data-src=\"https://hp.imguol.com.br/b1/2016/03/14/aplicativo-bate-papo-uol---imagens-de-divulgacao-615x300-1457988353961_100x100.jpg\" data-uol-see-later=\"image\" class=\"placeholder_image placeholder_image__headline\" alt=\"\" title=\"Arte UOL\" aria-label=\"\" tabindex=\"0\" onerror=\"this.remove()\"> </figure> <h2 data-uol-see-later=\"title\" class=\"article_title article_title__entertainment\"> Bate-papo UOL mostra quem est\\xc3\\xa1 perto e d\\xc3\\xa1 acesso r\\xc3\\xa1pido \\xc3\\xa0s salas </h2> </a> </article> <article data-key=\"6-3-1-chamada\" class=\"headline card entertainment\" data-area=\"entretenimento\" data-category=\"bloco-editorial-entretenimento\" data-position=\"coluna-3\" data-label=\"chamada\"> <div class=\"meta\"> <h3 tabindex=\"0\" aria-label=\"assunto da mat\\xc3\\xa9ria\" class=\"meta_kicker color_entertainment\">Livro de Christie</h3> <span tabindex=\"0\" aria-label=\"postado h\\xc3\\xa1\" class=\"meta_time\"></span> <span class=\"uol-see-later\" data-service=\"true\"></span> </div> <a data-uol-see-later=\"url\" href=\"https://entretenimento.uol.com.br/noticias/redacao/2018/10/03/armie-hammer-se-junta-a-gal-gadot-em-morte-no-nilo.htm\" class=\"headline_article headline_article__entertainment article\"> <figure class=\"placeholder placeholder_headline \"> <img data-src=\"https://hp.imguol.com.br/c/home/2c/2018/10/03/ao-lado-de-armie-hammer-gal-gadot-segura-envelope-na-entrega-do-oscar-1538602825874_100x100.jpg\" data-uol-see-later=\"image\" class=\"placeholder_image placeholder_image__headline\" alt=\"\" title=\"Chris Pizzello/Invision/AP\" aria-label=\"\" tabindex=\"0\" onerror=\"this.remove()\"> </figure> <h2 data-uol-see-later=\"title\" class=\"article_title article_title__entertainment\"> Armie Hammer se junta a Gal Gadot no longa Morte no Nilo </h2> </a> </article> <article data-key=\"6-4-1-chamada\" class=\"headline card entertainment\" data-area=\"entretenimento\" data-category=\"bloco-editorial-entretenimento\" data-position=\"coluna-3\" data-label=\"chamada\"> <div class=\"meta\"> <h3 tabindex=\"0\" aria-label=\"assunto da mat\\xc3\\xa9ria\" class=\"meta_kicker color_entertainment\">Recep\\xc3\\xa7\\xc3\\xa3o fria</h3> <span tabindex=\"0\" aria-label=\"postado h\\xc3\\xa1\" class=\"meta_time\"></span> <span class=\"uol-see-later\" data-service=\"true\"></span> </div> <a data-uol-see-later=\"url\" href=\"https://entretenimento.uol.com.br/noticias/redacao/2018/10/03/baguncado-e-sem-imaginacao-venom-e-massacrado-pela-critica-internacional.htm\" class=\"headline_article headline_article__entertainment article\"> <figure class=\"placeholder placeholder_headline \"> <img data-src=\"https://hp.imguol.com.br/c/home/64/2018/10/03/tom-hardy-se-confronta-com-o-simbionte-em-cena-de-venom-1538607602744_100x100.jpg\" data-uol-see-later=\"image\" class=\"placeholder_image placeholder_image__headline\" alt=\"\" title=\"Reprodu\\xc3\\xa7\\xc3\\xa3o\" aria-label=\"\" tabindex=\"0\" onerror=\"this.remove()\"> </figure> <h2 data-uol-see-later=\"title\" class=\"article_title article_title__entertainment\"> Bagun\\xc3\\xa7ado e sem imagina\\xc3\\xa7\\xc3\\xa3o: como Venom foi visto pela cr\\xc3\\xadtica </h2> </a> </article> <article data-key=\"6-5-1-chamada\" class=\"headline card entertainment\" data-area=\"entretenimento\" data-category=\"bloco-editorial-entretenimento\" data-position=\"coluna-3\" data-label=\"chamada\"> <div class=\"meta\"> <h3 tabindex=\"0\" aria-label=\"assunto da mat\\xc3\\xa9ria\" class=\"meta_kicker color_entertainment\">Apresentadora da Record</h3> <span tabindex=\"0\" aria-label=\"postado h\\xc3\\xa1\" class=\"meta_time\"></span> <span class=\"uol-see-later\" data-service=\"true\"></span> </div> <a data-uol-see-later=\"url\" href=\"https://tvefamosos.uol.com.br/noticias/redacao/2018/10/03/apresentadora-da-record-malha-para-perder-14-kg-apos-gravidez-sem-dieta.htm\" class=\"headline_article headline_article__entertainment article\"> <figure class=\"placeholder placeholder_headline \"> <img data-src=\"https://hp.imguol.com.br/c/home/da/2018/10/03/patricia-costa-apresentadora-da-record-na-reta-final-de-gravidez-e-atualmente-1538606296210_100x100.jpg\" data-uol-see-later=\"image\" class=\"placeholder_image placeholder_image__headline\" alt=\"\" title=\"Montagem/UOL/Reprodu\\xc3\\xa7\\xc3\\xa3o/Instagram/patriciacosta.oficial\" aria-label=\"\" tabindex=\"0\" onerror=\"this.remove()\"> </figure> <h2 data-uol-see-later=\"title\" class=\"article_title article_title__entertainment\"> Patr\\xc3\\xadcia Costa malha para perder 14 kg ap\\xc3\\xb3s gravidez: \"Sem dieta\" </h2> </a> </article> <article data-key=\"6-6-1-chamada\" class=\"headline card entertainment\" data-area=\"entretenimento\" data-category=\"bloco-editorial-entretenimento\" data-position=\"coluna-4\" data-label=\"chamada\"> <div class=\"meta\"> <h3 tabindex=\"0\" aria-label=\"assunto da mat\\xc3\\xa9ria\" class=\"meta_kicker color_entertainment\">Ser\\xc3\\xa1 usado no filme</h3> <span tabindex=\"0\" aria-label=\"postado h\\xc3\\xa1\" class=\"meta_time\"></span> <span class=\"uol-see-later\" data-service=\"true\"></span> </div> <a data-uol-see-later=\"url\" href=\"https://entretenimento.uol.com.br/noticias/redacao/2018/10/03/artista-da-marvel-mostra-design-criado-para-capita-marvel.htm\" class=\"headline_article headline_article__entertainment article\"> <figure class=\"placeholder placeholder_headline \"> <img data-src=\"https://hp.imguol.com.br/c/home/a8/2018/10/03/andy-park-fez-desenho-da-capita-marvel-para-o-estudio-1538609838499_100x100.jpg\" data-uol-see-later=\"image\" class=\"placeholder_image placeholder_image__headline\" alt=\"\" title=\"Reprodu\\xc3\\xa7\\xc3\\xa3o\" aria-label=\"\" tabindex=\"0\" onerror=\"this.remove()\"> </figure> <h2 data-uol-see-later=\"title\" class=\"article_title article_title__entertainment\"> Artista da Marvel mostra design criado para Capit\\xc3\\xa3 Marvel </h2> </a> </article> <article data-key=\"6-7-1-chamada\" class=\"headline card entertainment\" data-area=\"entretenimento\" data-category=\"bloco-editorial-entretenimento\" data-position=\"coluna-4\" data-label=\"chamada\"> <div class=\"meta\"> <h3 tabindex=\"0\" aria-label=\"assunto da mat\\xc3\\xa9ria\" class=\"meta_kicker color_entertainment\">Entenda o porqu\\xc3\\xaa</h3> <span tabindex=\"0\" aria-label=\"postado h\\xc3\\xa1\" class=\"meta_time\"></span> <span class=\"uol-see-later\" data-service=\"true\"></span> </div> <a data-uol-see-later=\"url\" href=\"https://tvefamosos.uol.com.br/noticias/redacao/2018/10/03/medico-do-bem-estar-tem-motivo-para-comemorar-baixa-audiencia-entenda.htm\" class=\"headline_article headline_article__entertainment article\"> <figure class=\"placeholder placeholder_headline \"> <img data-src=\"https://hp.imguol.com.br/c/home/5c/2018/10/03/roberto-kalil-e-fernando-rocha-confundem-groenlandia-com-alasca-no-bem-estar-1538593690672_100x100.jpg\" data-uol-see-later=\"image\" class=\"placeholder_image placeholder_image__headline\" alt=\"\" title=\"Reprodu\\xc3\\xa7\\xc3\\xa3o/TV Globo\" aria-label=\"\" tabindex=\"0\" onerror=\"this.remove()\"> </figure> <h2 data-uol-see-later=\"title\" class=\"article_title article_title__entertainment\"> M\\xc3\\xa9dico do Bem Estar tem motivo para celebrar ibope baixo </h2> </a> </article> <article data-key=\"6-8-1-chamada\" class=\"headline card entertainment\" data-area=\"entretenimento\" data-category=\"bloco-editorial-entretenimento\" data-position=\"coluna-4\" data-label=\"chamada\"> <div class=\"meta\"> <h3 tabindex=\"0\" aria-label=\"assunto da mat\\xc3\\xa9ria\" class=\"meta_kicker color_entertainment\">Clube UOL</h3> <span tabindex=\"0\" aria-label=\"postado h\\xc3\\xa1\" class=\"meta_time\"></span> <span class=\"uol-see-later\" data-service=\"true\"></span> </div> <a data-uol-see-later=\"url\" href=\"https://clicklogger.rm.uol.com.br/?msr=Cliques%20de%20Origem:1&prd=57&oper=11&grp=src:13;chn:0;cpg:espaco_editorial_homeuol_clube;creative:movida&redir=https://clube.uol.com.br/descontos/servicos/movida-rent-a-car\" class=\"headline_article headline_article__entertainment article\"> <h2 data-uol-see-later=\"title\" class=\"article_title article_title__entertainment\"> 12% de desconto no aluguel de carros </h2> </a> </article> <div data-key=\"7-widget-novela\" class=\"novel card_gutter\" data-category=\"bloco-customizado-entretenimento\" data-area=\"entretenimento\"> <section class=\"card widget_novel\"> <h2 class=\"thematicTitle thematicTitle_entertainment \"> <span class=\"thematicTitle_text \">Escolha sua novela</span> </h2> <div class=\"customWidget_center\"> <ul class=\"customWidget customWidget_novel\"> <li class=\"customWidget_novel__item\"> <a href=\"https://tvefamosos.uol.com.br/novelas/asas-do-amor/\" data-name=\"Asas do Amor\" title=\"Asas do Amor\" data-action=\"clique\" data-label=\"selecionar-asas-do-amor\" data-position=\"item-1\" data-nofollow=\"true\"> <img data-src=\"https://hp.imguol.com.br/c/home/1b/2018/08/07/novela-asas-do-amor-1533674563863_80x80.jpg\" alt=\"Asas do Amor\" class=\"customWidget_img borderColor_entertainment\"/> <span class=\"customWidget_novel__title\">Asas do Amor</span> </a> </li> <li class=\"customWidget_novel__item\"> <a href=\"https://tvefamosos.uol.com.br/novelas/as-aventuras-de-poliana/\" data-name=\"As Aventuras de Poliana\" title=\"As Aventuras de Poliana\" data-action=\"clique\" data-label=\"selecionar-as-aventuras-de-poliana\" data-position=\"item-2\" data-nofollow=\"true\"> <img data-src=\"https://hp.imguol.com.br/c/home/68/2018/05/16/sophia-valverde-protagonista-de-as-aventuras-de-poliana-posa-no-lancamento-da-novela-do-sbt-1526489440876_80x80.jpg\" alt=\"As Aventuras de Poliana\" class=\"customWidget_img borderColor_entertainment\"/> <span class=\"customWidget_novel__title\">As Aventuras de Poliana</span> </a> </li> <li class=\"customWidget_novel__item\"> <a href=\"https://tvefamosos.uol.com.br/novelas/espelho-da-vida/\" data-name=\"Espelho da Vida\" title=\"Espelho da Vida\" data-action=\"clique\" data-label=\"selecionar-espelho-da-vida\" data-position=\"item-3\" data-nofollow=\"true\"> <img data-src=\"https://hp.imguol.com.br/c/home/fa/2018/09/27/vitoria-strada-e-joao-vicente-de-castro-sao-respectivamente-cris-e-alain-em-espelho-da-vida-1538057086643_80x80.jpg\" alt=\"Espelho da Vida\" class=\"customWidget_img borderColor_entertainment\"/> <span class=\"customWidget_novel__title\">Espelho da Vida</span> </a> </li> <li class=\"customWidget_novel__item\"> <a href=\"https://tvefamosos.uol.com.br/novelas/jesus/index.htm\" data-name=\"Jesus\" title=\"Jesus\" data-action=\"clique\" data-label=\"selecionar-jesus\" data-position=\"item-4\" data-nofollow=\"true\"> <img data-src=\"https://hp.imguol.com.br/c/home/ab/2018/07/24/jesus-1532452936362_80x80.jpg\" alt=\"Jesus\" class=\"customWidget_img borderColor_entertainment\"/> <span class=\"customWidget_novel__title\">Jesus</span> </a> </li> <li class=\"customWidget_novel__item\"> <a href=\"https://tvefamosos.uol.com.br/novelas/malhacao-vidas-brasileiras\" data-name=\"Malha\\xc3\\xa7\\xc3\\xa3o\" title=\"Malha\\xc3\\xa7\\xc3\\xa3o\" data-action=\"clique\" data-label=\"selecionar-https://tvefamosos.uol.com.br/novelas/malhacao-vidas-brasileiras\" data-position=\"item-5\" data-nofollow=\"true\"> <img data-src=\"https://hp.imguol.com.br/c/home/e3/2018/03/12/camila-morgado-atriz-de-malhacao---vidas-brasileiras-1520889426137_80x80.jpg\" alt=\"Malha\\xc3\\xa7\\xc3\\xa3o\" class=\"customWidget_img borderColor_entertainment\"/> <span class=\"customWidget_novel__title\">Malha\\xc3\\xa7\\xc3\\xa3o</span> </a> </li> <li class=\"customWidget_novel__item\"> <a href=\"https://tvefamosos.uol.com.br/novelas/o-tempo-nao-para/index.htm\" data-name=\"O Tempo N\\xc3\\xa3o Para\" title=\"O Tempo N\\xc3\\xa3o Para\" data-action=\"clique\" data-label=\"selecionar-o-tempo-nao-para\" data-position=\"item-6\" data-nofollow=\"true\"> <img data-src=\"https://hp.imguol.com.br/c/home/9c/2018/08/01/o-tempo-nao-para-1533156515394_80x80.jpg\" alt=\"O Tempo N\\xc3\\xa3o Para\" class=\"customWidget_img borderColor_entertainment\"/> <span class=\"customWidget_novel__title\">O Tempo N\\xc3\\xa3o Para</span> </a> </li> <li class=\"customWidget_novel__item\"> <a href=\"https://tvefamosos.uol.com.br/novelas/segundo-sol/\" data-name=\"Segundo Sol\" title=\"Segundo Sol\" data-action=\"clique\" data-label=\"selecionar-segundo-sol\" data-position=\"item-7\" data-nofollow=\"true\"> <img data-src=\"https://hp.imguol.com.br/c/home/9b/2018/04/24/giovanna-antonelli-em-segundo-sol-1524576239123_80x80.jpg\" alt=\"Segundo Sol\" class=\"customWidget_img borderColor_entertainment\"/> <span class=\"customWidget_novel__title\">Segundo Sol</span> </a> </li> </ul> </div> </section> </div> <div data-key=\"7-advertising\" class=\"advertising card card_withoutBg\"> <div class=\"banner\" id=\"banner-300x250-3-area\"></div> </div> <div class=\"section card card_withoutBg news\" data-key=\"9-section\" data-category=\"bloco-editorial-noticias\" data-area=\"noticias\" data-label=\"cabecalho-bloco\" data-position=\"topo-modulo\"> <a href=\"http://noticias.uol.com.br/\"> <h2 class=\"sectionTitle borderColor_news\"> <span class=\"sectionTitle_text\">not\\xc3\\xadcias</span> </h2> </a> </div> <article data-key=\"9-1-manchete\" class=\"screamer card news\" data-area=\"noticias\" data-category=\"bloco-editorial-noticias\" data-position=\"2-colunas\" data-label=\"manchete\"> <div class=\"meta\"> <h3 tabindex=\"0\" aria-label=\"assunto da mat\\xc3\\xa9ria\" class=\"meta_kicker color_news\">Economia</h3> <span tabindex=\"0\" aria-label=\"postado h\\xc3\\xa1\" class=\"meta_time\"></span> <span class=\"uol-see-later\" data-service=\"true\"></span> </div> <a data-uol-see-later=\"url\" href=\"https://economia.uol.com.br/noticias/redacao/2018/10/03/cartao-de-credito-compras-a-vista.htm\" class=\"screamer_article screamer_article__news article\"> <div class=\"article_imageWrapper \"> </div> <h2 data-uol-see-later=\"title\" class=\"article_title article_title__news\"> Brasileiros t\\xc3\\xaam usado o cart\\xc3\\xa3o de cr\\xc3\\xa9dito para compras \\xc3\\xa0 vista, diz BC </h2> </a> </article> <article data-key=\"9-1-submanchete\" class=\"subScreamer card news\" data-area=\"noticias\" data-category=\"bloco-editorial-noticias\" data-position=\"coluna-1\" data-label=\"submanchete\"> <div class=\"meta\"> <h3 tabindex=\"0\" aria-label=\"assunto da mat\\xc3\\xa9ria\" class=\"meta_kicker color_news\">Tim lidera no celular</h3> <span tabindex=\"0\" aria-label=\"postado h\\xc3\\xa1\" class=\"meta_time\"></span> <span class=\"uol-see-later\" data-service=\"true\"></span> </div> <a data-uol-see-later=\"url\" href=\"https://tecnologia.uol.com.br/noticias/redacao/2018/10/03/anatel-recebe-250-mil-reclamacoes-contra-operadoras-tim-lidera-no-celular.htm\" class=\"subScreamer_article subScreamer_article__news article\"> <figure class=\"placeholder placeholder_subScreamer \"> <img data-src=\"https://hp.imguol.com.br/c/home/fe/2018/10/03/anatel-1538605274755_100x100.jpg\" data-uol-see-later=\"image\" class=\"placeholder_image placeholder_image__subScreamer\" alt=\"\" title=\"Getty Images\" aria-label=\"\" tabindex=\"0\" onerror=\"this.remove()\"> </figure> <h2 data-uol-see-later=\"title\" class=\"article_title article_title__news\"> Anatel recebe 250 mil queixas contra operadoras </h2> <p class=\"article_subtitle article_subtitle__notCredits \">Entidade registrou 1.743.600 reclama\\xc3\\xa7\\xc3\\xb5es entre janeiro e agosto</p> </a> </article> <article data-key=\"9-2-submanchete\" class=\"subScreamer card news\" data-area=\"noticias\" data-category=\"bloco-editorial-noticias\" data-position=\"coluna-2\" data-label=\"submanchete\"> <div class=\"meta\"> <h3 tabindex=\"0\" aria-label=\"assunto da mat\\xc3\\xa9ria\" class=\"meta_kicker color_news\">Juiz aceitou pedido</h3> <span tabindex=\"0\" aria-label=\"postado h\\xc3\\xa1\" class=\"meta_time\"></span> <span class=\"uol-see-later\" data-service=\"true\"></span> </div> <a data-uol-see-later=\"url\" href=\"http://noticias.uol.com.br/ultimas-noticias/agencia-brasil/2018/10/03/bretas-determina-que-jacob-barata-cumpra-prisao-domiciliar.htm\" class=\"subScreamer_article subScreamer_article__news article\"> <figure class=\"placeholder placeholder_subScreamer \"> <img data-src=\"https://hp.imguol.com.br/c/home/f9/2018/10/03/jacob-barata-filho-1538608726903_100x100.jpg\" data-uol-see-later=\"image\" class=\"placeholder_image placeholder_image__subScreamer\" alt=\"\" title=\"Daniel Marenco/Folhapress\" aria-label=\"\" tabindex=\"0\" onerror=\"this.remove()\"> </figure> <h2 data-uol-see-later=\"title\" class=\"article_title article_title__news\"> \"Rei dos \\xc3\\xb4nibus\" cumprir\\xc3\\xa1 pris\\xc3\\xa3o domiciliar integral </h2> <p class=\"article_subtitle article_subtitle__notCredits \">Empres\\xc3\\xa1rio no Rio, Jacob Barata Filho n\\xc3\\xa3o pode mais deixar sua casa</p> </a> </article> <article data-key=\"9-rotativo\" class=\"carousel card news\" data-area=\"noticias\" data-category=\"bloco-editorial-noticias\" data-position=\"item\" data-label=\"chamada-destaque\"> <div class=\"highlight\"> <ul class=\"slider_content\"> <li class=\"slider_content__item\" data-index=\"0\" data-category=\"\" data-area=\"\" data-label=\"\"> <div class=\"meta\"> <h3 tabindex=\"0\" aria-label=\"assunto da mat\\xc3\\xa9ria\" class=\"meta_kicker color_news\">Agress\\xc3\\xa3o</h3> <span tabindex=\"0\" aria-label=\"postado h\\xc3\\xa1\" class=\"meta_time\"></span> <span class=\"uol-see-later\" data-service=\"true\"></span> </div> <a data-uol-see-later=\"url\" href=\"http://noticias.uol.com.br/cotidiano/ultimas-noticias/2018/10/03/homem-que-foi-jogado-nos-trilhos-do-metro-do-rj-tem-perna-amputada.htm\" class=\"carousel_article carousel_article__news article\" data-position=\"item-1\"> <div class=\"article_imageWrapper article_textOverlay\"> <figure class=\"placeholder placeholder_carousel retangular\"> <img data-src=\"https://hp.imguol.com.br/c/home/1a/2018/10/03/trem-1538605403080_300x200.png\" data-uol-see-later=\"image\" class=\"placeholder_image placeholder_image__carousel\" alt=\"\" title=\"Reprodu\\xc3\\xa7\\xc3\\xa3o/Google Street View\" aria-label=\"\" tabindex=\"0\" onerror=\"this.remove()\"> </figure> <h2 data-uol-see-later=\"title\" class=\"article_title article_title__news borderColor_news\"> Ap\\xc3\\xb3s ser jogado na frente de trem </h2> </div> <span class=\"article_credits\">Reprodu\\xc3\\xa7\\xc3\\xa3o/Google Street View</span> <p class=\"article_subtitle \">\"Chora o tempo todo\", diz m\\xc3\\xa3e de jovem que perdeu perna no Rio</p> </a> </li> </ul> </div> </article> <article data-key=\"9-1-1-chamada\" class=\"headline card news\" data-area=\"noticias\" data-category=\"bloco-editorial-noticias\" data-position=\"coluna-1\" data-label=\"chamada\"> <div class=\"meta\"> <h3 tabindex=\"0\" aria-label=\"assunto da mat\\xc3\\xa9ria\" class=\"meta_kicker color_news\">Rodrigo Rollemberg</h3> <span tabindex=\"0\" aria-label=\"postado h\\xc3\\xa1\" class=\"meta_time\"></span> <span class=\"uol-see-later\" data-service=\"true\"></span> </div> <a data-uol-see-later=\"url\" href=\"http://noticias.uol.com.br/politica/eleicoes/2018/noticias/agencia-estado/2018/10/03/stj-absolve-governador-do-df-de-acusacao-de-calunia-e-difamacao.htm\" class=\"headline_article headline_article__news article\"> <h2 data-uol-see-later=\"title\" class=\"article_title article_title__news\"> STJ absolve governador do DF de acusa\\xc3\\xa7\\xc3\\xa3o de cal\\xc3\\xbania e difama\\xc3\\xa7\\xc3\\xa3o </h2> </a> </article> <article data-key=\"9-2-1-chamada\" class=\"headline card news\" data-area=\"noticias\" data-category=\"bloco-editorial-noticias\" data-position=\"coluna-1\" data-label=\"chamada\"> <div class=\"meta\"> <h3 tabindex=\"0\" aria-label=\"assunto da mat\\xc3\\xa9ria\" class=\"meta_kicker color_news\">Veja as dezenas</h3> <span tabindex=\"0\" aria-label=\"postado h\\xc3\\xa1\" class=\"meta_time\"></span> <span class=\"uol-see-later\" data-service=\"true\"></span> </div> <a data-uol-see-later=\"url\" href=\"https://noticias.uol.com.br/cotidiano/ultimas-noticias/2018/10/03/mega-sena-resultado-do-concurso-2084-veja-os-numeros.htm\" class=\"headline_article headline_article__news article\"> <figure class=\"placeholder placeholder_headline \"> <img data-src=\"https://hp.imguol.com.br/c/home/42/2018/08/29/volantes-da-mega-sena-1535586158633_100x100.jpg\" data-uol-see-later=\"image\" class=\"placeholder_image placeholder_image__headline\" alt=\"\" title=\"Adriana Toffetti - 11.mai.2018/A7 Press/Estad\\xc3\\xa3o Conte\\xc3\\xbado\" aria-label=\"\" tabindex=\"0\" onerror=\"this.remove()\"> </figure> <h2 data-uol-see-later=\"title\" class=\"article_title article_title__news\"> Mega-Sena acumula e pode pagar R$ 19 milh\\xc3\\xb5es no s\\xc3\\xa1bado </h2> </a> </article> <article data-key=\"9-2-3-chamada\" class=\"headline card news\" data-area=\"noticias\" data-category=\"bloco-editorial-noticias\" data-position=\"coluna-1\" data-label=\"chamada-coringa\"> <div class=\"meta\"> <h3 tabindex=\"0\" aria-label=\"assunto da mat\\xc3\\xa9ria\" class=\"meta_kicker color_news\">UOL VR</h3> <span tabindex=\"0\" aria-label=\"postado h\\xc3\\xa1\" class=\"meta_time\"></span> <span class=\"uol-see-later\" data-service=\"true\"></span> </div> <a data-uol-see-later=\"url\" href=\"http://tecnologia.uol.com.br/noticias/redacao/2017/10/24/uol-lanca-app-de-realidade-virtual-com-videos-360.htm\" class=\"headline_article headline_article__news article\"> <figure class=\"placeholder placeholder_headline \"> <img data-src=\"https://hp.imguol.com.br/c/home/41/2018/03/26/realidade-virtual-1522102100205_100x100.jpg\" data-uol-see-later=\"image\" class=\"placeholder_image placeholder_image__headline\" alt=\"\" title=\"iStock\" aria-label=\"\" tabindex=\"0\" onerror=\"this.remove()\"> </figure> <h2 data-uol-see-later=\"title\" class=\"article_title article_title__news\"> Viaje pelo mundo com v\\xc3\\xaddeos 360\\xc2\\xb0 do app de realidade virtual do UOL </h2> </a> </article> <article data-key=\"9-3-1-chamada\" class=\"headline card news\" data-area=\"noticias\" data-category=\"bloco-editorial-noticias\" data-position=\"coluna-1\" data-label=\"chamada\"> <div class=\"meta\"> <h3 tabindex=\"0\" aria-label=\"assunto da mat\\xc3\\xa9ria\" class=\"meta_kicker color_news\">Contra ambulantes no trem</h3> <span tabindex=\"0\" aria-label=\"postado h\\xc3\\xa1\" class=\"meta_time\"></span> <span class=\"uol-see-later\" data-service=\"true\"></span> </div> <a data-uol-see-later=\"url\" href=\"https://www1.folha.uol.com.br/cotidiano/2018/10/contra-ambulantes-cptm-responsabiliza-passageiro-por-comercio-ilegal.shtml\" class=\"headline_article headline_article__news article\"> <h2 data-uol-see-later=\"title\" class=\"article_title article_title__news\"> CPTM-SP trata passageiro como correspons\\xc3\\xa1vel por com\\xc3\\xa9rcio ilegal </h2> </a> </article> <article data-key=\"9-4-1-chamada\" class=\"headline card news\" data-area=\"noticias\" data-category=\"bloco-editorial-noticias\" data-position=\"coluna-3\" data-label=\"chamada\"> <div class=\"meta\"> <h3 tabindex=\"0\" aria-label=\"assunto da mat\\xc3\\xa9ria\" class=\"meta_kicker color_news\">Presidente da Turquia</h3> <span tabindex=\"0\" aria-label=\"postado h\\xc3\\xa1\" class=\"meta_time\"></span> <span class=\"uol-see-later\" data-service=\"true\"></span> </div> <a data-uol-see-later=\"url\" href=\"https://noticias.uol.com.br/ultimas-noticias/efe/2018/10/03/erdogan-diz-que-nao-pode-haver-democracia-com-veiculos-de-imprensa.htm\" class=\"headline_article headline_article__news article\"> <figure class=\"placeholder placeholder_headline \"> <img data-src=\"https://hp.imguol.com.br/c/home/2b/2018/10/03/erdogan-1538613422106_100x100.jpg\" data-uol-see-later=\"image\" class=\"placeholder_image placeholder_image__headline\" alt=\"\" title=\"Stringer/Getty Images\" aria-label=\"\" tabindex=\"0\" onerror=\"this.remove()\"> </figure> <h2 data-uol-see-later=\"title\" class=\"article_title article_title__news\"> N\\xc3\\xa3o pode haver democracia com imprensa, diz Erdogan </h2> </a> </article> <article data-key=\"9-5-1-chamada\" class=\"headline card news\" data-area=\"noticias\" data-category=\"bloco-editorial-noticias\" data-position=\"coluna-3\" data-label=\"chamada\"> <div class=\"meta\"> <h3 tabindex=\"0\" aria-label=\"assunto da mat\\xc3\\xa9ria\" class=\"meta_kicker color_news\">Crime no interior de SP</h3> <span tabindex=\"0\" aria-label=\"postado h\\xc3\\xa1\" class=\"meta_time\"></span> <span class=\"uol-see-later\" data-service=\"true\"></span> </div> <a data-uol-see-later=\"url\" href=\"https://noticias.uol.com.br/cotidiano/ultimas-noticias/2018/10/03/condenado-por-estuprar-a-cunhada-homem-deixa-a-cadeia-e-mata-a-filha.htm\" class=\"headline_article headline_article__news article\"> <figure class=\"placeholder placeholder_headline \"> <img data-src=\"https://hp.imguol.com.br/c/home/1b/2018/10/03/leticia-tanzi-foi-morta-a-facadas-em-sao-roque-sp-1538595626010_100x100.jpg\" data-uol-see-later=\"image\" class=\"placeholder_image placeholder_image__headline\" alt=\"\" title=\"Reprodu\\xc3\\xa7\\xc3\\xa3o/Facebook\" aria-label=\"\" tabindex=\"0\" onerror=\"this.remove()\"> </figure> <h2 data-uol-see-later=\"title\" class=\"article_title article_title__news\"> Condenado por estuprar cunhada, homem deixa a cadeia e mata a filha </h2> </a> </article> <article data-key=\"9-6-1-chamada\" class=\"headline card news\" data-area=\"noticias\" data-category=\"bloco-editorial-noticias\" data-position=\"coluna-4\" data-label=\"chamada\"> <div class=\"meta\"> <h3 tabindex=\"0\" aria-label=\"assunto da mat\\xc3\\xa9ria\" class=\"meta_kicker color_news\">Encontradas na \\xc3\\x8dndia</h3> <span tabindex=\"0\" aria-label=\"postado h\\xc3\\xa1\" class=\"meta_time\"></span> <span class=\"uol-see-later\" data-service=\"true\"></span> </div> <a data-uol-see-later=\"url\" href=\"https://noticias.uol.com.br/ciencia/ultimas-noticias/bbc/2018/10/03/gravuras-rupestres-recem-descobertas-podem-dar-pistas-sobre-civilizacao-perdida.htm\" class=\"headline_article headline_article__news article\"> <figure class=\"placeholder placeholder_headline \"> <img data-src=\"https://hp.imguol.com.br/c/home/c7/2018/10/03/gravura-1538603472108_100x100.jpg\" data-uol-see-later=\"image\" class=\"placeholder_image placeholder_image__headline\" alt=\"\" title=\"BBC Marathi\" aria-label=\"\" tabindex=\"0\" onerror=\"this.remove()\"> </figure> <h2 data-uol-see-later=\"title\" class=\"article_title article_title__news\"> Gravuras rupestres podem dar pistas sobre civiliza\\xc3\\xa7\\xc3\\xa3o perdida </h2> </a> </article> <article data-key=\"9-7-1-chamada\" class=\"headline card news\" data-area=\"noticias\" data-category=\"bloco-editorial-noticias\" data-position=\"coluna-4\" data-label=\"chamada\"> <div class=\"meta\"> <h3 tabindex=\"0\" aria-label=\"assunto da mat\\xc3\\xa9ria\" class=\"meta_kicker color_news\">Fugindo da crise</h3> <span tabindex=\"0\" aria-label=\"postado h\\xc3\\xa1\" class=\"meta_time\"></span> <span class=\"uol-see-later\" data-service=\"true\"></span> </div> <a data-uol-see-later=\"url\" href=\"https://noticias.uol.com.br/internacional/ultimas-noticias/2018/10/03/governo-emite-14-3-mil-carteiras-de-trabalho-para-venezuelanos.htm\" class=\"headline_article headline_article__news article\"> <h2 data-uol-see-later=\"title\" class=\"article_title article_title__news\"> Brasil emite 14,3 mil carteiras de trabalho para venezuelanos </h2> </a> </article> <article data-key=\"9-8-1-chamada\" class=\"headline card news\" data-area=\"noticias\" data-category=\"bloco-editorial-noticias\" data-position=\"coluna-4\" data-label=\"chamada\"> <div class=\"meta\"> <h3 tabindex=\"0\" aria-label=\"assunto da mat\\xc3\\xa9ria\" class=\"meta_kicker color_news\">Recurso importante</h3> <span tabindex=\"0\" aria-label=\"postado h\\xc3\\xa1\" class=\"meta_time\"></span> <span class=\"uol-see-later\" data-service=\"true\"></span> </div> <a data-uol-see-later=\"url\" href=\"https://tecnologia.uol.com.br/noticias/redacao/2018/10/03/whatsapp-android-youtube-janela-conversa.htm\" class=\"headline_article headline_article__news article\"> <figure class=\"placeholder placeholder_headline \"> <img data-src=\"https://hp.imguol.com.br/c/home/14/2018/10/03/3out2018---imagem-do-site-wabetainfo-mostra-recurso-novo-do-whatsapp-para-youtube-1538603305408_100x100.jpg\" data-uol-see-later=\"image\" class=\"placeholder_image placeholder_image__headline\" alt=\"\" title=\"Reprodu\\xc3\\xa7\\xc3\\xa3o/WABetaInfo\" aria-label=\"\" tabindex=\"0\" onerror=\"this.remove()\"> </figure> <h2 data-uol-see-later=\"title\" class=\"article_title article_title__news\"> YouTube roda no WhatsApp mesmo se voc\\xc3\\xaa muda de conversa </h2> </a> </article> <div data-key=\"10-widget-tailtarget\" class=\"tailtarget card card_gutter loading\"> <h2 class=\"thematicTitle thematicTitle_news \"> <span class=\"thematicTitle_text \">Recomendado para voc\\xc3\\xaa</span> </h2> </div> <div data-key=\"10-advertising\" class=\"advertising card card_withoutBg\"> <div class=\"banner tm-ads lista-ecommerce\" id=\"lista-ecommerce-area\"></div> </div> <div class=\"section card card_withoutBg lifestyle\" data-key=\"11-section\" data-category=\"bloco-editorial-mulher\" data-area=\"mulher\" data-label=\"cabecalho-bloco\" data-position=\"topo-modulo\"> <a href=\"https://universa.uol.com.br/\"> <h2 class=\"sectionTitle borderColor_lifestyle\"> <span class=\"sectionTitle_text\">universa</span> </h2> </a> </div> <article data-key=\"11-1-1-manchete\" class=\"screamer card lifestyle\" data-area=\"mulher\" data-category=\"bloco-editorial-mulher\" data-position=\"coluna-1\" data-label=\"manchete\"> <div class=\"meta\"> <h3 tabindex=\"0\" aria-label=\"assunto da mat\\xc3\\xa9ria\" class=\"meta_kicker color_lifestyle\">Relato de abuso</h3> <span tabindex=\"0\" aria-label=\"postado h\\xc3\\xa1\" class=\"meta_time\"></span> <span class=\"uol-see-later\" data-service=\"true\"></span> </div> <a data-uol-see-later=\"url\" href=\"https://paulosampaio.blogosfera.uol.com.br/2018/10/03/ele-me-mandava-rastejar-dava-socos-e-tapas-no-meu-rosto-diz-modelo/\" class=\"screamer_article screamer_article__lifestyle article\"> <div class=\"article_imageWrapper \"> <figure class=\"placeholder placeholder_screamer retangular\"> <img data-src=\"https://hp.imguol.com.br/c/home/03/2018/10/03/jessica-aronis-1538585729067_300x200.jpg\" data-uol-see-later=\"image\" class=\"placeholder_image placeholder_image__screamer\" alt=\"\" title=\"Acervo pessoal\" aria-label=\"\" tabindex=\"0\" onerror=\"this.remove()\"> </figure> </div> <span class=\"article_credits\">Acervo pessoal</span> <h2 data-uol-see-later=\"title\" class=\"article_title article_title__lifestyle\"> \\'Ele me mandava rastejar, dava socos no meu rosto\\', diz modelo </h2> </a> </article> <article data-key=\"11-2-1-manchete\" class=\"screamer card lifestyle\" data-area=\"mulher\" data-category=\"bloco-editorial-mulher\" data-position=\"coluna-2\" data-label=\"manchete\"> <div class=\"meta\"> <h3 tabindex=\"0\" aria-label=\"assunto da mat\\xc3\\xa9ria\" class=\"meta_kicker color_lifestyle\">Casal falou do relacionamento</h3> <span tabindex=\"0\" aria-label=\"postado h\\xc3\\xa1\" class=\"meta_time\"></span> <span class=\"uol-see-later\" data-service=\"true\"></span> </div> <a data-uol-see-later=\"url\" href=\"https://universa.uol.com.br/noticias/redacao/2018/10/03/rafael-cardoso-diz-que-mari-bridi-se-apaixonou-quando-ele-namorava-outra.htm\" class=\"screamer_article screamer_article__lifestyle article\"> <div class=\"article_imageWrapper \"> <figure class=\"placeholder placeholder_screamer retangular\"> <img data-src=\"https://hp.imguol.com.br/c/home/46/2018/10/03/rafael-cardoso-e-mariana-bridi-1538613776747_300x200.png\" data-uol-see-later=\"image\" class=\"placeholder_image placeholder_image__screamer\" alt=\"\" title=\"Reprodu\\xc3\\xa7\\xc3\\xa3o/Instagram\" aria-label=\"\" tabindex=\"0\" onerror=\"this.remove()\"> </figure> </div> <span class=\"article_credits\">Reprodu\\xc3\\xa7\\xc3\\xa3o/Instagram</span> <h2 data-uol-see-later=\"title\" class=\"article_title article_title__lifestyle\"> Rafael Cardoso diz que namorava quando Mari se apaixonou por ele </h2> </a> </article> <article data-key=\"11-3-1-chamada\" class=\"headline card lifestyle\" data-area=\"mulher\" data-category=\"bloco-editorial-mulher\" data-position=\"coluna-3\" data-label=\"chamada\"> <div class=\"meta\"> <h3 tabindex=\"0\" aria-label=\"assunto da mat\\xc3\\xa9ria\" class=\"meta_kicker color_lifestyle\">Casal Obama trocou declara\\xc3\\xa7\\xc3\\xb5es</h3> <span tabindex=\"0\" aria-label=\"postado h\\xc3\\xa1\" class=\"meta_time\"></span> <span class=\"uol-see-later\" data-service=\"true\"></span> </div> <a data-uol-see-later=\"url\" href=\"https://universa.uol.com.br/noticias/redacao/2018/10/03/michelle-e-barack-obama-comemoram-aniversario-de-casamento-com-declaracoes.htm\" class=\"headline_article headline_article__lifestyle article\"> <figure class=\"placeholder placeholder_headline \"> <img data-src=\"https://hp.imguol.com.br/c/home/3e/2018/10/03/michelle-e-barack-obama-1538613839785_100x100.jpg\" data-uol-see-later=\"image\" class=\"placeholder_image placeholder_image__headline\" alt=\"\" title=\"Mark Wilson/Getty Images\" aria-label=\"\" tabindex=\"0\" onerror=\"this.remove()\"> </figure> <h2 data-uol-see-later=\"title\" class=\"article_title article_title__lifestyle\"> Michelle e Barack celebram anivers\\xc3\\xa1rio de casamento de 26 anos </h2> </a> </article> <article data-key=\"11-4-1-chamada\" class=\"headline card lifestyle\" data-area=\"mulher\" data-category=\"bloco-editorial-mulher\" data-position=\"coluna-4\" data-label=\"chamada\"> <div class=\"meta\"> <h3 tabindex=\"0\" aria-label=\"assunto da mat\\xc3\\xa9ria\" class=\"meta_kicker color_lifestyle\">\\'Pensamento puro\\'</h3> <span tabindex=\"0\" aria-label=\"postado h\\xc3\\xa1\" class=\"meta_time\"></span> <span class=\"uol-see-later\" data-service=\"true\"></span> </div> <a data-uol-see-later=\"url\" href=\"https://universa.uol.com.br/noticias/redacao/2018/10/03/christine-fernandes-posa-de-biquini-aos-50-anos.htm\" class=\"headline_article headline_article__lifestyle article\"> <figure class=\"placeholder placeholder_headline \"> <img data-src=\"https://hp.imguol.com.br/c/home/52/2018/10/03/aos-50-christine-fernandes-posa-de-biquini-e-cita-buda-pensamento-puro-1538594747842_100x100.jpg\" data-uol-see-later=\"image\" class=\"placeholder_image placeholder_image__headline\" alt=\"\" title=\"Reprodu\\xc3\\xa7\\xc3\\xa3o/Instagram\" aria-label=\"\" tabindex=\"0\" onerror=\"this.remove()\"> </figure> <h2 data-uol-see-later=\"title\" class=\"article_title article_title__lifestyle\"> Christine Fernandes curte dia de praia no Rio e fala at\\xc3\\xa9 de Buda </h2> </a> </article> <article data-key=\"11-1-2-chamada\" class=\"headline card lifestyle\" data-area=\"mulher\" data-category=\"bloco-editorial-mulher\" data-position=\"coluna-1\" data-label=\"chamada\"> <div class=\"meta\"> <h3 tabindex=\"0\" aria-label=\"assunto da mat\\xc3\\xa9ria\" class=\"meta_kicker color_lifestyle\">Let It Go!</h3> <span tabindex=\"0\" aria-label=\"postado h\\xc3\\xa1\" class=\"meta_time\"></span> <span class=\"uol-see-later\" data-service=\"true\"></span> </div> <a data-uol-see-later=\"url\" href=\"https://universa.uol.com.br/noticias/redacao/2018/10/03/let-it-go-ensaio-de-casamento-inspirado-em-frozen-existe-e-impressiona.htm\" class=\"headline_article headline_article__lifestyle article\"> <figure class=\"placeholder placeholder_headline \"> <img data-src=\"https://hp.imguol.com.br/c/home/e5/2018/10/03/casamento-inspirado-em-frozen---let-it-go-ensaio-de-casamento-inspirado-em-frozen-existe-e-impressiona-1538594119208_100x100.jpg\" data-uol-see-later=\"image\" class=\"placeholder_image placeholder_image__headline\" alt=\"\" title=\"C Baron Photography\" aria-label=\"\" tabindex=\"0\" onerror=\"this.remove()\"> </figure> <h2 data-uol-see-later=\"title\" class=\"article_title article_title__lifestyle\"> Sim! Ensaio de casamento inspirado em Frozen existe </h2> </a> </article> <article data-key=\"11-2-2-chamada\" class=\"headline card lifestyle\" data-area=\"mulher\" data-category=\"bloco-editorial-mulher\" data-position=\"coluna-2\" data-label=\"chamada\"> <div class=\"meta\"> <h3 tabindex=\"0\" aria-label=\"assunto da mat\\xc3\\xa9ria\" class=\"meta_kicker color_lifestyle\">Semana de Paris</h3> <span tabindex=\"0\" aria-label=\"postado h\\xc3\\xa1\" class=\"meta_time\"></span> <span class=\"uol-see-later\" data-service=\"true\"></span> </div> <a data-uol-see-later=\"url\" href=\"https://glamurama.uol.com.br/paris-fashion-week-estilistas-encontram-a-formula-para-apoiar-libertacao-de-generos/\" class=\"headline_article headline_article__lifestyle article\"> <figure class=\"placeholder placeholder_headline \"> <img data-src=\"https://hp.imguol.com.br/c/home/47/2018/10/03/colecao-de-primaveraverao-19-de-haider-ackerman-1538614006348_100x100.jpg\" data-uol-see-later=\"image\" class=\"placeholder_image placeholder_image__headline\" alt=\"\" title=\"Getty Images\" aria-label=\"\" tabindex=\"0\" onerror=\"this.remove()\"> </figure> <h2 data-uol-see-later=\"title\" class=\"article_title article_title__lifestyle\"> Estilistas acham meio de apoiar a liberta\\xc3\\xa7\\xc3\\xa3o de g\\xc3\\xaaneros </h2> </a> </article> <article data-key=\"11-3-2-chamada\" class=\"headline card lifestyle\" data-area=\"mulher\" data-category=\"bloco-editorial-mulher\" data-position=\"coluna-3\" data-label=\"chamada\"> <div class=\"meta\"> <h3 tabindex=\"0\" aria-label=\"assunto da mat\\xc3\\xa9ria\" class=\"meta_kicker color_lifestyle\">Maternidade</h3> <span tabindex=\"0\" aria-label=\"postado h\\xc3\\xa1\" class=\"meta_time\"></span> <span class=\"uol-see-later\" data-service=\"true\"></span> </div> <a data-uol-see-later=\"url\" href=\"http://caras.uol.com.br/bebe/debora-nascimento-desabafa-sobre-introducao-alimentar-da-filha.phtml\" class=\"headline_article headline_article__lifestyle article\"> <figure class=\"placeholder placeholder_headline \"> <img data-src=\"https://hp.imguol.com.br/c/home/58/2018/06/21/debora-nascimento-amamenta-bella-1529621541847_100x100.jpg\" data-uol-see-later=\"image\" class=\"placeholder_image placeholder_image__headline\" alt=\"\" title=\"Reprodu\\xc3\\xa7\\xc3\\xa3o/Instagram\" aria-label=\"\" tabindex=\"0\" onerror=\"this.remove()\"> </figure> <h2 data-uol-see-later=\"title\" class=\"article_title article_title__lifestyle\"> D. Nascimento cita introdu\\xc3\\xa7\\xc3\\xa3o alimentar da filha: \\'Ciuminho\\' </h2> </a> </article> <article data-key=\"11-4-2-chamada\" class=\"headline card lifestyle\" data-area=\"mulher\" data-category=\"bloco-editorial-mulher\" data-position=\"coluna-4\" data-label=\"chamada\"> <div class=\"meta\"> <h3 tabindex=\"0\" aria-label=\"assunto da mat\\xc3\\xa9ria\" class=\"meta_kicker color_lifestyle\">Op\\xc3\\xa7\\xc3\\xa3o</h3> <span tabindex=\"0\" aria-label=\"postado h\\xc3\\xa1\" class=\"meta_time\"></span> <span class=\"uol-see-later\" data-service=\"true\"></span> </div> <a data-uol-see-later=\"url\" href=\"https://universa.uol.com.br/noticias/redacao/2018/10/03/bella-thorne-exibe-pelos-na-axilas-em-premiere-relembre-outras-famosas.htm\" class=\"headline_article headline_article__lifestyle article\"> <figure class=\"placeholder placeholder_headline \"> <img data-src=\"https://hp.imguol.com.br/c/home/6e/2018/10/03/bella-thorne-exibe-pelos-na-axilas-lembre-outras-famosas-no-lugar-da-gwen-1538593900794_100x100.jpg\" data-uol-see-later=\"image\" class=\"placeholder_image placeholder_image__headline\" alt=\"\" title=\"Getty Images\" aria-label=\"\" tabindex=\"0\" onerror=\"this.remove()\"> </figure> <h2 data-uol-see-later=\"title\" class=\"article_title article_title__lifestyle\"> Bella Thorne exibe pelos na axilas; lembre outras famosas </h2> </a> </article> <div data-key=\"12-widget-horoscopo\" class=\"horoscope card_gutter\" data-category=\"bloco-customizado-mulher\" data-area=\"mulher\"> <section class=\"card widget_horoscope\"> <h2 class=\"thematicTitle thematicTitle_lifestyle \"> <span class=\"thematicTitle_text \">Escolha seu signo</span> </h2> <div class=\"customWidget_center\"> <ul class=\"customWidget customWidget_horoscope\"> <li class=\"customWidget_horoscope__item\"> <a href=\"https://estilo.uol.com.br/horoscopo/aries/horoscopo-do-dia/\" data-id=\"aries\" data-name=\"\\xc3\\x81ries\" title=\"\\xc3\\x81ries\" data-action=\"clique\" data-label=\"selecionar-aries\" data-position=\"item-1\" data-nofollow=\"true\"> <i class=\"icons icons_sign_aries \" aria-label=\"\\xc3\\x81ries\" role=\"button\" tabindex=\"0\"> <svg><use xlink:href=\"#sign_aries\"/></svg> </i> <span class=\"customWidget_horoscope__title\">\\xc3\\x81ries</span> </a> </li> <li class=\"customWidget_horoscope__item\"> <a href=\"https://estilo.uol.com.br/horoscopo/touro/horoscopo-do-dia/\" data-id=\"touro\" data-name=\"Touro\" title=\"Touro\" data-action=\"clique\" data-label=\"selecionar-touro\" data-position=\"item-2\" data-nofollow=\"true\"> <i class=\"icons icons_sign_taurus \" aria-label=\"Touro\" role=\"button\" tabindex=\"0\"> <svg><use xlink:href=\"#sign_taurus\"/></svg> </i> <span class=\"customWidget_horoscope__title\">Touro</span> </a> </li> <li class=\"customWidget_horoscope__item\"> <a href=\"https://estilo.uol.com.br/horoscopo/gemeos/horoscopo-do-dia/\" data-id=\"gemeos\" data-name=\"G\\xc3\\xaameos\" title=\"G\\xc3\\xaameos\" data-action=\"clique\" data-label=\"selecionar-gemeos\" data-position=\"item-3\" data-nofollow=\"true\"> <i class=\"icons icons_sign_gemini \" aria-label=\"G\\xc3\\xaameos\" role=\"button\" tabindex=\"0\"> <svg><use xlink:href=\"#sign_gemini\"/></svg> </i> <span class=\"customWidget_horoscope__title\">G\\xc3\\xaameos</span> </a> </li> <li class=\"customWidget_horoscope__item\"> <a href=\"https://estilo.uol.com.br/horoscopo/cancer/horoscopo-do-dia/\" data-id=\"cancer\" data-name=\"C\\xc3\\xa2ncer\" title=\"C\\xc3\\xa2ncer\" data-action=\"clique\" data-label=\"selecionar-cancer\" data-position=\"item-4\" data-nofollow=\"true\"> <i class=\"icons icons_sign_cancer \" aria-label=\"C\\xc3\\xa2ncer\" role=\"button\" tabindex=\"0\"> <svg><use xlink:href=\"#sign_cancer\"/></svg> </i> <span class=\"customWidget_horoscope__title\">C\\xc3\\xa2ncer</span> </a> </li> <li class=\"customWidget_horoscope__item\"> <a href=\"https://estilo.uol.com.br/horoscopo/leao/horoscopo-do-dia/\" data-id=\"leao\" data-name=\"Le\\xc3\\xa3o\" title=\"Le\\xc3\\xa3o\" data-action=\"clique\" data-label=\"selecionar-leao\" data-position=\"item-5\" data-nofollow=\"true\"> <i class=\"icons icons_sign_leo \" aria-label=\"Le\\xc3\\xa3o\" role=\"button\" tabindex=\"0\"> <svg><use xlink:href=\"#sign_leo\"/></svg> </i> <span class=\"customWidget_horoscope__title\">Le\\xc3\\xa3o</span> </a> </li> <li class=\"customWidget_horoscope__item\"> <a href=\"https://estilo.uol.com.br/horoscopo/virgem/horoscopo-do-dia/\" data-id=\"virgem\" data-name=\"Virgem\" title=\"Virgem\" data-action=\"clique\" data-label=\"selecionar-virgem\" data-position=\"item-6\" data-nofollow=\"true\"> <i class=\"icons icons_sign_virgo \" aria-label=\"Virgem\" role=\"button\" tabindex=\"0\"> <svg><use xlink:href=\"#sign_virgo\"/></svg> </i> <span class=\"customWidget_horoscope__title\">Virgem</span> </a> </li> <li class=\"customWidget_horoscope__item\"> <a href=\"https://estilo.uol.com.br/horoscopo/libra/horoscopo-do-dia/\" data-id=\"libra\" data-name=\"Libra\" title=\"Libra\" data-action=\"clique\" data-label=\"selecionar-libra\" data-position=\"item-7\" data-nofollow=\"true\"> <i class=\"icons icons_sign_libra \" aria-label=\"Libra\" role=\"button\" tabindex=\"0\"> <svg><use xlink:href=\"#sign_libra\"/></svg> </i> <span class=\"customWidget_horoscope__title\">Libra</span> </a> </li> <li class=\"customWidget_horoscope__item\"> <a href=\"https://estilo.uol.com.br/horoscopo/escorpiao/horoscopo-do-dia/\" data-id=\"escorpiao\" data-name=\"Escorpi\\xc3\\xa3o\" title=\"Escorpi\\xc3\\xa3o\" data-action=\"clique\" data-label=\"selecionar-escorpiao\" data-position=\"item-8\" data-nofollow=\"true\"> <i class=\"icons icons_sign_scorpio \" aria-label=\"Escorpi\\xc3\\xa3o\" role=\"button\" tabindex=\"0\"> <svg><use xlink:href=\"#sign_scorpio\"/></svg> </i> <span class=\"customWidget_horoscope__title\">Escorpi\\xc3\\xa3o</span> </a> </li> <li class=\"customWidget_horoscope__item\"> <a href=\"https://estilo.uol.com.br/horoscopo/sagitario/horoscopo-do-dia/\" data-id=\"sagitario\" data-name=\"Sagit\\xc3\\xa1rio\" title=\"Sagit\\xc3\\xa1rio\" data-action=\"clique\" data-label=\"selecionar-sagitario\" data-position=\"item-9\" data-nofollow=\"true\"> <i class=\"icons icons_sign_sagittarius \" aria-label=\"Sagit\\xc3\\xa1rio\" role=\"button\" tabindex=\"0\"> <svg><use xlink:href=\"#sign_sagittarius\"/></svg> </i> <span class=\"customWidget_horoscope__title\">Sagit\\xc3\\xa1rio</span> </a> </li> <li class=\"customWidget_horoscope__item\"> <a href=\"https://estilo.uol.com.br/horoscopo/capricornio/horoscopo-do-dia/\" data-id=\"capricornio\" data-name=\"Capric\\xc3\\xb3rnio\" title=\"Capric\\xc3\\xb3rnio\" data-action=\"clique\" data-label=\"selecionar-capricornio\" data-position=\"item-10\" data-nofollow=\"true\"> <i class=\"icons icons_sign_capricorn \" aria-label=\"Capric\\xc3\\xb3rnio\" role=\"button\" tabindex=\"0\"> <svg><use xlink:href=\"#sign_capricorn\"/></svg> </i> <span class=\"customWidget_horoscope__title\">Capric\\xc3\\xb3rnio</span> </a> </li> <li class=\"customWidget_horoscope__item\"> <a href=\"https://estilo.uol.com.br/horoscopo/aquario/horoscopo-do-dia/\" data-id=\"aquario\" data-name=\"Aqu\\xc3\\xa1rio\" title=\"Aqu\\xc3\\xa1rio\" data-action=\"clique\" data-label=\"selecionar-aquario\" data-position=\"item-11\" data-nofollow=\"true\"> <i class=\"icons icons_sign_aquarius \" aria-label=\"Aqu\\xc3\\xa1rio\" role=\"button\" tabindex=\"0\"> <svg><use xlink:href=\"#sign_aquarius\"/></svg> </i> <span class=\"customWidget_horoscope__title\">Aqu\\xc3\\xa1rio</span> </a> </li> <li class=\"customWidget_horoscope__item\"> <a href=\"https://estilo.uol.com.br/horoscopo/peixes/horoscopo-do-dia/\" data-id=\"peixes\" data-name=\"Peixes\" title=\"Peixes\" data-action=\"clique\" data-label=\"selecionar-peixes\" data-position=\"item-12\" data-nofollow=\"true\"> <i class=\"icons icons_sign_pisces \" aria-label=\"Peixes\" role=\"button\" tabindex=\"0\"> <svg><use xlink:href=\"#sign_pisces\"/></svg> </i> <span class=\"customWidget_horoscope__title\">Peixes</span> </a> </li> </ul> </div> </section> </div> <div class=\"section card card_withoutBg healthly\" data-key=\"13-section\" data-category=\"bloco-editorial-viva-bem\" data-area=\"viva-bem\" data-label=\"cabecalho-bloco\" data-position=\"topo-modulo\"> <a href=\"https://vivabem.uol.com.br/\"> <h2 class=\"sectionTitle borderColor_healthly\"> <span class=\"sectionTitle_text\">VivaBem</span> </h2> </a> </div> <article data-key=\"13-1-1-manchete\" class=\"screamer card healthly\" data-area=\"viva-bem\" data-category=\"bloco-editorial-viva-bem\" data-position=\"coluna-1\" data-label=\"manchete\"> <div class=\"meta\"> <h3 tabindex=\"0\" aria-label=\"assunto da mat\\xc3\\xa9ria\" class=\"meta_kicker color_healthly\">Preocupa\\xc3\\xa7\\xc3\\xa3o entre brasileiros</h3> <span tabindex=\"0\" aria-label=\"postado h\\xc3\\xa1\" class=\"meta_time\"></span> <span class=\"uol-see-later\" data-service=\"true\"></span> </div> <a data-uol-see-later=\"url\" href=\"https://vivabem.uol.com.br/noticias/redacao/2018/10/03/por-que-o-numero-de-pessoas-com-diabetes-cresceu-tanto-no-brasil.htm\" class=\"screamer_article screamer_article__healthly article\"> <div class=\"article_imageWrapper \"> <figure class=\"placeholder placeholder_screamer retangular\"> <img data-src=\"https://hp.imguol.com.br/c/home/c9/2018/10/03/diabetes-1538599815297_300x200.jpg\" data-uol-see-later=\"image\" class=\"placeholder_image placeholder_image__screamer\" alt=\"\" title=\"iStock\" aria-label=\"\" tabindex=\"0\" onerror=\"this.remove()\"> </figure> </div> <span class=\"article_credits\">iStock</span> <h2 data-uol-see-later=\"title\" class=\"article_title article_title__healthly\"> Por que o n\\xc3\\xbamero de pessoas com diabetes cresceu tanto no pa\\xc3\\xads? </h2> </a> </article> <article data-key=\"13-2-1-manchete\" class=\"screamer card healthly\" data-area=\"viva-bem\" data-category=\"bloco-editorial-viva-bem\" data-position=\"coluna-2\" data-label=\"manchete\"> <div class=\"meta\"> <h3 tabindex=\"0\" aria-label=\"assunto da mat\\xc3\\xa9ria\" class=\"meta_kicker color_healthly\">Sopa italiana cl\\xc3\\xa1ssica</h3> <span tabindex=\"0\" aria-label=\"postado h\\xc3\\xa1\" class=\"meta_time\"></span> <span class=\"uol-see-later\" data-service=\"true\"></span> </div> <a data-uol-see-later=\"url\" href=\"https://cheffuncional.blogosfera.uol.com.br/2018/10/03/receita-de-sopa-minestrone-e-caldo-de-carne-caseiro/\" class=\"screamer_article screamer_article__healthly article\"> <div class=\"article_imageWrapper \"> <figure class=\"placeholder placeholder_screamer retangular\"> <img data-src=\"https://hp.imguol.com.br/c/home/78/2018/10/03/minestrone-1538599979815_300x200.jpg\" data-uol-see-later=\"image\" class=\"placeholder_image placeholder_image__screamer\" alt=\"\" title=\"iStock\" aria-label=\"\" tabindex=\"0\" onerror=\"this.remove()\"> </figure> </div> <span class=\"article_credits\">iStock</span> <h2 data-uol-see-later=\"title\" class=\"article_title article_title__healthly\"> Aprenda a fazer receita de sopa minestrone e caldo de carne caseiro </h2> </a> </article> <article data-key=\"13-3-1-chamada\" class=\"headline card healthly\" data-area=\"viva-bem\" data-category=\"bloco-editorial-viva-bem\" data-position=\"coluna-3\" data-label=\"chamada\"> <div class=\"meta\"> <h3 tabindex=\"0\" aria-label=\"assunto da mat\\xc3\\xa9ria\" class=\"meta_kicker color_healthly\">Segundo estudo</h3> <span tabindex=\"0\" aria-label=\"postado h\\xc3\\xa1\" class=\"meta_time\"></span> <span class=\"uol-see-later\" data-service=\"true\"></span> </div> <a data-uol-see-later=\"url\" href=\"https://vivabem.uol.com.br/noticias/redacao/2018/10/03/exercicios-de-forca-podem-ajudar-no-combate-a-obesidade-infantil.htm\" class=\"headline_article headline_article__healthly article\"> <figure class=\"placeholder placeholder_headline \"> <img data-src=\"https://hp.imguol.com.br/c/home/82/2018/10/03/obesidade-1538600329318_100x100.jpg\" data-uol-see-later=\"image\" class=\"placeholder_image placeholder_image__headline\" alt=\"\" title=\"iStock\" aria-label=\"\" tabindex=\"0\" onerror=\"this.remove()\"> </figure> <h2 data-uol-see-later=\"title\" class=\"article_title article_title__healthly\"> Exerc\\xc3\\xadcio de for\\xc3\\xa7a pode ajudar a combater a obesidade infantil </h2> </a> </article> <article data-key=\"13-4-1-chamada\" class=\"headline card healthly\" data-area=\"viva-bem\" data-category=\"bloco-editorial-viva-bem\" data-position=\"coluna-4\" data-label=\"chamada\"> <div class=\"meta\"> <h3 tabindex=\"0\" aria-label=\"assunto da mat\\xc3\\xa9ria\" class=\"meta_kicker color_healthly\">Estudo com 1.600 amostras de saliva</h3> <span tabindex=\"0\" aria-label=\"postado h\\xc3\\xa1\" class=\"meta_time\"></span> <span class=\"uol-see-later\" data-service=\"true\"></span> </div> <a data-uol-see-later=\"url\" href=\"https://doutorjairo.blogosfera.uol.com.br/2018/10/03/mudanca-hormonal-apos-o-parto-pode-indicar-se-pai-sera-dedicado/\" class=\"headline_article headline_article__healthly article\"> <figure class=\"placeholder placeholder_headline \"> <img data-src=\"https://hp.imguol.com.br/c/home/0b/2018/10/03/pai-1538611693855_100x100.jpg\" data-uol-see-later=\"image\" class=\"placeholder_image placeholder_image__headline\" alt=\"\" title=\"Fotolia\" aria-label=\"\" tabindex=\"0\" onerror=\"this.remove()\"> </figure> <h2 data-uol-see-later=\"title\" class=\"article_title article_title__healthly\"> Mudan\\xc3\\xa7a hormonal p\\xc3\\xb3s-parto pode indicar se pai ser\\xc3\\xa1 dedicado </h2> </a> </article> <div class=\"section card card_withoutBg popular\" data-key=\"14-section\" data-category=\"bloco-editorial-viva-bem\" data-area=\"viva-bem\" data-label=\"section\" data-position=\"coluna-unica\"> <h2 class=\"sectionTitle borderColor_popular\"> <span class=\"sectionTitle_text\">Mais lidas</span> </h2> </div> <article data-key=\"14-mais-lidas\" class=\"popular card\"> <ol class=\"orderedList\"> <li class=\"orderedList_item\" data-uol-see-later=\"item\"> <span class=\"uol-see-later\" data-service=\"true\"></span> <a data-uol-see-later=\"url\" href=\"https://www1.folha.uol.com.br/colunas/monicabergamo/2018/10/chance-de-bolsonaro-vencer-no-1o-turno-acende-sinal-amarelo-entre-adversarios.shtml\" class=\"orderedList_item__link\" data-category=\"bloco-editorial-maislidas\" data-area=\"maislidas\" data-label=\"chamada\" data-position=\"item-1\"> Chance de Bolsonaro vencer no 1\\xc2\\xba turno alerta advers\\xc3\\xa1rios </a> </li> <li class=\"orderedList_item\" data-uol-see-later=\"item\"> <span class=\"uol-see-later\" data-service=\"true\"></span> <a data-uol-see-later=\"url\" href=\"https://www1.folha.uol.com.br/poder/2018/10/candidatos-de-dem-e-psd-pedem-voto-em-bolsonaro-e-consolidam-debandada.shtml\" class=\"orderedList_item__link\" data-category=\"bloco-editorial-maislidas\" data-area=\"maislidas\" data-label=\"chamada\" data-position=\"item-2\"> DEM e PSD pedem voto em Bolsonaro e consolidam debandada </a> </li> <li class=\"orderedList_item\" data-uol-see-later=\"item\"> <span class=\"uol-see-later\" data-service=\"true\"></span> <a data-uol-see-later=\"url\" href=\"https://noticias.uol.com.br/politica/eleicoes/2018/noticias/2018/10/03/ciro-ironiza-ausencia-de-bolsonaro-em-debate-e-diz-que-ele-e-nota-de-r-3.htm\" class=\"orderedList_item__link\" data-category=\"bloco-editorial-maislidas\" data-area=\"maislidas\" data-label=\"chamada\" data-position=\"item-3\"> \\'Atestado falso \\xc3\\xa9 crime\\', diz Ciro ao ironizar Bolsonaro por falta em debate </a> </li> <li class=\"orderedList_item\" data-uol-see-later=\"item\"> <span class=\"uol-see-later\" data-service=\"true\"></span> <a data-uol-see-later=\"url\" href=\"https://paulosampaio.blogosfera.uol.com.br/2018/10/03/ele-me-mandava-rastejar-dava-socos-e-tapas-no-meu-rosto-diz-modelo/\" class=\"orderedList_item__link\" data-category=\"bloco-editorial-maislidas\" data-area=\"maislidas\" data-label=\"chamada\" data-position=\"item-4\"> Relato: \\'Ele me mandava rastejar, dava socos no meu rosto\\', diz modelo </a> </li> <li class=\"orderedList_item\" data-uol-see-later=\"item\"> <span class=\"uol-see-later\" data-service=\"true\"></span> <a data-uol-see-later=\"url\" href=\"https://www1.folha.uol.com.br/tv/poder/2018/10/elenao-ajudou-a-formar-onda-bolsonaro-assista.shtml\" class=\"orderedList_item__link\" data-category=\"bloco-editorial-maislidas\" data-area=\"maislidas\" data-label=\"chamada\" data-position=\"item-5\"> An\\xc3\\xa1lise: #EleN\\xc3\\xa3o ajudou a formar a onda Bolsonaro; assista <i class=\"icons icons_player color_prime fill_prime\" aria-label=\"video\" role=\"button\" tabindex=\"0\"> <svg><use xlink:href=\"#player\"/></svg> </i> </a> </li> </ol> </article> <section class=\"uolHost card card_gutter\" data-key=\"15-uolHost\" data-area=\"uol-host\" data-category=\"bloco-editorial-uol-host\" data-position=\"coluna-unica\" data-label=\"chamada\"> <h2 class=\"thematicTitle thematicTitle_host \"> <span class=\"thematicTitle_text thematicTitle_productUOL\"> <i class=\"icons icons_uol_logo \" aria-label=\"Logo do UOL\" role=\"button\" tabindex=\"0\"> <svg><use xlink:href=\"#uol_logo\"/></svg> </i> <i class=\"icons icons_uol \" aria-label=\"UOL\" role=\"button\" tabindex=\"0\"> <svg><use xlink:href=\"#uol\"/></svg> </i> <span class=\\'title_uolHost\\'>host</span></span> </h2> <div class=\"searchTitle host\"> <input aria-label=\"buscar dom\\xc3\\xadnio\" type=\"search\" class=\"searchTitle_search searchTitle_placeholderFixed__search \" placeholder=\"buscar dom\\xc3\\xadnio\"> <button class=\"searchTitle_submit\" aria-label=\"buscar dom\\xc3\\xadnio\"> <i class=\"icons icons_search_magnifier \"> <svg><use xlink:href=\"#search_magnifier\"/></svg> </i> </button> <span class=\"searchTitle_placeholderFixed\">www.</span> </div> <article class=\"articleList\"> <a data-uol-see-later=\"url\" href=\"http://clicklogger.rm.uol.com.br/?prd=16&grp=src:13;chn:0;cpg:Home_UOL_Academia&msr=Cliques%20de%20Origem:1;&oper=11&redir=https://uolhost.uol.com.br/academia/noticias/2014/06/24/quer-conhecer-melhor-seu-cliente-entao-faca-perguntas.html\" data-category=\"\" data-area=\"\" data-label=\"\" data-position=\"item-1\"> <figure class=\"placeholder placeholder_uolHost \"> <img data-src=\"https://hp.imguol.com.br/2014/06/24/quer-conhecer-melhor-seu-cliente-entao-faca-perguntas-1403621535206_80x80.jpg\" data-uol-see-later=\"image\" class=\"placeholder_image placeholder_image__uolHost\" alt=\"\" title=\"Shutterstock\" aria-label=\"\" tabindex=\"0\" onerror=\"this.remove()\"> </figure> <h3 class=\"articleList_title color_host\">EMPREENDEDORISMO</h3> <p data-uol-see-later=\"title\" class=\"articleList_text\">Quer conhecer melhor seu cliente? Ent\\xc3\\xa3o fa\\xc3\\xa7a perguntas</p> <span class=\"uol-see-later\" data-service=\"true\"></span> </a> </article> <article class=\"articleList\"> <a data-uol-see-later=\"url\" href=\"http://clicklogger.rm.uol.com.br/?prd=16&grp=src:13;chn:0;cpg:Home_UOL_Academia&msr=Cliques%20de%20Origem:1;&oper=11&redir=https://uolhost.uol.com.br/academia/downloads/e-books/como-montar-sua-primeira-loja-virtual.html?mktogrp_src=EbookLV_HomeUOL\" data-category=\"\" data-area=\"\" data-label=\"\" data-position=\"item-2\"> <figure class=\"placeholder placeholder_uolHost \"> <img data-src=\"https://hp.imguol.com.br/7e/2017/11/01/ebook-loja-virtuol-1509561703866_80x80.png\" data-uol-see-later=\"image\" class=\"placeholder_image placeholder_image__uolHost\" alt=\"\" title=\"Acervo\" aria-label=\"\" tabindex=\"0\" onerror=\"this.remove()\"> </figure> <h3 class=\"articleList_title color_host\">E-BOOK</h3> <p data-uol-see-later=\"title\" class=\"articleList_text\">Baixe gr\\xc3\\xa1tis e veja como expandir o seu neg\\xc3\\xb3cio com uma loja virtual</p> <span class=\"uol-see-later\" data-service=\"true\"></span> </a> </article> </section> <section class=\"uolDiet card card_gutter\" data-key=\"15-dieta\" data-area=\"dieta\" data-category=\"bloco-editorial-dieta\" data-position=\"coluna-unica\" data-label=\"chamada\"> <h2 class=\"thematicTitle thematicTitle_diet \"> <span class=\"thematicTitle_text thematicTitle_productUOL\"> <i class=\"icons icons_uol_logo \" aria-label=\"Logo do UOL\" role=\"button\" tabindex=\"0\"> <svg><use xlink:href=\"#uol_logo\"/></svg> </i> <i class=\"icons icons_uol \" aria-label=\"UOL\" role=\"button\" tabindex=\"0\"> <svg><use xlink:href=\"#uol\"/></svg> </i> <span class=\\'title_uolDiet\\'>dieta</span></span> </h2> <article class=\"articleList\"> <a data-uol-see-later=\"url\" href=\"http://clicklogger.rm.uol.com.br/?prd=931&grp=src:13;chn:0;cpg:Home_UOL_DIETA&msr=Cliques%20de%20Origem:1&oper=11&redir=https://dieta.uol.com.br/lp/ebook-saia-do-obvio?mktogrp_src=EbookUDReceitas_HomeUOL\" data-category=\"\" data-area=\"\" data-label=\"\" data-position=\"item-1\"> <figure class=\"placeholder placeholder_uolDiet \"> <img data-src=\"https://hp.imguol.com.br/63/2018/06/11/e-book-saia-do-obvio---uol-dieta-1528753342237_80x80.jpg\" data-uol-see-later=\"image\" class=\"placeholder_image placeholder_image__uolDiet\" alt=\"\" title=\"\" aria-label=\"\" tabindex=\"0\" onerror=\"this.remove()\"> </figure> <h3 class=\"articleList_title color_diet\">E-book</h3> <p data-uol-see-later=\"title\" class=\"articleList_text\">Baixe gr\\xc3\\xa1tis e aprenda a comer sem culpa com receitas pr\\xc3\\xa1ticas e saud\\xc3\\xa1veis</p> <span class=\"uol-see-later\" data-service=\"true\"></span> </a> </article> <article class=\"articleList\"> <a data-uol-see-later=\"url\" href=\"http://clicklogger.rm.uol.com.br/?prd=931&grp=src:13;chn:0;cpg:Home_UOL_DIETA&msr=Cliques%20de%20Origem:1&oper=11&redir=https://dieta.uol.com.br/avaliacao\" data-category=\"\" data-area=\"\" data-label=\"\" data-position=\"item-2\"> <figure class=\"placeholder placeholder_uolDiet \"> <img data-src=\"https://hp.imguol.com.br/2012/06/22/avalie-conquistas-se-medindo-fita-metrica-adbome-chapado-1340387558387_80x80.jpg\" data-uol-see-later=\"image\" class=\"placeholder_image placeholder_image__uolDiet\" alt=\"\" title=\"\" aria-label=\"\" tabindex=\"0\" onerror=\"this.remove()\"> </figure> <h3 class=\"articleList_title color_diet\">Calcule seu IMC</h3> <p data-uol-see-later=\"title\" class=\"articleList_text\">Fa\\xc3\\xa7a sua avalia\\xc3\\xa7\\xc3\\xa3o gratuita e comece a emagrecer ainda hoje</p> <span class=\"uol-see-later\" data-service=\"true\"></span> </a> </article> </section> <div data-key=\"19-advertising\" class=\"advertising card card_withoutBg\"> <div class=\"banner\" id=\"banner-320x212-area\"></div> </div> <div data-key=\"18-report\" class=\"report card card_gutter\"> <button class=\"report_button\" ariaName=\"comunicar erro\"> <i class=\"icons icons_report \"> <svg><use xlink:href=\"#report\"/></svg> </i> comunicar erro</button> </div> </main> </div> <footer id=\"footer\" class=\"\"> <p id=\"footer_copyright\">\\xc2\\xa9 UOL 1996-2018</p> <a href=\"\" id=\"footer_webVersion\">VERS\\xc3\\x83O WEB</a> </footer> <div class=\"banner banner_footer\" id=\"banner-320x50-1-area\"></div> <div id=\"banner-300x250-4\"></div> <span class=\"over\"></span> <script src=\"https://www.uol.com.br/camaleao/assets/mobile2017/js/stvd.js?v=1cottb9qg&\"></script> <script src=\"https://www.uol.com.br/camaleao/assets/mobile2017/js/bdvd.js?v=1cottb9qg&\" async></script> <script async src=\"//www.googletagservices.com/tag/js/gpt.js\"></script> <script async src=\"//tm.jsuol.com.br/modules/external/tailtarget/profiles.js\"></script> <script async src=\"//tm.jsuol.com.br/modules/external/tailtarget/t3m/TT-10162-1/CT-10.js\"></script> <script async src=\"//tm.jsuol.com.br/uoltm.js?id=chygcf&v=50\"></script> <link rel=\"stylesheet\" media=\"all\" href=\"https://www.uol.com.br/camaleao/assets/mobile2017/css/min.css?v=1cottb9qg&\"> <script id=\"inline-footer\" type=\"text/javascript\">var _sf_async_config=_sf_async_config||{};_sf_async_config.sections=\"Total UOL Conte\\xc3\\xbado,UOL - Home\";_sf_async_config.authors=\"UOL\";_sf_async_config.autoDetect=false;(function(){function loadChartbeat(){window._sf_endpt=(new Date()).getTime();var e=document.createElement(\"script\");e.setAttribute(\"language\",\"javascript\");e.setAttribute(\"type\",\"text/javascript\");e.setAttribute(\"src\",\"//static.chartbeat.com/js/chartbeat_video.js\");document.body.appendChild(e);}var oldonload=window.onload;window.onload=(typeof window.onload!=\"function\")?loadChartbeat:function(){oldonload();loadChartbeat();};})();(function(h,o,t,j,a,r){h.hj=h.hj||function(){(h.hj.q=h.hj.q||[]).push(arguments);};h._hjSettings={hjid:569021,hjsv:5};a=o.getElementsByTagName(\"head\")[0];r=o.createElement(\"script\");r.async=1;r.src=t+h._hjSettings.hjid+j+h._hjSettings.hjsv;a.appendChild(r);})(window,document,\"//static.hotjar.com/c/hotjar-\",\".js?sv=\");</script> </body> </html>'"
      ]
     },
     "execution_count": 23,
     "metadata": {},
     "output_type": "execute_result"
    }
   ],
   "source": [
    "response.content"
   ]
  },
  {
   "cell_type": "markdown",
   "metadata": {},
   "source": [
    "# Estruturas Condicionais:"
   ]
  },
  {
   "cell_type": "code",
   "execution_count": 24,
   "metadata": {},
   "outputs": [
    {
     "name": "stdout",
     "output_type": "stream",
     "text": [
      "Verdadeiro\n"
     ]
    }
   ],
   "source": [
    "if True:\n",
    "    print(\"Verdadeiro\")"
   ]
  },
  {
   "cell_type": "code",
   "execution_count": 25,
   "metadata": {},
   "outputs": [
    {
     "data": {
      "text/plain": [
       "10"
      ]
     },
     "execution_count": 25,
     "metadata": {},
     "output_type": "execute_result"
    }
   ],
   "source": [
    "a = 10\n",
    "a"
   ]
  },
  {
   "cell_type": "code",
   "execution_count": 26,
   "metadata": {},
   "outputs": [
    {
     "name": "stdout",
     "output_type": "stream",
     "text": [
      "a = 10\n"
     ]
    }
   ],
   "source": [
    "if a>=10:\n",
    "    print(\"a = 10\")"
   ]
  },
  {
   "cell_type": "code",
   "execution_count": 27,
   "metadata": {},
   "outputs": [
    {
     "data": {
      "text/plain": [
       "20"
      ]
     },
     "execution_count": 27,
     "metadata": {},
     "output_type": "execute_result"
    }
   ],
   "source": [
    "b = 20\n",
    "b"
   ]
  },
  {
   "cell_type": "code",
   "execution_count": 28,
   "metadata": {},
   "outputs": [
    {
     "name": "stdout",
     "output_type": "stream",
     "text": [
      "b=20\n"
     ]
    }
   ],
   "source": [
    "if a < 10:\n",
    "    print(\"a=%s\" %(a))\n",
    "\n",
    "elif b > 0:\n",
    "    print(\"b=%s\" %(b))\n",
    "    \n",
    "else:\n",
    "    print(\"Sem Valor\")    "
   ]
  },
  {
   "cell_type": "code",
   "execution_count": 29,
   "metadata": {},
   "outputs": [
    {
     "data": {
      "text/plain": [
       "-0.5"
      ]
     },
     "execution_count": 29,
     "metadata": {},
     "output_type": "execute_result"
    }
   ],
   "source": [
    "b = -0.5\n",
    "b"
   ]
  },
  {
   "cell_type": "code",
   "execution_count": 30,
   "metadata": {},
   "outputs": [
    {
     "name": "stdout",
     "output_type": "stream",
     "text": [
      "Sem Valor\n"
     ]
    }
   ],
   "source": [
    "if a < 10:\n",
    "    print(\"a=%s\" %(a))\n",
    "\n",
    "elif b > 0:\n",
    "    print(\"b=%s\" %(b))\n",
    "    \n",
    "else:\n",
    "    print(\"Sem Valor\")   "
   ]
  },
  {
   "cell_type": "markdown",
   "metadata": {},
   "source": [
    "# Laços e Loops:"
   ]
  },
  {
   "cell_type": "code",
   "execution_count": 31,
   "metadata": {},
   "outputs": [],
   "source": [
    "lista = range(1, 10)"
   ]
  },
  {
   "cell_type": "code",
   "execution_count": 32,
   "metadata": {},
   "outputs": [
    {
     "name": "stdout",
     "output_type": "stream",
     "text": [
      "1\n",
      "2\n",
      "3\n",
      "4\n",
      "5\n",
      "6\n",
      "7\n",
      "8\n",
      "9\n"
     ]
    }
   ],
   "source": [
    "for item in lista:\n",
    "    print(item)"
   ]
  },
  {
   "cell_type": "code",
   "execution_count": 33,
   "metadata": {},
   "outputs": [
    {
     "name": "stdout",
     "output_type": "stream",
     "text": [
      "1\n",
      "2\n",
      "3\n",
      "4\n",
      "5\n",
      "Valor > 5\n",
      "Valor > 5\n",
      "Valor > 5\n",
      "Valor > 5\n"
     ]
    }
   ],
   "source": [
    "for item in lista:\n",
    "    if item <= 5:\n",
    "        print(item)\n",
    "    elif item > 5:\n",
    "        print(\"Valor > %s\" %(5))    "
   ]
  },
  {
   "cell_type": "code",
   "execution_count": 34,
   "metadata": {},
   "outputs": [
    {
     "name": "stdout",
     "output_type": "stream",
     "text": [
      "10\n",
      "9\n",
      "8\n",
      "7\n",
      "6\n",
      "5\n",
      "4\n",
      "3\n",
      "2\n",
      "1\n"
     ]
    }
   ],
   "source": [
    "parada = 10\n",
    "\n",
    "inicio = 0\n",
    "\n",
    "while parada > 0:\n",
    "    print(parada)\n",
    "    parada -= 1"
   ]
  },
  {
   "cell_type": "code",
   "execution_count": 35,
   "metadata": {},
   "outputs": [
    {
     "name": "stdout",
     "output_type": "stream",
     "text": [
      "10\n",
      "9\n",
      "8\n",
      "7\n",
      "6\n",
      "5\n",
      "4\n"
     ]
    }
   ],
   "source": [
    "parada = 10\n",
    "\n",
    "inicio = 0\n",
    "\n",
    "while parada > 0:\n",
    "    print(parada)\n",
    "    parada -= 1\n",
    "    if parada == 3:\n",
    "        break\n",
    "    elif parada == 4:\n",
    "        continue\n",
    "    else:\n",
    "        pass\n",
    "else:\n",
    "    print(\"final\")"
   ]
  },
  {
   "cell_type": "markdown",
   "metadata": {},
   "source": [
    "# Funções:"
   ]
  },
  {
   "cell_type": "code",
   "execution_count": 36,
   "metadata": {},
   "outputs": [],
   "source": [
    "def menor_numero(num_list):\n",
    "    num = num_list[0]\n",
    "    for item in num_list:\n",
    "        if item < num:\n",
    "            num = item\n",
    "    return num"
   ]
  },
  {
   "cell_type": "code",
   "execution_count": 37,
   "metadata": {},
   "outputs": [],
   "source": [
    "def repete_valor(lista, num=2):\n",
    "    return lista*num"
   ]
  },
  {
   "cell_type": "code",
   "execution_count": 38,
   "metadata": {},
   "outputs": [],
   "source": [
    "def numero_par(num):\n",
    "    resto = num % 2\n",
    "    if resto == 0:\n",
    "        return True\n",
    "    else:\n",
    "        return False"
   ]
  },
  {
   "cell_type": "markdown",
   "metadata": {},
   "source": [
    "# List Comprehensions:"
   ]
  },
  {
   "cell_type": "code",
   "execution_count": 39,
   "metadata": {},
   "outputs": [
    {
     "data": {
      "text/plain": [
       "['p', 'a', 'r', 'a', 'l', 'e', 'l', 'e', 'p', 'í', 'p', 'e', 'd', 'o']"
      ]
     },
     "execution_count": 39,
     "metadata": {},
     "output_type": "execute_result"
    }
   ],
   "source": [
    "lista_palavras = []\n",
    "\n",
    "for palavra in \"paralelepípedo\":\n",
    "    lista_palavras.append(palavra)\n",
    "\n",
    "lista_palavras"
   ]
  },
  {
   "cell_type": "code",
   "execution_count": 40,
   "metadata": {},
   "outputs": [
    {
     "data": {
      "text/plain": [
       "['p', 'a', 'r', 'a', 'l', 'e', 'l', 'e', 'p', 'í', 'p', 'e', 'd', 'o']"
      ]
     },
     "execution_count": 40,
     "metadata": {},
     "output_type": "execute_result"
    }
   ],
   "source": [
    "lista_palavras_2 = [palavra for palavra in \"paralelepípedo\"]\n",
    "\n",
    "lista_palavras_2"
   ]
  },
  {
   "cell_type": "code",
   "execution_count": 41,
   "metadata": {},
   "outputs": [
    {
     "data": {
      "text/plain": [
       "'p'"
      ]
     },
     "execution_count": 41,
     "metadata": {},
     "output_type": "execute_result"
    }
   ],
   "source": [
    "lista_palavras_2.pop(10)"
   ]
  },
  {
   "cell_type": "code",
   "execution_count": 42,
   "metadata": {},
   "outputs": [
    {
     "data": {
      "text/plain": [
       "'e'"
      ]
     },
     "execution_count": 42,
     "metadata": {},
     "output_type": "execute_result"
    }
   ],
   "source": [
    "lista_palavras_2.pop(5)"
   ]
  },
  {
   "cell_type": "code",
   "execution_count": 43,
   "metadata": {},
   "outputs": [
    {
     "data": {
      "text/plain": [
       "['p', 'a', 'r', 'a', 'l', 'l', 'e', 'p', 'í', 'e', 'd', 'o']"
      ]
     },
     "execution_count": 43,
     "metadata": {},
     "output_type": "execute_result"
    }
   ],
   "source": [
    "lista_palavras_2"
   ]
  },
  {
   "cell_type": "code",
   "execution_count": 44,
   "metadata": {},
   "outputs": [],
   "source": [
    "lista_numeros = [1,2,3,4,5,6,7,8,9]"
   ]
  },
  {
   "cell_type": "code",
   "execution_count": 45,
   "metadata": {},
   "outputs": [
    {
     "data": {
      "text/plain": [
       "[100, 200, 300, 400, 500, 600, 700, 800, 900]"
      ]
     },
     "execution_count": 45,
     "metadata": {},
     "output_type": "execute_result"
    }
   ],
   "source": [
    "lista_numeros_2 = [num*100 for num in lista_numeros]\n",
    "\n",
    "lista_numeros_2"
   ]
  },
  {
   "cell_type": "code",
   "execution_count": 46,
   "metadata": {},
   "outputs": [
    {
     "data": {
      "text/plain": [
       "[2, 4, 6, 8]"
      ]
     },
     "execution_count": 46,
     "metadata": {},
     "output_type": "execute_result"
    }
   ],
   "source": [
    "lista_numeros_pares = [num for num in lista_numeros if num % 2 == 0]\n",
    "\n",
    "lista_numeros_pares"
   ]
  },
  {
   "cell_type": "code",
   "execution_count": 47,
   "metadata": {},
   "outputs": [
    {
     "data": {
      "text/plain": [
       "[1, 3, 5, 7, 9]"
      ]
     },
     "execution_count": 47,
     "metadata": {},
     "output_type": "execute_result"
    }
   ],
   "source": [
    "lista_numeros_ímpares = [num for num in lista_numeros if num % 2 != 0]\n",
    "\n",
    "lista_numeros_ímpares"
   ]
  },
  {
   "cell_type": "markdown",
   "metadata": {},
   "source": [
    "# Desafio 3"
   ]
  },
  {
   "cell_type": "code",
   "execution_count": 48,
   "metadata": {},
   "outputs": [],
   "source": [
    "def verifica_numero_impar(numero):\n",
    "    resto = numero % 2\n",
    "    if resto == 0:\n",
    "        print(\"número %s é par\" %numero)\n",
    "        return False\n",
    "    else:\n",
    "        print(\"número %s é ímpar\" %numero)\n",
    "        return True"
   ]
  },
  {
   "cell_type": "code",
   "execution_count": 49,
   "metadata": {},
   "outputs": [
    {
     "name": "stdout",
     "output_type": "stream",
     "text": [
      "número 10 é par\n"
     ]
    },
    {
     "data": {
      "text/plain": [
       "False"
      ]
     },
     "execution_count": 49,
     "metadata": {},
     "output_type": "execute_result"
    }
   ],
   "source": [
    "verifica_numero_impar(10)"
   ]
  },
  {
   "cell_type": "code",
   "execution_count": 50,
   "metadata": {},
   "outputs": [
    {
     "name": "stdout",
     "output_type": "stream",
     "text": [
      "número 11 é ímpar\n"
     ]
    },
    {
     "data": {
      "text/plain": [
       "True"
      ]
     },
     "execution_count": 50,
     "metadata": {},
     "output_type": "execute_result"
    }
   ],
   "source": [
    "verifica_numero_impar(11)"
   ]
  },
  {
   "cell_type": "code",
   "execution_count": 51,
   "metadata": {},
   "outputs": [
    {
     "name": "stdout",
     "output_type": "stream",
     "text": [
      "número 1001 é ímpar\n"
     ]
    },
    {
     "data": {
      "text/plain": [
       "True"
      ]
     },
     "execution_count": 51,
     "metadata": {},
     "output_type": "execute_result"
    }
   ],
   "source": [
    "verifica_numero_impar(1001)"
   ]
  },
  {
   "cell_type": "code",
   "execution_count": 52,
   "metadata": {},
   "outputs": [
    {
     "name": "stdout",
     "output_type": "stream",
     "text": [
      "número 2018 é par\n"
     ]
    },
    {
     "data": {
      "text/plain": [
       "False"
      ]
     },
     "execution_count": 52,
     "metadata": {},
     "output_type": "execute_result"
    }
   ],
   "source": [
    "verifica_numero_impar(2018)"
   ]
  },
  {
   "cell_type": "markdown",
   "metadata": {},
   "source": [
    "# Desafio 4"
   ]
  },
  {
   "cell_type": "code",
   "execution_count": 53,
   "metadata": {},
   "outputs": [],
   "source": [
    "l = [1.2232, 2.322, 43.23131, 6.34324, 78.3243]"
   ]
  },
  {
   "cell_type": "code",
   "execution_count": 54,
   "metadata": {},
   "outputs": [],
   "source": [
    "l_rounded = []\n",
    "\n",
    "for num in l:\n",
    "        l_rounded.append(round(num, 2))"
   ]
  },
  {
   "cell_type": "code",
   "execution_count": 55,
   "metadata": {},
   "outputs": [
    {
     "data": {
      "text/plain": [
       "[1.22, 2.32, 43.23, 6.34, 78.32]"
      ]
     },
     "execution_count": 55,
     "metadata": {},
     "output_type": "execute_result"
    }
   ],
   "source": [
    "l_rounded"
   ]
  },
  {
   "cell_type": "code",
   "execution_count": 56,
   "metadata": {},
   "outputs": [],
   "source": [
    "l_rounded = [round(num,2) for num in l]"
   ]
  },
  {
   "cell_type": "code",
   "execution_count": 57,
   "metadata": {},
   "outputs": [
    {
     "data": {
      "text/plain": [
       "[1.22, 2.32, 43.23, 6.34, 78.32]"
      ]
     },
     "execution_count": 57,
     "metadata": {},
     "output_type": "execute_result"
    }
   ],
   "source": [
    "l_rounded"
   ]
  },
  {
   "cell_type": "code",
   "execution_count": 58,
   "metadata": {},
   "outputs": [],
   "source": [
    "l_rounded_2 = [round(num, 1) for num in l]"
   ]
  },
  {
   "cell_type": "code",
   "execution_count": 59,
   "metadata": {},
   "outputs": [
    {
     "data": {
      "text/plain": [
       "[1.2, 2.3, 43.2, 6.3, 78.3]"
      ]
     },
     "execution_count": 59,
     "metadata": {},
     "output_type": "execute_result"
    }
   ],
   "source": [
    "l_rounded_2"
   ]
  },
  {
   "cell_type": "code",
   "execution_count": 60,
   "metadata": {},
   "outputs": [],
   "source": [
    "l_rounded_3 = [round(num, 5) for num in l]"
   ]
  },
  {
   "cell_type": "code",
   "execution_count": 61,
   "metadata": {},
   "outputs": [
    {
     "data": {
      "text/plain": [
       "[1.2232, 2.322, 43.23131, 6.34324, 78.3243]"
      ]
     },
     "execution_count": 61,
     "metadata": {},
     "output_type": "execute_result"
    }
   ],
   "source": [
    "l_rounded_3"
   ]
  },
  {
   "cell_type": "markdown",
   "metadata": {},
   "source": [
    "# Desafio 5"
   ]
  },
  {
   "cell_type": "code",
   "execution_count": 62,
   "metadata": {},
   "outputs": [],
   "source": [
    "import random\n",
    "\n",
    "lista_rand = random.sample(range(0,10000), 10000)"
   ]
  },
  {
   "cell_type": "code",
   "execution_count": 63,
   "metadata": {},
   "outputs": [
    {
     "data": {
      "text/plain": [
       "[9214,\n",
       " 9407,\n",
       " 3482,\n",
       " 2576,\n",
       " 1318,\n",
       " 2055,\n",
       " 850,\n",
       " 8004,\n",
       " 8379,\n",
       " 282,\n",
       " 9631,\n",
       " 931,\n",
       " 5652,\n",
       " 2073,\n",
       " 6580,\n",
       " 1350,\n",
       " 3653,\n",
       " 4085,\n",
       " 2956,\n",
       " 7781,\n",
       " 9781,\n",
       " 4016,\n",
       " 4453,\n",
       " 9922,\n",
       " 9404,\n",
       " 902,\n",
       " 354,\n",
       " 4923,\n",
       " 5649,\n",
       " 2035,\n",
       " 2060,\n",
       " 5293,\n",
       " 5079,\n",
       " 2714,\n",
       " 7015,\n",
       " 30,\n",
       " 2508,\n",
       " 6383,\n",
       " 212,\n",
       " 5795,\n",
       " 1956,\n",
       " 7050,\n",
       " 386,\n",
       " 8576,\n",
       " 7544,\n",
       " 4494,\n",
       " 5327,\n",
       " 547,\n",
       " 192,\n",
       " 2686,\n",
       " 8973,\n",
       " 2150,\n",
       " 2358,\n",
       " 8414,\n",
       " 2018,\n",
       " 3742,\n",
       " 2203,\n",
       " 5741,\n",
       " 7324,\n",
       " 5193,\n",
       " 9695,\n",
       " 4288,\n",
       " 5089,\n",
       " 9103,\n",
       " 2935,\n",
       " 7638,\n",
       " 4211,\n",
       " 4448,\n",
       " 4803,\n",
       " 7886,\n",
       " 9250,\n",
       " 7095,\n",
       " 3604,\n",
       " 4669,\n",
       " 3001,\n",
       " 4356,\n",
       " 1427,\n",
       " 445,\n",
       " 5504,\n",
       " 6989,\n",
       " 7182,\n",
       " 6239,\n",
       " 9034,\n",
       " 6861,\n",
       " 8978,\n",
       " 5412,\n",
       " 9609,\n",
       " 5100,\n",
       " 5395,\n",
       " 1146,\n",
       " 1536,\n",
       " 4302,\n",
       " 3226,\n",
       " 6634,\n",
       " 9565,\n",
       " 4621,\n",
       " 982,\n",
       " 6064,\n",
       " 9277,\n",
       " 1540,\n",
       " 508,\n",
       " 3493,\n",
       " 8825,\n",
       " 2331,\n",
       " 8123,\n",
       " 7457,\n",
       " 8587,\n",
       " 2189,\n",
       " 2943,\n",
       " 6143,\n",
       " 7712,\n",
       " 1952,\n",
       " 7086,\n",
       " 2245,\n",
       " 5074,\n",
       " 5366,\n",
       " 8171,\n",
       " 1885,\n",
       " 6429,\n",
       " 3043,\n",
       " 3234,\n",
       " 6821,\n",
       " 7938,\n",
       " 7479,\n",
       " 3220,\n",
       " 436,\n",
       " 3332,\n",
       " 1127,\n",
       " 6110,\n",
       " 6872,\n",
       " 2557,\n",
       " 7094,\n",
       " 9167,\n",
       " 7772,\n",
       " 8688,\n",
       " 9819,\n",
       " 7548,\n",
       " 5131,\n",
       " 5400,\n",
       " 463,\n",
       " 9259,\n",
       " 2257,\n",
       " 838,\n",
       " 8785,\n",
       " 1739,\n",
       " 312,\n",
       " 7409,\n",
       " 6003,\n",
       " 684,\n",
       " 9589,\n",
       " 3615,\n",
       " 264,\n",
       " 9529,\n",
       " 1670,\n",
       " 3240,\n",
       " 5937,\n",
       " 7870,\n",
       " 5842,\n",
       " 914,\n",
       " 5224,\n",
       " 8925,\n",
       " 6043,\n",
       " 7366,\n",
       " 6764,\n",
       " 3989,\n",
       " 1825,\n",
       " 3157,\n",
       " 780,\n",
       " 9555,\n",
       " 986,\n",
       " 1950,\n",
       " 1624,\n",
       " 2037,\n",
       " 2071,\n",
       " 2328,\n",
       " 643,\n",
       " 7482,\n",
       " 5421,\n",
       " 9141,\n",
       " 9109,\n",
       " 7279,\n",
       " 7747,\n",
       " 6253,\n",
       " 8759,\n",
       " 7102,\n",
       " 613,\n",
       " 4048,\n",
       " 1406,\n",
       " 5891,\n",
       " 6159,\n",
       " 1079,\n",
       " 8271,\n",
       " 3184,\n",
       " 9057,\n",
       " 9953,\n",
       " 8538,\n",
       " 2392,\n",
       " 8837,\n",
       " 7232,\n",
       " 2,\n",
       " 660,\n",
       " 9241,\n",
       " 4981,\n",
       " 693,\n",
       " 7486,\n",
       " 2854,\n",
       " 1925,\n",
       " 7375,\n",
       " 2040,\n",
       " 9678,\n",
       " 9022,\n",
       " 2196,\n",
       " 8683,\n",
       " 5942,\n",
       " 4541,\n",
       " 570,\n",
       " 9612,\n",
       " 13,\n",
       " 3590,\n",
       " 2927,\n",
       " 4828,\n",
       " 4814,\n",
       " 7061,\n",
       " 7163,\n",
       " 4114,\n",
       " 1411,\n",
       " 3012,\n",
       " 9896,\n",
       " 6472,\n",
       " 6139,\n",
       " 979,\n",
       " 2631,\n",
       " 9826,\n",
       " 351,\n",
       " 6801,\n",
       " 7069,\n",
       " 4222,\n",
       " 943,\n",
       " 3283,\n",
       " 2367,\n",
       " 3004,\n",
       " 9367,\n",
       " 2748,\n",
       " 4995,\n",
       " 455,\n",
       " 3115,\n",
       " 5549,\n",
       " 4386,\n",
       " 5849,\n",
       " 9043,\n",
       " 8319,\n",
       " 9138,\n",
       " 8472,\n",
       " 161,\n",
       " 6688,\n",
       " 4369,\n",
       " 2349,\n",
       " 4207,\n",
       " 6388,\n",
       " 377,\n",
       " 5854,\n",
       " 3528,\n",
       " 7650,\n",
       " 5142,\n",
       " 9996,\n",
       " 9486,\n",
       " 1460,\n",
       " 2408,\n",
       " 4569,\n",
       " 4756,\n",
       " 5955,\n",
       " 395,\n",
       " 4548,\n",
       " 6925,\n",
       " 2767,\n",
       " 1144,\n",
       " 1487,\n",
       " 4884,\n",
       " 7460,\n",
       " 834,\n",
       " 4119,\n",
       " 6601,\n",
       " 148,\n",
       " 7180,\n",
       " 2500,\n",
       " 4226,\n",
       " 5106,\n",
       " 5120,\n",
       " 1097,\n",
       " 7174,\n",
       " 6200,\n",
       " 7420,\n",
       " 4434,\n",
       " 8729,\n",
       " 3452,\n",
       " 1544,\n",
       " 9101,\n",
       " 8461,\n",
       " 9618,\n",
       " 7864,\n",
       " 8892,\n",
       " 7968,\n",
       " 6240,\n",
       " 598,\n",
       " 1693,\n",
       " 2696,\n",
       " 4139,\n",
       " 3607,\n",
       " 5290,\n",
       " 4909,\n",
       " 9271,\n",
       " 7186,\n",
       " 2252,\n",
       " 1465,\n",
       " 9172,\n",
       " 3746,\n",
       " 7528,\n",
       " 7315,\n",
       " 7297,\n",
       " 3726,\n",
       " 9081,\n",
       " 1076,\n",
       " 4454,\n",
       " 2727,\n",
       " 5520,\n",
       " 976,\n",
       " 6877,\n",
       " 246,\n",
       " 7059,\n",
       " 3341,\n",
       " 55,\n",
       " 8031,\n",
       " 384,\n",
       " 803,\n",
       " 2862,\n",
       " 5183,\n",
       " 8354,\n",
       " 8959,\n",
       " 8670,\n",
       " 8796,\n",
       " 5064,\n",
       " 7629,\n",
       " 7867,\n",
       " 5431,\n",
       " 7515,\n",
       " 6738,\n",
       " 6820,\n",
       " 3133,\n",
       " 620,\n",
       " 7564,\n",
       " 6611,\n",
       " 2049,\n",
       " 3716,\n",
       " 9260,\n",
       " 8885,\n",
       " 5364,\n",
       " 9717,\n",
       " 9900,\n",
       " 7237,\n",
       " 1751,\n",
       " 6973,\n",
       " 1443,\n",
       " 7399,\n",
       " 1019,\n",
       " 1687,\n",
       " 4184,\n",
       " 2570,\n",
       " 4374,\n",
       " 4769,\n",
       " 6936,\n",
       " 5044,\n",
       " 3976,\n",
       " 78,\n",
       " 2972,\n",
       " 1901,\n",
       " 6256,\n",
       " 2185,\n",
       " 3343,\n",
       " 8509,\n",
       " 3758,\n",
       " 1524,\n",
       " 3248,\n",
       " 6929,\n",
       " 7369,\n",
       " 2303,\n",
       " 7497,\n",
       " 2360,\n",
       " 8896,\n",
       " 6380,\n",
       " 8375,\n",
       " 7853,\n",
       " 8616,\n",
       " 8103,\n",
       " 2794,\n",
       " 683,\n",
       " 8558,\n",
       " 2457,\n",
       " 837,\n",
       " 1753,\n",
       " 4261,\n",
       " 6326,\n",
       " 3142,\n",
       " 1667,\n",
       " 7078,\n",
       " 8447,\n",
       " 8512,\n",
       " 8783,\n",
       " 9782,\n",
       " 8342,\n",
       " 2183,\n",
       " 8623,\n",
       " 159,\n",
       " 6037,\n",
       " 6827,\n",
       " 6209,\n",
       " 8272,\n",
       " 79,\n",
       " 8539,\n",
       " 8972,\n",
       " 802,\n",
       " 2754,\n",
       " 2023,\n",
       " 9500,\n",
       " 5094,\n",
       " 5737,\n",
       " 7016,\n",
       " 5531,\n",
       " 5631,\n",
       " 1547,\n",
       " 3828,\n",
       " 6982,\n",
       " 7294,\n",
       " 3580,\n",
       " 3327,\n",
       " 4459,\n",
       " 6252,\n",
       " 705,\n",
       " 6478,\n",
       " 7018,\n",
       " 9251,\n",
       " 3276,\n",
       " 5516,\n",
       " 5675,\n",
       " 48,\n",
       " 4894,\n",
       " 6,\n",
       " 3336,\n",
       " 7846,\n",
       " 2406,\n",
       " 9784,\n",
       " 1592,\n",
       " 4327,\n",
       " 9294,\n",
       " 1497,\n",
       " 817,\n",
       " 1583,\n",
       " 5296,\n",
       " 4253,\n",
       " 4497,\n",
       " 1822,\n",
       " 3775,\n",
       " 9045,\n",
       " 7929,\n",
       " 9968,\n",
       " 4869,\n",
       " 6535,\n",
       " 5299,\n",
       " 9904,\n",
       " 3126,\n",
       " 8444,\n",
       " 3349,\n",
       " 9570,\n",
       " 5490,\n",
       " 6147,\n",
       " 8442,\n",
       " 5688,\n",
       " 1999,\n",
       " 8733,\n",
       " 3181,\n",
       " 9949,\n",
       " 5924,\n",
       " 953,\n",
       " 8131,\n",
       " 5352,\n",
       " 1991,\n",
       " 9351,\n",
       " 8157,\n",
       " 5521,\n",
       " 1876,\n",
       " 8170,\n",
       " 4711,\n",
       " 1334,\n",
       " 4320,\n",
       " 5726,\n",
       " 3866,\n",
       " 9161,\n",
       " 2249,\n",
       " 5110,\n",
       " 3588,\n",
       " 3108,\n",
       " 2848,\n",
       " 2211,\n",
       " 3025,\n",
       " 1512,\n",
       " 585,\n",
       " 4513,\n",
       " 2526,\n",
       " 4692,\n",
       " 609,\n",
       " 2336,\n",
       " 1967,\n",
       " 9168,\n",
       " 3730,\n",
       " 1635,\n",
       " 7506,\n",
       " 1748,\n",
       " 223,\n",
       " 8304,\n",
       " 9973,\n",
       " 3396,\n",
       " 3949,\n",
       " 894,\n",
       " 5826,\n",
       " 7605,\n",
       " 1542,\n",
       " 8174,\n",
       " 3875,\n",
       " 9657,\n",
       " 3854,\n",
       " 4956,\n",
       " 4106,\n",
       " 1784,\n",
       " 4658,\n",
       " 2254,\n",
       " 1043,\n",
       " 9653,\n",
       " 5039,\n",
       " 8061,\n",
       " 3044,\n",
       " 6184,\n",
       " 6375,\n",
       " 1308,\n",
       " 1356,\n",
       " 2941,\n",
       " 7465,\n",
       " 7199,\n",
       " 6171,\n",
       " 9858,\n",
       " 2646,\n",
       " 3811,\n",
       " 3652,\n",
       " 7932,\n",
       " 9857,\n",
       " 1533,\n",
       " 4195,\n",
       " 3093,\n",
       " 4231,\n",
       " 3846,\n",
       " 9568,\n",
       " 6883,\n",
       " 3156,\n",
       " 5528,\n",
       " 3003,\n",
       " 7120,\n",
       " 2079,\n",
       " 8059,\n",
       " 8802,\n",
       " 277,\n",
       " 5405,\n",
       " 2151,\n",
       " 9576,\n",
       " 5444,\n",
       " 1320,\n",
       " 5943,\n",
       " 3671,\n",
       " 3729,\n",
       " 6508,\n",
       " 8296,\n",
       " 4040,\n",
       " 6687,\n",
       " 2654,\n",
       " 5483,\n",
       " 1634,\n",
       " 7225,\n",
       " 8080,\n",
       " 9179,\n",
       " 8489,\n",
       " 2701,\n",
       " 3661,\n",
       " 2038,\n",
       " 1877,\n",
       " 8648,\n",
       " 3342,\n",
       " 1378,\n",
       " 8172,\n",
       " 9245,\n",
       " 3129,\n",
       " 9647,\n",
       " 5607,\n",
       " 1613,\n",
       " 8614,\n",
       " 5216,\n",
       " 1508,\n",
       " 2276,\n",
       " 4950,\n",
       " 2383,\n",
       " 4942,\n",
       " 5059,\n",
       " 6725,\n",
       " 8854,\n",
       " 3751,\n",
       " 5277,\n",
       " 414,\n",
       " 309,\n",
       " 4757,\n",
       " 2278,\n",
       " 9756,\n",
       " 4860,\n",
       " 8692,\n",
       " 5629,\n",
       " 7987,\n",
       " 4507,\n",
       " 1020,\n",
       " 151,\n",
       " 694,\n",
       " 2489,\n",
       " 4158,\n",
       " 1275,\n",
       " 2179,\n",
       " 1266,\n",
       " 217,\n",
       " 5858,\n",
       " 7808,\n",
       " 5496,\n",
       " 6739,\n",
       " 5555,\n",
       " 8169,\n",
       " 8839,\n",
       " 1413,\n",
       " 6274,\n",
       " 8945,\n",
       " 7754,\n",
       " 7952,\n",
       " 8963,\n",
       " 6547,\n",
       " 8578,\n",
       " 7265,\n",
       " 7498,\n",
       " 5351,\n",
       " 2004,\n",
       " 5974,\n",
       " 1707,\n",
       " 9650,\n",
       " 6365,\n",
       " 7529,\n",
       " 3624,\n",
       " 1829,\n",
       " 6919,\n",
       " 417,\n",
       " 3920,\n",
       " 8000,\n",
       " 7432,\n",
       " 4403,\n",
       " 2974,\n",
       " 4424,\n",
       " 7158,\n",
       " 5374,\n",
       " 7318,\n",
       " 687,\n",
       " 2758,\n",
       " 9394,\n",
       " 4328,\n",
       " 5836,\n",
       " 1298,\n",
       " 5597,\n",
       " 6208,\n",
       " 6066,\n",
       " 8448,\n",
       " 1117,\n",
       " 5129,\n",
       " 7052,\n",
       " 42,\n",
       " 9059,\n",
       " 1107,\n",
       " 3275,\n",
       " 6285,\n",
       " 22,\n",
       " 8951,\n",
       " 5522,\n",
       " 2164,\n",
       " 20,\n",
       " 1964,\n",
       " 6227,\n",
       " 5802,\n",
       " 5353,\n",
       " 9393,\n",
       " 7572,\n",
       " 2449,\n",
       " 5709,\n",
       " 6719,\n",
       " 7444,\n",
       " 163,\n",
       " 7796,\n",
       " 2050,\n",
       " 2850,\n",
       " 4731,\n",
       " 5935,\n",
       " 8018,\n",
       " 9299,\n",
       " 8554,\n",
       " 6570,\n",
       " 8586,\n",
       " 9668,\n",
       " 5295,\n",
       " 5288,\n",
       " 1393,\n",
       " 6983,\n",
       " 5447,\n",
       " 4838,\n",
       " 649,\n",
       " 219,\n",
       " 1235,\n",
       " 2613,\n",
       " 4405,\n",
       " 5614,\n",
       " 8202,\n",
       " 8741,\n",
       " 8657,\n",
       " 9510,\n",
       " 7178,\n",
       " 5389,\n",
       " 7979,\n",
       " 9656,\n",
       " 8238,\n",
       " 6792,\n",
       " 6753,\n",
       " 6630,\n",
       " 9903,\n",
       " 7603,\n",
       " 5747,\n",
       " 9974,\n",
       " 821,\n",
       " 9121,\n",
       " 3981,\n",
       " 9945,\n",
       " 9604,\n",
       " 9018,\n",
       " 5248,\n",
       " 8334,\n",
       " 2992,\n",
       " 476,\n",
       " 895,\n",
       " 5541,\n",
       " 21,\n",
       " 5303,\n",
       " 6270,\n",
       " 7322,\n",
       " 1199,\n",
       " 5068,\n",
       " 607,\n",
       " 2575,\n",
       " 6582,\n",
       " 1082,\n",
       " 996,\n",
       " 8500,\n",
       " 8914,\n",
       " 9788,\n",
       " 8359,\n",
       " 8161,\n",
       " 910,\n",
       " 4174,\n",
       " 6255,\n",
       " 8904,\n",
       " 8098,\n",
       " 4709,\n",
       " 2796,\n",
       " 4679,\n",
       " 5397,\n",
       " 2653,\n",
       " 5274,\n",
       " 280,\n",
       " 2797,\n",
       " 7776,\n",
       " 5951,\n",
       " 9132,\n",
       " 3518,\n",
       " 6698,\n",
       " 1756,\n",
       " 766,\n",
       " 8719,\n",
       " 7916,\n",
       " 6057,\n",
       " 7850,\n",
       " 56,\n",
       " 4042,\n",
       " 521,\n",
       " 9875,\n",
       " 7145,\n",
       " 2054,\n",
       " 3683,\n",
       " 9197,\n",
       " 4426,\n",
       " 5816,\n",
       " 9149,\n",
       " 1319,\n",
       " 6233,\n",
       " 8079,\n",
       " 5656,\n",
       " 6603,\n",
       " 7806,\n",
       " 4421,\n",
       " 6977,\n",
       " 4145,\n",
       " 7543,\n",
       " 4656,\n",
       " 4946,\n",
       " 1656,\n",
       " 9731,\n",
       " 4339,\n",
       " 8752,\n",
       " 7352,\n",
       " 9536,\n",
       " 2364,\n",
       " 2266,\n",
       " 9768,\n",
       " 2889,\n",
       " 493,\n",
       " 4576,\n",
       " 7147,\n",
       " 4811,\n",
       " 5958,\n",
       " 7991,\n",
       " 7087,\n",
       " 3385,\n",
       " 3986,\n",
       " 324,\n",
       " 6413,\n",
       " 6335,\n",
       " 8708,\n",
       " 9994,\n",
       " 9413,\n",
       " 8593,\n",
       " 9525,\n",
       " 134,\n",
       " 1039,\n",
       " 8659,\n",
       " 4677,\n",
       " 6561,\n",
       " 593,\n",
       " 573,\n",
       " 4789,\n",
       " 137,\n",
       " 3318,\n",
       " 7746,\n",
       " 8944,\n",
       " 2936,\n",
       " 5077,\n",
       " 4460,\n",
       " 7915,\n",
       " 1541,\n",
       " 2375,\n",
       " 1657,\n",
       " 3618,\n",
       " 8010,\n",
       " 4856,\n",
       " 4276,\n",
       " 9607,\n",
       " 2694,\n",
       " 8279,\n",
       " 6596,\n",
       " 3572,\n",
       " 1091,\n",
       " 7499,\n",
       " 8058,\n",
       " 9487,\n",
       " 531,\n",
       " 3750,\n",
       " 442,\n",
       " 2069,\n",
       " 2044,\n",
       " 7856,\n",
       " 7574,\n",
       " 273,\n",
       " 600,\n",
       " 7673,\n",
       " 9539,\n",
       " 1576,\n",
       " 1007,\n",
       " 2980,\n",
       " 8407,\n",
       " 229,\n",
       " 6810,\n",
       " 2237,\n",
       " 6027,\n",
       " 4334,\n",
       " 3465,\n",
       " 9833,\n",
       " 1917,\n",
       " 9331,\n",
       " 287,\n",
       " 4521,\n",
       " 1329,\n",
       " 8483,\n",
       " 9694,\n",
       " 4304,\n",
       " 5101,\n",
       " 7264,\n",
       " 8730,\n",
       " 7463,\n",
       " 5297,\n",
       " 5227,\n",
       " 1871,\n",
       " 8964,\n",
       " 1444,\n",
       " 7125,\n",
       " 373,\n",
       " 1678,\n",
       " 1653,\n",
       " 1772,\n",
       " 9932,\n",
       " 4316,\n",
       " 6539,\n",
       " 1776,\n",
       " 3120,\n",
       " 5577,\n",
       " 5510,\n",
       " 6825,\n",
       " 1968,\n",
       " 9744,\n",
       " 6730,\n",
       " 5700,\n",
       " 2339,\n",
       " 8882,\n",
       " 799,\n",
       " 3084,\n",
       " 1933,\n",
       " 5719,\n",
       " 5461,\n",
       " 6664,\n",
       " 7223,\n",
       " 5111,\n",
       " 6373,\n",
       " 6177,\n",
       " 4128,\n",
       " 5029,\n",
       " 7964,\n",
       " 9290,\n",
       " 5278,\n",
       " 426,\n",
       " 3308,\n",
       " 8982,\n",
       " 7336,\n",
       " 468,\n",
       " 9729,\n",
       " 3050,\n",
       " 6432,\n",
       " 8818,\n",
       " 1187,\n",
       " 2807,\n",
       " 1724,\n",
       " 7429,\n",
       " 3180,\n",
       " 2074,\n",
       " 866,\n",
       " 504,\n",
       " 9118,\n",
       " 9551,\n",
       " 7198,\n",
       " 6167,\n",
       " 5481,\n",
       " 8479,\n",
       " 3629,\n",
       " 6957,\n",
       " 794,\n",
       " 2621,\n",
       " 3390,\n",
       " 8564,\n",
       " 4980,\n",
       " 1194,\n",
       " 9928,\n",
       " 9930,\n",
       " 4836,\n",
       " 7858,\n",
       " 313,\n",
       " 2872,\n",
       " 4774,\n",
       " 3870,\n",
       " 9333,\n",
       " 3844,\n",
       " 507,\n",
       " 9252,\n",
       " 8054,\n",
       " 7581,\n",
       " 6077,\n",
       " 7512,\n",
       " 281,\n",
       " 7508,\n",
       " 4941,\n",
       " 3272,\n",
       " 8722,\n",
       " ...]"
      ]
     },
     "execution_count": 63,
     "metadata": {},
     "output_type": "execute_result"
    }
   ],
   "source": [
    "lista_rand"
   ]
  },
  {
   "cell_type": "code",
   "execution_count": 64,
   "metadata": {},
   "outputs": [],
   "source": [
    "def min_max_media(lista):\n",
    "    min = lista[0]\n",
    "    max = lista[1]\n",
    "    soma = 0\n",
    "    \n",
    "    for item in lista:\n",
    "        soma += item\n",
    "        if item > max:\n",
    "            max = item\n",
    "        if item < min:\n",
    "            min = item\n",
    "    \n",
    "    media = soma/len(lista)\n",
    "    \n",
    "    return min, max, media"
   ]
  },
  {
   "cell_type": "code",
   "execution_count": 65,
   "metadata": {},
   "outputs": [
    {
     "data": {
      "text/plain": [
       "(0, 9999, 4999.5)"
      ]
     },
     "execution_count": 65,
     "metadata": {},
     "output_type": "execute_result"
    }
   ],
   "source": [
    "min_max_media(lista_rand)"
   ]
  },
  {
   "cell_type": "markdown",
   "metadata": {},
   "source": [
    "# Desafio 6"
   ]
  },
  {
   "cell_type": "code",
   "execution_count": 66,
   "metadata": {},
   "outputs": [],
   "source": [
    "texto = \"Brasil, oficialmente República Federativa do Brasil é o maior país da América do Sul e da região da América Latina, sendo o quinto maior do mundo em área territorial (equivalente a 47 porcento do território sul-americano) e sexto em população (com mais de 200 milhões de habitantes). É o único país na América onde se fala majoritariamente a língua portuguesa e o maior país lusófono do planeta, além de ser uma das nações mais multiculturais e etnicamente diversas, em decorrência da forte imigração oriunda de variados locais do mundo.\""
   ]
  },
  {
   "cell_type": "code",
   "execution_count": 67,
   "metadata": {},
   "outputs": [
    {
     "data": {
      "text/plain": [
       "'Brasil, oficialmente República Federativa do Brasil é o maior país da América do Sul e da região da América Latina, sendo o quinto maior do mundo em área territorial (equivalente a 47 porcento do território sul-americano) e sexto em população (com mais de 200 milhões de habitantes). É o único país na América onde se fala majoritariamente a língua portuguesa e o maior país lusófono do planeta, além de ser uma das nações mais multiculturais e etnicamente diversas, em decorrência da forte imigração oriunda de variados locais do mundo.'"
      ]
     },
     "execution_count": 67,
     "metadata": {},
     "output_type": "execute_result"
    }
   ],
   "source": [
    "texto"
   ]
  },
  {
   "cell_type": "code",
   "execution_count": 68,
   "metadata": {},
   "outputs": [],
   "source": [
    "def obter_info_texto(texto):\n",
    "    \n",
    "    palavras = [palavra for palavra in texto.split(\" \") if palavra.isalpha()]\n",
    "    numeros = [palavra for palavra in texto.split(\" \") if palavra.isdigit()]\n",
    "    frases = [palavra for palavra in texto.split(\".\") ]\n",
    "    \n",
    "    retorno = {\"palavras\": [len(palavras), palavras], \"numeros\": [len(numeros), numeros], \n",
    "               \"frases\" : [len(frases) -1, frases] }\n",
    "    \n",
    "    return retorno\n"
   ]
  },
  {
   "cell_type": "code",
   "execution_count": 69,
   "metadata": {},
   "outputs": [
    {
     "data": {
      "text/plain": [
       "{'palavras': [78,\n",
       "  ['oficialmente',\n",
       "   'República',\n",
       "   'Federativa',\n",
       "   'do',\n",
       "   'Brasil',\n",
       "   'é',\n",
       "   'o',\n",
       "   'maior',\n",
       "   'país',\n",
       "   'da',\n",
       "   'América',\n",
       "   'do',\n",
       "   'Sul',\n",
       "   'e',\n",
       "   'da',\n",
       "   'região',\n",
       "   'da',\n",
       "   'América',\n",
       "   'sendo',\n",
       "   'o',\n",
       "   'quinto',\n",
       "   'maior',\n",
       "   'do',\n",
       "   'mundo',\n",
       "   'em',\n",
       "   'área',\n",
       "   'territorial',\n",
       "   'a',\n",
       "   'porcento',\n",
       "   'do',\n",
       "   'território',\n",
       "   'e',\n",
       "   'sexto',\n",
       "   'em',\n",
       "   'população',\n",
       "   'mais',\n",
       "   'de',\n",
       "   'milhões',\n",
       "   'de',\n",
       "   'É',\n",
       "   'o',\n",
       "   'único',\n",
       "   'país',\n",
       "   'na',\n",
       "   'América',\n",
       "   'onde',\n",
       "   'se',\n",
       "   'fala',\n",
       "   'majoritariamente',\n",
       "   'a',\n",
       "   'língua',\n",
       "   'portuguesa',\n",
       "   'e',\n",
       "   'o',\n",
       "   'maior',\n",
       "   'país',\n",
       "   'lusófono',\n",
       "   'do',\n",
       "   'além',\n",
       "   'de',\n",
       "   'ser',\n",
       "   'uma',\n",
       "   'das',\n",
       "   'nações',\n",
       "   'mais',\n",
       "   'multiculturais',\n",
       "   'e',\n",
       "   'etnicamente',\n",
       "   'em',\n",
       "   'decorrência',\n",
       "   'da',\n",
       "   'forte',\n",
       "   'imigração',\n",
       "   'oriunda',\n",
       "   'de',\n",
       "   'variados',\n",
       "   'locais',\n",
       "   'do']],\n",
       " 'numeros': [2, ['47', '200']],\n",
       " 'frases': [2,\n",
       "  ['Brasil, oficialmente República Federativa do Brasil é o maior país da América do Sul e da região da América Latina, sendo o quinto maior do mundo em área territorial (equivalente a 47 porcento do território sul-americano) e sexto em população (com mais de 200 milhões de habitantes)',\n",
       "   ' É o único país na América onde se fala majoritariamente a língua portuguesa e o maior país lusófono do planeta, além de ser uma das nações mais multiculturais e etnicamente diversas, em decorrência da forte imigração oriunda de variados locais do mundo',\n",
       "   '']]}"
      ]
     },
     "execution_count": 69,
     "metadata": {},
     "output_type": "execute_result"
    }
   ],
   "source": [
    "obter_info_texto(texto)"
   ]
  },
  {
   "cell_type": "code",
   "execution_count": null,
   "metadata": {},
   "outputs": [],
   "source": []
  }
 ],
 "metadata": {
  "kernelspec": {
   "display_name": "Python 3",
   "language": "python",
   "name": "python3"
  },
  "language_info": {
   "codemirror_mode": {
    "name": "ipython",
    "version": 3
   },
   "file_extension": ".py",
   "mimetype": "text/x-python",
   "name": "python",
   "nbconvert_exporter": "python",
   "pygments_lexer": "ipython3",
   "version": "3.6.5"
  }
 },
 "nbformat": 4,
 "nbformat_minor": 2
}
